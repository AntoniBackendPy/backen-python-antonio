{
 "cells": [
  {
   "cell_type": "code",
   "execution_count": null,
   "id": "cd0025e6",
   "metadata": {},
   "outputs": [
    {
     "name": "stdout",
     "output_type": "stream",
     "text": [
      "Introduce la base (bin, oct, hex, o dec): bin\n",
      "Opciones: \n",
      "\n",
      "1. Suma\n",
      "2. Resta\n",
      "3. Multiplicación\n",
      "4. División\n",
      "5. Potencia\n",
      "6. Salir\n",
      "Elige una opción (1/2/3/4/5/6): 11\n",
      "Opcion no valida\n",
      "Introduce la base (bin, oct, hex, o dec): bin\n",
      "Opciones: \n",
      "\n",
      "1. Suma\n",
      "2. Resta\n",
      "3. Multiplicación\n",
      "4. División\n",
      "5. Potencia\n",
      "6. Salir\n",
      "Elige una opción (1/2/3/4/5/6): 1\n",
      "Introduce el primer número:  11\n",
      "Introduce el segundo número: 0\n",
      "el resultado de la suma de:  11  +  0 es:  3\n",
      "Introduce la base (bin, oct, hex, o dec): hex\n",
      "Opciones: \n",
      "\n",
      "1. Suma\n",
      "2. Resta\n",
      "3. Multiplicación\n",
      "4. División\n",
      "5. Potencia\n",
      "6. Salir\n",
      "Elige una opción (1/2/3/4/5/6): 2\n",
      "Introduce el primer número:  1\n",
      "Introduce el segundo número: 1\n",
      "el resultado de la resta de:  1  -  1 es:  0\n",
      "Introduce la base (bin, oct, hex, o dec): bin\n",
      "Opciones: \n",
      "\n",
      "1. Suma\n",
      "2. Resta\n",
      "3. Multiplicación\n",
      "4. División\n",
      "5. Potencia\n",
      "6. Salir\n",
      "Elige una opción (1/2/3/4/5/6): 5\n",
      "Introduce el primer número:  11\n",
      "Introduce el segundo número: 1\n",
      "11 Elevado a la  1 es gual a:  3\n"
     ]
    }
   ],
   "source": [
    "def function_base(base,opcion,num1, num2):\n",
    "    if base == 'bin':\n",
    "        numero1 = int(num1, 2)\n",
    "        numero2 = int(num2, 2)\n",
    "    elif base == 'oct':\n",
    "        numero1 = int(num1, 8)\n",
    "        numero2 = int(num2, 8)\n",
    "    elif base == 'hex':\n",
    "        numero1 = int(num1, 16)\n",
    "        numero2 = int(num2, 16)\n",
    "    else:\n",
    "        numero1 = float(num1)\n",
    "        numero2 = float(num2)\n",
    "        \n",
    "        \n",
    "    if opcion == '1':\n",
    "        resultado = numero1 + numero2\n",
    "    elif opcion == '2':\n",
    "        resultado = numero1 - numero2\n",
    "    elif opcion == '3':\n",
    "        resultado = numero1 * numero2\n",
    "    elif opcion == '4':\n",
    "        resultado = numero1 / numero2\n",
    "    elif opcion == '5':\n",
    "        resultado = numero1 ** numero2\n",
    "    else:\n",
    "        resultado = \"Operador no válido\"\n",
    "\n",
    "    return resultado\n",
    "\n",
    "while True:\n",
    "    base = input(\"Introduce la base (bin, oct, hex, o dec): \")\n",
    "    print(\"Opciones: \\n\")\n",
    "    print(\"1. Suma\")\n",
    "    print(\"2. Resta\")\n",
    "    print(\"3. Multiplicación\")\n",
    "    print(\"4. División\")\n",
    "    print(\"5. Potencia\")\n",
    "    print(\"6. Salir\")\n",
    "  \n",
    "    \n",
    "    \n",
    "    opcion = input(\"Elige una opción (1/2/3/4/5/6): \")\n",
    "    \n",
    "    \n",
    "    if opcion=='6':\n",
    "        print(\"Saliendo de la calculadora\")\n",
    "        break\n",
    "    if opcion not in('1','2','3','4','5','6'):\n",
    "        print(\"Opcion no valida\")\n",
    "    \n",
    "        continue\n",
    "    \n",
    "    num1= input(\"Introduce el primer número:  \")\n",
    "    num2= input(\"Introduce el segundo número: \")\n",
    "    resultado=function_base(base,opcion,num1,num2)\n",
    "   \n",
    "    if opcion=='1':\n",
    "        \n",
    "        print(\"el resultado de la suma de: \",num1,\" + \",num2,\"es: \",resultado)\n",
    "    if opcion=='2':\n",
    "        print(\"el resultado de la resta de: \",num1,\" - \",num2,\"es: \",resultado)\n",
    "    if opcion=='3':       \n",
    "        print(\"el resultado de la multiplicacicion de: \",num1,\" * \",num2,\"es: \",resultado)    \n",
    "    if opcion=='4':     \n",
    "        print(\"el resultado de la division de: \",num1,\" / \",num2,\"es: \",resultado)    \n",
    "    if opcion=='5': \n",
    "        print(num1,\"Elevado a la \",num2,\"es gual a: \",resultado)\n",
    "    \n",
    "    \n",
    "\n",
    "        \n",
    "    \n",
    "        \n",
    "        \n",
    "    "
   ]
  },
  {
   "cell_type": "code",
   "execution_count": 44,
   "id": "9c34bd7c",
   "metadata": {
    "scrolled": true
   },
   "outputs": [
    {
     "name": "stdout",
     "output_type": "stream",
     "text": [
      "Introduce la base (bin, oct, hex, o dec): bin\n"
     ]
    },
    {
     "ename": "KeyboardInterrupt",
     "evalue": "Interrupted by user",
     "output_type": "error",
     "traceback": [
      "\u001b[1;31m---------------------------------------------------------------------------\u001b[0m",
      "\u001b[1;31mKeyboardInterrupt\u001b[0m                         Traceback (most recent call last)",
      "Cell \u001b[1;32mIn[44], line 32\u001b[0m\n\u001b[0;32m     29\u001b[0m     \u001b[38;5;28;01mreturn\u001b[39;00m resultado\n\u001b[0;32m     31\u001b[0m base \u001b[38;5;241m=\u001b[39m \u001b[38;5;28minput\u001b[39m(\u001b[38;5;124m\"\u001b[39m\u001b[38;5;124mIntroduce la base (bin, oct, hex, o dec): \u001b[39m\u001b[38;5;124m\"\u001b[39m)\n\u001b[1;32m---> 32\u001b[0m operador \u001b[38;5;241m=\u001b[39m \u001b[38;5;28minput\u001b[39m(\u001b[38;5;124m\"\u001b[39m\u001b[38;5;124mIntroduce el operador (+, -, *, /): \u001b[39m\u001b[38;5;124m\"\u001b[39m)\n\u001b[0;32m     33\u001b[0m numero1 \u001b[38;5;241m=\u001b[39m \u001b[38;5;28minput\u001b[39m(\u001b[38;5;124m\"\u001b[39m\u001b[38;5;124mIntroduce el primer número: \u001b[39m\u001b[38;5;124m\"\u001b[39m)\n\u001b[0;32m     34\u001b[0m numero2 \u001b[38;5;241m=\u001b[39m \u001b[38;5;28minput\u001b[39m(\u001b[38;5;124m\"\u001b[39m\u001b[38;5;124mIntroduce el segundo número: \u001b[39m\u001b[38;5;124m\"\u001b[39m)\n",
      "File \u001b[1;32mC:\\ProgramData\\anaconda3\\Lib\\site-packages\\ipykernel\\kernelbase.py:1202\u001b[0m, in \u001b[0;36mKernel.raw_input\u001b[1;34m(self, prompt)\u001b[0m\n\u001b[0;32m   1200\u001b[0m     msg \u001b[38;5;241m=\u001b[39m \u001b[38;5;124m\"\u001b[39m\u001b[38;5;124mraw_input was called, but this frontend does not support input requests.\u001b[39m\u001b[38;5;124m\"\u001b[39m\n\u001b[0;32m   1201\u001b[0m     \u001b[38;5;28;01mraise\u001b[39;00m StdinNotImplementedError(msg)\n\u001b[1;32m-> 1202\u001b[0m \u001b[38;5;28;01mreturn\u001b[39;00m \u001b[38;5;28mself\u001b[39m\u001b[38;5;241m.\u001b[39m_input_request(\n\u001b[0;32m   1203\u001b[0m     \u001b[38;5;28mstr\u001b[39m(prompt),\n\u001b[0;32m   1204\u001b[0m     \u001b[38;5;28mself\u001b[39m\u001b[38;5;241m.\u001b[39m_parent_ident[\u001b[38;5;124m\"\u001b[39m\u001b[38;5;124mshell\u001b[39m\u001b[38;5;124m\"\u001b[39m],\n\u001b[0;32m   1205\u001b[0m     \u001b[38;5;28mself\u001b[39m\u001b[38;5;241m.\u001b[39mget_parent(\u001b[38;5;124m\"\u001b[39m\u001b[38;5;124mshell\u001b[39m\u001b[38;5;124m\"\u001b[39m),\n\u001b[0;32m   1206\u001b[0m     password\u001b[38;5;241m=\u001b[39m\u001b[38;5;28;01mFalse\u001b[39;00m,\n\u001b[0;32m   1207\u001b[0m )\n",
      "File \u001b[1;32mC:\\ProgramData\\anaconda3\\Lib\\site-packages\\ipykernel\\kernelbase.py:1245\u001b[0m, in \u001b[0;36mKernel._input_request\u001b[1;34m(self, prompt, ident, parent, password)\u001b[0m\n\u001b[0;32m   1242\u001b[0m \u001b[38;5;28;01mexcept\u001b[39;00m \u001b[38;5;167;01mKeyboardInterrupt\u001b[39;00m:\n\u001b[0;32m   1243\u001b[0m     \u001b[38;5;66;03m# re-raise KeyboardInterrupt, to truncate traceback\u001b[39;00m\n\u001b[0;32m   1244\u001b[0m     msg \u001b[38;5;241m=\u001b[39m \u001b[38;5;124m\"\u001b[39m\u001b[38;5;124mInterrupted by user\u001b[39m\u001b[38;5;124m\"\u001b[39m\n\u001b[1;32m-> 1245\u001b[0m     \u001b[38;5;28;01mraise\u001b[39;00m \u001b[38;5;167;01mKeyboardInterrupt\u001b[39;00m(msg) \u001b[38;5;28;01mfrom\u001b[39;00m \u001b[38;5;28;01mNone\u001b[39;00m\n\u001b[0;32m   1246\u001b[0m \u001b[38;5;28;01mexcept\u001b[39;00m \u001b[38;5;167;01mException\u001b[39;00m:\n\u001b[0;32m   1247\u001b[0m     \u001b[38;5;28mself\u001b[39m\u001b[38;5;241m.\u001b[39mlog\u001b[38;5;241m.\u001b[39mwarning(\u001b[38;5;124m\"\u001b[39m\u001b[38;5;124mInvalid Message:\u001b[39m\u001b[38;5;124m\"\u001b[39m, exc_info\u001b[38;5;241m=\u001b[39m\u001b[38;5;28;01mTrue\u001b[39;00m)\n",
      "\u001b[1;31mKeyboardInterrupt\u001b[0m: Interrupted by user"
     ]
    }
   ],
   "source": [
    "\n"
   ]
  },
  {
   "cell_type": "code",
   "execution_count": null,
   "id": "65505518",
   "metadata": {},
   "outputs": [],
   "source": []
  },
  {
   "cell_type": "code",
   "execution_count": null,
   "id": "62b739f3",
   "metadata": {},
   "outputs": [],
   "source": []
  }
 ],
 "metadata": {
  "kernelspec": {
   "display_name": "Python 3 (ipykernel)",
   "language": "python",
   "name": "python3"
  },
  "language_info": {
   "codemirror_mode": {
    "name": "ipython",
    "version": 3
   },
   "file_extension": ".py",
   "mimetype": "text/x-python",
   "name": "python",
   "nbconvert_exporter": "python",
   "pygments_lexer": "ipython3",
   "version": "3.11.5"
  }
 },
 "nbformat": 4,
 "nbformat_minor": 5
}
