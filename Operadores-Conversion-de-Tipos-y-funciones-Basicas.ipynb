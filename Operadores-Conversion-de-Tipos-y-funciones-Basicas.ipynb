{
 "cells": [
  {
   "cell_type": "markdown",
   "id": "4c646c96",
   "metadata": {},
   "source": [
    "# Operadores y Tipos de Operadores"
   ]
  },
  {
   "cell_type": "markdown",
   "id": "1a46dcdd",
   "metadata": {},
   "source": [
    "¿Qué son los operadores?\n",
    "- Son un conjunto de símbolos para un lenguaje de programación\n",
    "- Pueden decirle al compilador o intérprete que ejecute ciertas acciónes para producir un resultado final\n",
    "- Pueden ser usados para aplicar operaciones en variables o valores \n",
    "- Pueden ser clasificado según su tipo (aritmetícos, relacionales, de asignación, lógicos, afiliación y de identidad)\n"
   ]
  },
  {
   "cell_type": "markdown",
   "id": "8713232b",
   "metadata": {},
   "source": [
    "Tipos de operadores \n",
    "- Aritmetícos\n",
    "- Relacioanales\n",
    "- lógicos\n",
    "- De Afiliación\n",
    "- De Identidad\n"
   ]
  },
  {
   "cell_type": "markdown",
   "id": "7d21127b",
   "metadata": {},
   "source": [
    "### Operadores Aritmetícos\n",
    "- \"+\": Suma\n",
    "- \"-\": Resta\n",
    "- \"*\": Multipilicación\n",
    "- \"/\": División\n",
    "- \"//\": División Especial donde el redondeo se hace hacia abajo\n",
    "- \"**\": Exponente\n"
   ]
  },
  {
   "cell_type": "code",
   "execution_count": 1,
   "id": "97b9992a",
   "metadata": {},
   "outputs": [
    {
     "name": "stdout",
     "output_type": "stream",
     "text": [
      "El resultado de num_1 + num_2 es igual:  800\n"
     ]
    }
   ],
   "source": [
    "# \"+\" : Suma\n",
    "num_1 = 500\n",
    "num_2  = 300\n",
    "print(\"El resultado de num_1 + num_2 es igual: \",num_1+num_2)"
   ]
  },
  {
   "cell_type": "code",
   "execution_count": 2,
   "id": "3a3fea9c",
   "metadata": {},
   "outputs": [
    {
     "name": "stdout",
     "output_type": "stream",
     "text": [
      "El resultado de num_1 + num_2 es igual:  1100\n"
     ]
    }
   ],
   "source": [
    "# \"+\" : Suma\n",
    "num_1 = 200\n",
    "num_2  = 900\n",
    "print(\"El resultado de num_1 + num_2 es igual: \",num_1+num_2)"
   ]
  },
  {
   "cell_type": "code",
   "execution_count": 3,
   "id": "77d3f83e",
   "metadata": {},
   "outputs": [
    {
     "name": "stdout",
     "output_type": "stream",
     "text": [
      "El resultado de num_1 - num_2 es igual:  200\n"
     ]
    }
   ],
   "source": [
    "# \"-\" : Resta\n",
    "num_1 = 500\n",
    "num_2  = 300\n",
    "print(\"El resultado de num_1 - num_2 es igual: \",num_1-num_2)"
   ]
  },
  {
   "cell_type": "code",
   "execution_count": 4,
   "id": "0984bc6e",
   "metadata": {},
   "outputs": [
    {
     "name": "stdout",
     "output_type": "stream",
     "text": [
      "El resultado de num_1 - num_2 es igual:  -700\n"
     ]
    }
   ],
   "source": [
    "# \"-\" : Resta\n",
    "num_1 = 200\n",
    "num_2  = 900\n",
    "print(\"El resultado de num_1 - num_2 es igual: \",num_1-num_2)"
   ]
  },
  {
   "cell_type": "code",
   "execution_count": 5,
   "id": "ebcf6be2",
   "metadata": {},
   "outputs": [
    {
     "name": "stdout",
     "output_type": "stream",
     "text": [
      "El resultado de num_1 * num_2 es igual:  150000\n"
     ]
    }
   ],
   "source": [
    "# \"*\" : Multiplicación\n",
    "num_1 = 500\n",
    "num_2  = 300\n",
    "print(\"El resultado de num_1 * num_2 es igual: \",num_1*num_2)"
   ]
  },
  {
   "cell_type": "code",
   "execution_count": 6,
   "id": "ed38b122",
   "metadata": {},
   "outputs": [
    {
     "name": "stdout",
     "output_type": "stream",
     "text": [
      "El resultado de num_1 * num_2 es igual:  180000\n"
     ]
    }
   ],
   "source": [
    "# \"*\" : Multiplicación \n",
    "num_1 = 200\n",
    "num_2  = 900\n",
    "print(\"El resultado de num_1 * num_2 es igual: \",num_1*num_2)"
   ]
  },
  {
   "cell_type": "code",
   "execution_count": 7,
   "id": "f02b44d5",
   "metadata": {},
   "outputs": [
    {
     "name": "stdout",
     "output_type": "stream",
     "text": [
      "El resultado de num_1 / num_2 es igual:  1.6666666666666667\n"
     ]
    }
   ],
   "source": [
    "# \"/\" : División\n",
    "num_1 = 500\n",
    "num_2  = 300\n",
    "print(\"El resultado de num_1 / num_2 es igual: \",num_1/num_2)"
   ]
  },
  {
   "cell_type": "code",
   "execution_count": 8,
   "id": "a0cc3770",
   "metadata": {},
   "outputs": [
    {
     "name": "stdout",
     "output_type": "stream",
     "text": [
      "El resultado de num_1 / num_2 es igual:  0.2222222222222222\n"
     ]
    }
   ],
   "source": [
    "# \"/\" : División\n",
    "num_1 = 200\n",
    "num_2  = 900\n",
    "print(\"El resultado de num_1 / num_2 es igual: \",num_1/num_2)"
   ]
  },
  {
   "cell_type": "code",
   "execution_count": 9,
   "id": "cefa1f72",
   "metadata": {},
   "outputs": [
    {
     "name": "stdout",
     "output_type": "stream",
     "text": [
      "El resultado de num_1 // num_2 es igual:  1\n"
     ]
    }
   ],
   "source": [
    "# \"//\" : División especial se redondea hacia abajo, la parte entera del resultado\n",
    "num_1 = 500\n",
    "num_2  = 300\n",
    "print(\"El resultado de num_1 // num_2 es igual: \",num_1//num_2)"
   ]
  },
  {
   "cell_type": "code",
   "execution_count": 12,
   "id": "18e18658",
   "metadata": {},
   "outputs": [
    {
     "name": "stdout",
     "output_type": "stream",
     "text": [
      "El resultado de num_1 // num_2 es igual:  0\n"
     ]
    }
   ],
   "source": [
    "# \"//\" : División especial se redondea hacia abajo, la parte entera del resultado\n",
    "num_1 = 200\n",
    "num_2  = 900\n",
    "print(\"El resultado de num_1 // num_2 es igual: \",num_1//num_2)"
   ]
  },
  {
   "cell_type": "code",
   "execution_count": 14,
   "id": "ded4cb0c",
   "metadata": {},
   "outputs": [
    {
     "name": "stdout",
     "output_type": "stream",
     "text": [
      "El resultado de num_1 ** num_2 es igual:  32\n"
     ]
    }
   ],
   "source": [
    "# \"**\" : Exponente(elevar a un exponente)\n",
    "num_1 = 2\n",
    "num_2  = 5\n",
    "print(\"El resultado de num_1 ** num_2 es igual: \",num_1**num_2) # 2*2*2*2*2"
   ]
  },
  {
   "cell_type": "code",
   "execution_count": 16,
   "id": "f34946ec",
   "metadata": {},
   "outputs": [
    {
     "name": "stdout",
     "output_type": "stream",
     "text": [
      "El resultado de num_1 ** num_2 es igual:  27\n"
     ]
    }
   ],
   "source": [
    "# \"**\" : Exponente(elevar a un exponente)\n",
    "num_1 = 3\n",
    "num_2  = 3\n",
    "print(\"El resultado de num_1 ** num_2 es igual: \",num_1**num_2) # 3*3*3"
   ]
  },
  {
   "cell_type": "markdown",
   "id": "30bba705",
   "metadata": {},
   "source": [
    "### Operadores Relacionales"
   ]
  },
  {
   "cell_type": "markdown",
   "id": "8f442e1e",
   "metadata": {},
   "source": [
    "¿Qué son los operadores relacionales?\n",
    "- Son también conocidos como Operadores de comparación\n",
    "- Regresan un valor boleano (Verdader/ Falso)\n",
    "- En Python son usados para comparar o relacionar los valores\n",
    "- Verdadero/True, es el resultado cuando la condición es exitosa\n",
    "- Falso/False, es el resultado cuando la condición no se cumple\n",
    "- Estos operadores se encargan de las operaciones de comparación\n"
   ]
  },
  {
   "cell_type": "markdown",
   "id": "64cde7ab",
   "metadata": {},
   "source": [
    "Tipos de Operadores Relacionaels\n",
    "- \"==\": igual a\n",
    "- \"!=\": si es diferente a\n",
    "- \">\": mayor que otro\n",
    "- \">=\": mayor o igual que\n",
    "- \"<\": menor que\n",
    "- \"<=\": menor o igual que\n",
    " "
   ]
  },
  {
   "cell_type": "code",
   "execution_count": 18,
   "id": "2fa86720",
   "metadata": {},
   "outputs": [],
   "source": [
    "# \"==\": igual a\n"
   ]
  },
  {
   "cell_type": "code",
   "execution_count": 19,
   "id": "4838fefb",
   "metadata": {},
   "outputs": [
    {
     "name": "stdout",
     "output_type": "stream",
     "text": [
      "El resultado de num_1 == num_2 es:  False\n"
     ]
    }
   ],
   "source": [
    "num_1 = 570 # asignación\n",
    "num_2 = 420\n",
    "print(\"El resultado de num_1 == num_2 es: \",num_1==num_2)"
   ]
  },
  {
   "cell_type": "code",
   "execution_count": 20,
   "id": "339a2b4a",
   "metadata": {},
   "outputs": [
    {
     "name": "stdout",
     "output_type": "stream",
     "text": [
      "El resultado de num_1 == num_2 es:  True\n"
     ]
    }
   ],
   "source": [
    "num_1 = 570 # asignación\n",
    "num_2 = 570\n",
    "print(\"El resultado de num_1 == num_2 es: \",num_1==num_2)"
   ]
  },
  {
   "cell_type": "code",
   "execution_count": 22,
   "id": "7222a516",
   "metadata": {},
   "outputs": [
    {
     "name": "stdout",
     "output_type": "stream",
     "text": [
      "El resultado srt_1 ==srt_2 es:  True\n"
     ]
    }
   ],
   "source": [
    "srt_1 = \"Backend Python\" # Asignación\n",
    "srt_2 = \"Backend Python\"\n",
    "print(\"El resultado srt_1 ==srt_2 es: \",srt_1==srt_2)"
   ]
  },
  {
   "cell_type": "code",
   "execution_count": 23,
   "id": "6f98b197",
   "metadata": {},
   "outputs": [],
   "source": [
    "# \"!=\": si es diferente a"
   ]
  },
  {
   "cell_type": "code",
   "execution_count": 24,
   "id": "bd7eb190",
   "metadata": {},
   "outputs": [
    {
     "name": "stdout",
     "output_type": "stream",
     "text": [
      "El resultado de num_1 != num_2 es:  True\n"
     ]
    }
   ],
   "source": [
    "num_1 = 570 # asignación\n",
    "num_2 = 420\n",
    "print(\"El resultado de num_1 != num_2 es: \",num_1!=num_2)"
   ]
  },
  {
   "cell_type": "code",
   "execution_count": 25,
   "id": "a1ad197c",
   "metadata": {},
   "outputs": [
    {
     "name": "stdout",
     "output_type": "stream",
     "text": [
      "El resultado de num_1 != num_2 es:  False\n"
     ]
    }
   ],
   "source": [
    "num_1 = 570 # asignación\n",
    "num_2 = 570\n",
    "print(\"El resultado de num_1 != num_2 es: \",num_1!=num_2)"
   ]
  },
  {
   "cell_type": "code",
   "execution_count": 26,
   "id": "b7820d06",
   "metadata": {},
   "outputs": [
    {
     "name": "stdout",
     "output_type": "stream",
     "text": [
      "El resultado srt_1 !=srt_2 es:  False\n"
     ]
    }
   ],
   "source": [
    "srt_1 = \"Backend Python\" # Asignación\n",
    "srt_2 = \"Backend Python\"\n",
    "print(\"El resultado srt_1 !=srt_2 es: \",srt_1!=srt_2)"
   ]
  },
  {
   "cell_type": "code",
   "execution_count": 27,
   "id": "8e9068ca",
   "metadata": {},
   "outputs": [
    {
     "name": "stdout",
     "output_type": "stream",
     "text": [
      "El resultado srt_1 !=srt_2 es:  True\n"
     ]
    }
   ],
   "source": [
    "srt_1 = \"Backend Python\" # Asignación\n",
    "srt_2 = \"Backend python\"\n",
    "print(\"El resultado srt_1 !=srt_2 es: \",srt_1!=srt_2)"
   ]
  },
  {
   "cell_type": "code",
   "execution_count": 28,
   "id": "9a3ff01e",
   "metadata": {},
   "outputs": [],
   "source": [
    "#\">\": mayor que otro"
   ]
  },
  {
   "cell_type": "code",
   "execution_count": 29,
   "id": "ce9e44d8",
   "metadata": {},
   "outputs": [
    {
     "name": "stdout",
     "output_type": "stream",
     "text": [
      "El resultado de num_1 > num_2 es:  True\n"
     ]
    }
   ],
   "source": [
    "num_1 = 570 # asignación\n",
    "num_2 = 420\n",
    "print(\"El resultado de num_1 > num_2 es: \",num_1>num_2)"
   ]
  },
  {
   "cell_type": "code",
   "execution_count": 31,
   "id": "8bdb76c1",
   "metadata": {},
   "outputs": [
    {
     "name": "stdout",
     "output_type": "stream",
     "text": [
      "El resultado de num_1 > num_2 es:  False\n"
     ]
    }
   ],
   "source": [
    "num_1 = 570 # asignación\n",
    "num_2 = 570\n",
    "print(\"El resultado de num_1 > num_2 es: \",num_1>num_2)"
   ]
  },
  {
   "cell_type": "code",
   "execution_count": 33,
   "id": "27dcad4e",
   "metadata": {},
   "outputs": [
    {
     "name": "stdout",
     "output_type": "stream",
     "text": [
      "El resultado de num_1 > num_2 es:  False\n"
     ]
    }
   ],
   "source": [
    "num_1 = 570 # asignación\n",
    "num_2 = 890\n",
    "print(\"El resultado de num_1 > num_2 es: \",num_1>num_2)"
   ]
  },
  {
   "cell_type": "code",
   "execution_count": 34,
   "id": "105ceb79",
   "metadata": {},
   "outputs": [],
   "source": [
    "#\">=\": mayor o igual que"
   ]
  },
  {
   "cell_type": "code",
   "execution_count": 37,
   "id": "2a2c0152",
   "metadata": {},
   "outputs": [
    {
     "name": "stdout",
     "output_type": "stream",
     "text": [
      "El resultado de num_1 >= num_2 es:  True\n"
     ]
    }
   ],
   "source": [
    "num_1 = 570 # asignación\n",
    "num_2 = 420\n",
    "print(\"El resultado de num_1 >= num_2 es: \",num_1>=num_2)"
   ]
  },
  {
   "cell_type": "code",
   "execution_count": 38,
   "id": "70344ac7",
   "metadata": {},
   "outputs": [
    {
     "name": "stdout",
     "output_type": "stream",
     "text": [
      "El resultado de num_1 >= num_2 es:  True\n"
     ]
    }
   ],
   "source": [
    "num_1 = 570 # asignación\n",
    "num_2 = 570\n",
    "print(\"El resultado de num_1 >= num_2 es: \",num_1>=num_2)"
   ]
  },
  {
   "cell_type": "code",
   "execution_count": 39,
   "id": "12c47e2e",
   "metadata": {},
   "outputs": [
    {
     "name": "stdout",
     "output_type": "stream",
     "text": [
      "El resultado de num_1 >= num_2 es:  False\n"
     ]
    }
   ],
   "source": [
    "num_1 = 570 # asignación\n",
    "num_2 = 890\n",
    "print(\"El resultado de num_1 >= num_2 es: \",num_1>=num_2)"
   ]
  },
  {
   "cell_type": "code",
   "execution_count": 40,
   "id": "3d0bc662",
   "metadata": {},
   "outputs": [],
   "source": [
    "#\"<\": menor que"
   ]
  },
  {
   "cell_type": "code",
   "execution_count": 42,
   "id": "5fae92b0",
   "metadata": {},
   "outputs": [
    {
     "name": "stdout",
     "output_type": "stream",
     "text": [
      "El resultado de num_1 < num_2 es:  False\n"
     ]
    }
   ],
   "source": [
    "num_1 = 570 # asignación\n",
    "num_2 = 420\n",
    "print(\"El resultado de num_1 < num_2 es: \",num_1<num_2)"
   ]
  },
  {
   "cell_type": "code",
   "execution_count": 43,
   "id": "39b7a292",
   "metadata": {},
   "outputs": [
    {
     "name": "stdout",
     "output_type": "stream",
     "text": [
      "El resultado de num_1 < num_2 es:  False\n"
     ]
    }
   ],
   "source": [
    "num_1 = 570 # asignación\n",
    "num_2 = 570\n",
    "print(\"El resultado de num_1 < num_2 es: \",num_1<num_2)"
   ]
  },
  {
   "cell_type": "code",
   "execution_count": 44,
   "id": "124f9fa4",
   "metadata": {},
   "outputs": [
    {
     "name": "stdout",
     "output_type": "stream",
     "text": [
      "El resultado de num_1 < num_2 es:  True\n"
     ]
    }
   ],
   "source": [
    "num_1 = 570 # asignación\n",
    "num_2 = 920\n",
    "print(\"El resultado de num_1 < num_2 es: \",num_1<num_2)"
   ]
  },
  {
   "cell_type": "code",
   "execution_count": 45,
   "id": "ead2e094",
   "metadata": {},
   "outputs": [],
   "source": [
    "#\"<=\": menor o igual que"
   ]
  },
  {
   "cell_type": "code",
   "execution_count": 46,
   "id": "b351532b",
   "metadata": {},
   "outputs": [
    {
     "name": "stdout",
     "output_type": "stream",
     "text": [
      "El resultado de num_1 <= num_2 es:  False\n"
     ]
    }
   ],
   "source": [
    "num_1 = 570 # asignación\n",
    "num_2 = 420\n",
    "print(\"El resultado de num_1 <= num_2 es: \",num_1<=num_2)"
   ]
  },
  {
   "cell_type": "code",
   "execution_count": 47,
   "id": "1db42391",
   "metadata": {},
   "outputs": [
    {
     "name": "stdout",
     "output_type": "stream",
     "text": [
      "El resultado de num_1 <= num_2 es:  True\n"
     ]
    }
   ],
   "source": [
    "num_1 = 570 # asignación\n",
    "num_2 = 570\n",
    "print(\"El resultado de num_1 <= num_2 es: \",num_1<=num_2)"
   ]
  },
  {
   "cell_type": "code",
   "execution_count": 48,
   "id": "1e926d73",
   "metadata": {},
   "outputs": [
    {
     "name": "stdout",
     "output_type": "stream",
     "text": [
      "El resultado de num_1 <= num_2 es:  True\n"
     ]
    }
   ],
   "source": [
    "num_1 = 570 # asignación\n",
    "num_2 = 920\n",
    "print(\"El resultado de num_1 <= num_2 es: \",num_1<=num_2)"
   ]
  },
  {
   "cell_type": "markdown",
   "id": "a4a75ea9",
   "metadata": {},
   "source": [
    "### Operadores de Asignación"
   ]
  },
  {
   "cell_type": "markdown",
   "id": "9da7bb8d",
   "metadata": {},
   "source": [
    "¿Qué son los operadores de asignación?\n",
    "- En Python son usados para asignar valores a variables\n",
    "- Incluyen al operador de asignación que es el signo igual(=)\n"
   ]
  },
  {
   "cell_type": "markdown",
   "id": "e8eb2e7a",
   "metadata": {},
   "source": [
    "Tipos de Operadores de Asignación: \n",
    "- \"=\": Operador de Asignación\n",
    "- \"+=\": Sumar y Asignar\n",
    "- \"-=\": Restar y Asignar\n",
    "- \"*=\": Multiplicar y Asignar\n",
    "- \"/=\": Dividir y Asignar\n",
    "- \"//=\" Dividir con redondeo hacia abajo y Asignar\n",
    "- \"%=\": Módulo y Asignar\n",
    "- \"**=\": Exponente y Asignar\n",
    "    "
   ]
  },
  {
   "cell_type": "code",
   "execution_count": 50,
   "id": "0217b535",
   "metadata": {},
   "outputs": [],
   "source": [
    "#\"=\": Operador de Asignación"
   ]
  },
  {
   "cell_type": "code",
   "execution_count": 51,
   "id": "aa01a5ec",
   "metadata": {},
   "outputs": [],
   "source": [
    "num_1= 20\n",
    "mum_2= 3\n"
   ]
  },
  {
   "cell_type": "code",
   "execution_count": 52,
   "id": "4e414a4d",
   "metadata": {},
   "outputs": [],
   "source": [
    "#\"+=\": Sumar y Asignar"
   ]
  },
  {
   "cell_type": "code",
   "execution_count": 59,
   "id": "26b48c34",
   "metadata": {},
   "outputs": [
    {
     "name": "stdout",
     "output_type": "stream",
     "text": [
      "num_1 ante de la operación:  20\n",
      "num_1 despues de la operación:  23\n"
     ]
    }
   ],
   "source": [
    "num_1= 20\n",
    "num_2= 3\n",
    "print(\"num_1 ante de la operación: \", num_1)\n",
    "num_1+= num_2 # num_1=num1 + num_2\n",
    "print(\"num_1 despues de la operación: \",num_1)"
   ]
  },
  {
   "cell_type": "code",
   "execution_count": 60,
   "id": "6eeda111",
   "metadata": {},
   "outputs": [
    {
     "name": "stdout",
     "output_type": "stream",
     "text": [
      "num_1 ante de la operación:  20\n",
      "num_1 despues de la operación:  17\n"
     ]
    }
   ],
   "source": [
    "num_1= 20\n",
    "num_2= 3\n",
    "print(\"num_1 ante de la operación: \", num_1)\n",
    "num_1-= num_2 # num_1=num1 + num_2\n",
    "print(\"num_1 despues de la operación: \",num_1)"
   ]
  },
  {
   "cell_type": "code",
   "execution_count": 61,
   "id": "eda4c822",
   "metadata": {},
   "outputs": [
    {
     "name": "stdout",
     "output_type": "stream",
     "text": [
      "num_1 ante de la operación:  20\n",
      "num_1 despues de la operación:  60\n"
     ]
    }
   ],
   "source": [
    "num_1= 20\n",
    "num_2= 3\n",
    "print(\"num_1 ante de la operación: \", num_1)\n",
    "num_1*= num_2 # num_1=num1 * num_2\n",
    "print(\"num_1 despues de la operación: \",num_1)"
   ]
  },
  {
   "cell_type": "code",
   "execution_count": 62,
   "id": "ba43f567",
   "metadata": {},
   "outputs": [
    {
     "name": "stdout",
     "output_type": "stream",
     "text": [
      "num_1 ante de la operación:  20\n",
      "num_1 despues de la operación:  6.666666666666667\n"
     ]
    }
   ],
   "source": [
    "num_1= 20\n",
    "num_2= 3\n",
    "print(\"num_1 ante de la operación: \", num_1)\n",
    "num_1/= num_2 # num_1=num1 / num_2\n",
    "print(\"num_1 despues de la operación: \",num_1)"
   ]
  },
  {
   "cell_type": "code",
   "execution_count": 65,
   "id": "e0f95a77",
   "metadata": {},
   "outputs": [
    {
     "name": "stdout",
     "output_type": "stream",
     "text": [
      "num_1 ante de la operación:  20\n",
      "num_1 despues de la operación:  6\n"
     ]
    }
   ],
   "source": [
    "num_1= 20\n",
    "num_2= 3\n",
    "print(\"num_1 ante de la operación: \", num_1)\n",
    "num_1//= num_2 # num_1=num1 // num_2\n",
    "print(\"num_1 despues de la operación: \",num_1)"
   ]
  },
  {
   "cell_type": "code",
   "execution_count": 68,
   "id": "34165784",
   "metadata": {},
   "outputs": [
    {
     "name": "stdout",
     "output_type": "stream",
     "text": [
      "num_1 ante de la operación:  20\n",
      "num_1 despues de la operación:  2\n"
     ]
    }
   ],
   "source": [
    "# %- Módulo- El Número que queda despues de haber dividido o el residuo\n",
    "num_1= 20\n",
    "num_2= 3\n",
    "print(\"num_1 ante de la operación: \", num_1)\n",
    "num_1%= num_2 # num_1=num1 % num_2\n",
    "print(\"num_1 despues de la operación: \",num_1)"
   ]
  },
  {
   "cell_type": "code",
   "execution_count": 72,
   "id": "847bbc99",
   "metadata": {},
   "outputs": [
    {
     "name": "stdout",
     "output_type": "stream",
     "text": [
      "num_1 ante de la operación:  20\n",
      "num_1 despues de la operación:  8000\n"
     ]
    }
   ],
   "source": [
    "# %- Módulo- El Número que queda despues de haber dividido o el residuo\n",
    "num_1= 20\n",
    "num_2= 3\n",
    "print(\"num_1 ante de la operación: \", num_1)\n",
    "num_1**= num_2 # num_1=num1 ** num_2\n",
    "print(\"num_1 despues de la operación: \",num_1)"
   ]
  },
  {
   "cell_type": "markdown",
   "id": "492b805c",
   "metadata": {},
   "source": [
    "### Operadores Lógicos"
   ]
  },
  {
   "cell_type": "markdown",
   "id": "e582b3a0",
   "metadata": {},
   "source": [
    "¿Qué son los Operadores Lógicos?\n",
    "- Son usados principalmente para declaraciones condicionales\n",
    "- Son indicadores estructurales\n",
    "- También se les conoce como Conectores Lógicos\n",
    "- Hay 3 tipos de Operaciones Lógicos:\n",
    "    - AND (y) - regresa True/Verdadero si ambas operaciones son verdaderas\n",
    "    - OR (o) -  regresa False/ Verdadero si por lo menos una de las operaciones es verdadera\n",
    "    - NOT (lo opuesto) - regresa Tue/Verdader si la operaciones es False/Falso\n",
    "    \n"
   ]
  },
  {
   "cell_type": "code",
   "execution_count": null,
   "id": "8d36826a",
   "metadata": {},
   "outputs": [],
   "source": [
    "# and\n",
    "# todas las condiciones deben de ser Verdaderas"
   ]
  },
  {
   "cell_type": "code",
   "execution_count": 74,
   "id": "da46ee9b",
   "metadata": {},
   "outputs": [
    {
     "name": "stdout",
     "output_type": "stream",
     "text": [
      "num_1 <= num_2 and num_1 != num_2 True\n"
     ]
    }
   ],
   "source": [
    "num_1 = 11\n",
    "num_2 = 55\n",
    "# num_1 <= num_2:  True/ Verdadero\n",
    "# num_1!= num_2: True/ Verdero\n",
    "\n",
    "print(\"num_1 <= num_2 and num_1 != num_2\", num_1 <= num_2 and num_1 != num_2)"
   ]
  },
  {
   "cell_type": "code",
   "execution_count": 1,
   "id": "a6489938",
   "metadata": {},
   "outputs": [
    {
     "name": "stdout",
     "output_type": "stream",
     "text": [
      "num_1 <= num_2 and num_1 != num_2 False\n"
     ]
    }
   ],
   "source": [
    "num_1 = 11\n",
    "num_2 = 11\n",
    "# num_1 <= num_2:  True/ Verdadero\n",
    "# num_1!= num_2: False/ Falso \n",
    "print(\"num_1 <= num_2 and num_1 != num_2\", num_1 <= num_2 and num_1 != num_2)"
   ]
  },
  {
   "cell_type": "code",
   "execution_count": 3,
   "id": "daf0812f",
   "metadata": {},
   "outputs": [
    {
     "name": "stdout",
     "output_type": "stream",
     "text": [
      "num_1 <= num_2 and num_1 != num_2 and num_1> 10 True\n"
     ]
    }
   ],
   "source": [
    "num_1 = 11\n",
    "num_2 = 55\n",
    "# num_1 <= num_2:  True/ Verdadero\n",
    "# num_1!= num_2: True/  Verdadero\n",
    "# num_1 > 10: True/ Verdero \n",
    "print(\"num_1 <= num_2 and num_1 != num_2 and num_1> 10\", num_1 <= num_2 and num_1 != num_2 and num_1 > 10)"
   ]
  },
  {
   "cell_type": "code",
   "execution_count": 4,
   "id": "bc54f8bb",
   "metadata": {},
   "outputs": [
    {
     "name": "stdout",
     "output_type": "stream",
     "text": [
      "num_1 <= num_2 and num_1 != num_2 and num_1> 10 False\n"
     ]
    }
   ],
   "source": [
    "num_1 = 11\n",
    "num_2 = 11\n",
    "# num_1 <= num_2:True/ Verdadero\n",
    "# num_1!= num_2:False/ Falso\n",
    "# num_1 > 10:True/ Verdadero \n",
    "print(\"num_1 <= num_2 and num_1 != num_2 and num_1> 10\", num_1 <= num_2 and num_1 != num_2 and num_1 > 10)"
   ]
  },
  {
   "cell_type": "code",
   "execution_count": null,
   "id": "78627065",
   "metadata": {},
   "outputs": [],
   "source": [
    "# OR (o). con  que una de las condiciones se cumpla regresa True"
   ]
  },
  {
   "cell_type": "code",
   "execution_count": 6,
   "id": "ccd872c0",
   "metadata": {},
   "outputs": [
    {
     "name": "stdout",
     "output_type": "stream",
     "text": [
      "num_1 <= num_2 and num_1 != num_2 True\n"
     ]
    }
   ],
   "source": [
    "num_1 = 11\n",
    "num_2 = 55\n",
    "# num_1 <= num_2:  True/ Verdadero\n",
    "# num_1!= num_2: True/ Verdero\n",
    "\n",
    "print(\"num_1 <= num_2 and num_1 != num_2\", num_1 <= num_2 or num_1 != num_2)"
   ]
  },
  {
   "cell_type": "code",
   "execution_count": 7,
   "id": "f3f11653",
   "metadata": {},
   "outputs": [
    {
     "name": "stdout",
     "output_type": "stream",
     "text": [
      "num_1 <= num_2 and num_1 != num_2 True\n"
     ]
    }
   ],
   "source": [
    "num_1 = 11\n",
    "num_2 = 11\n",
    "# num_1 <= num_2:  True/ Verdadero\n",
    "# num_1!= num_2: True/ Verdero\n",
    "\n",
    "print(\"num_1 <= num_2 or num_1 != num_2\", num_1 <= num_2 or num_1 != num_2)"
   ]
  },
  {
   "cell_type": "code",
   "execution_count": 8,
   "id": "696ebf29",
   "metadata": {},
   "outputs": [
    {
     "name": "stdout",
     "output_type": "stream",
     "text": [
      "num_1 <= num_2 or num_1 != num_2 or num_1> 10 True\n"
     ]
    }
   ],
   "source": [
    "num_1 = 11\n",
    "num_2 = 55\n",
    "# num_1 <= num_2:  True/ Verdadero\n",
    "# num_1!= num_2: True/  Verdadero\n",
    "# num_1 > 10: True/ Verdero \n",
    "print(\"num_1 <= num_2 or num_1 != num_2 or num_1> 10\", num_1 <= num_2 or num_1 != num_2 or num_1 > 10)"
   ]
  },
  {
   "cell_type": "code",
   "execution_count": null,
   "id": "a439432d",
   "metadata": {},
   "outputs": [],
   "source": [
    "# NOT (lo opuesto)\n",
    "# La condición debe ser Falsa"
   ]
  },
  {
   "cell_type": "code",
   "execution_count": 9,
   "id": "8fa411be",
   "metadata": {},
   "outputs": [
    {
     "name": "stdout",
     "output_type": "stream",
     "text": [
      "not num_1<=num_2 False\n"
     ]
    }
   ],
   "source": [
    "num_1 = 11\n",
    "num_2 = 55\n",
    "# num_1 <= num_12: True/ Verdadero\n",
    "print(\"not num_1<=num_2\", not num_1 <= num_2)\n",
    "\n"
   ]
  },
  {
   "cell_type": "code",
   "execution_count": 10,
   "id": "c1569b95",
   "metadata": {},
   "outputs": [
    {
     "name": "stdout",
     "output_type": "stream",
     "text": [
      "not num_1!=num_2 False\n"
     ]
    }
   ],
   "source": [
    "num_1 = 11\n",
    "num_2 = 55\n",
    "# num_1 <= num_12: True/ Verdadero\n",
    "print(\"not num_1!=num_2\", not num_1 != num_2)"
   ]
  },
  {
   "cell_type": "code",
   "execution_count": 11,
   "id": "0bebbd31",
   "metadata": {},
   "outputs": [
    {
     "name": "stdout",
     "output_type": "stream",
     "text": [
      "not num_1>num_2 True\n"
     ]
    }
   ],
   "source": [
    "num_1 = 11\n",
    "num_2 = 55\n",
    "# num_1 <= num_12: True/ Verdadero\n",
    "print(\"not num_1>num_2\", not num_1 > num_2)"
   ]
  },
  {
   "cell_type": "markdown",
   "id": "53f5ff3e",
   "metadata": {},
   "source": [
    "## Operadores de afiliación"
   ]
  },
  {
   "cell_type": "markdown",
   "id": "088886aa",
   "metadata": {},
   "source": [
    "- ¿ Que son los operadores de afiliación ?\n",
    "- Validan su una variable esta presente en una secuencia\n",
    "- Regresan un valor booleano con el resultado True/False\n",
    "- Regresan True/Verdadero si el valor está prsente en la secuencia\n",
    "- Regresan False/Falso si el valor no está presente en la secuencia\n",
    "- Hay 2 operaciones de afiliación:\n",
    "- IN - el valor está en la secuencia\n",
    "- NOT IN -el valor no está en la secuencia\n"
   ]
  },
  {
   "cell_type": "code",
   "execution_count": null,
   "id": "08dbfbf2",
   "metadata": {},
   "outputs": [],
   "source": [
    "# IN: ¿El valor está presente en la secuencia?"
   ]
  },
  {
   "cell_type": "code",
   "execution_count": 1,
   "id": "076525fc",
   "metadata": {},
   "outputs": [
    {
     "name": "stdout",
     "output_type": "stream",
     "text": [
      "'a' in my_string True\n"
     ]
    }
   ],
   "source": [
    "my_string = \"Backend Python\"\n",
    "print(\"'a' in my_string\",'a' in my_string)"
   ]
  },
  {
   "cell_type": "code",
   "execution_count": 13,
   "id": "b6d716d3",
   "metadata": {},
   "outputs": [
    {
     "name": "stdout",
     "output_type": "stream",
     "text": [
      "'i' in my_string False\n"
     ]
    }
   ],
   "source": [
    "my_string = \"Backend Python\"\n",
    "print(\"'i' in my_string\",'i' in my_string)"
   ]
  },
  {
   "cell_type": "code",
   "execution_count": 14,
   "id": "44e9b657",
   "metadata": {},
   "outputs": [
    {
     "name": "stdout",
     "output_type": "stream",
     "text": [
      "5 in my_list False\n"
     ]
    }
   ],
   "source": [
    "my_list= [1,154,321,22,11]\n",
    "print(\"5 in my_list\",5 in my_list)"
   ]
  },
  {
   "cell_type": "code",
   "execution_count": 15,
   "id": "9b3d25ad",
   "metadata": {},
   "outputs": [
    {
     "name": "stdout",
     "output_type": "stream",
     "text": [
      "5 in my_list True\n"
     ]
    }
   ],
   "source": [
    "my_list= [1,154,321,22,11,5]\n",
    "print(\"5 in my_list\",5 in my_list)"
   ]
  },
  {
   "cell_type": "code",
   "execution_count": 3,
   "id": "bcc707d6",
   "metadata": {},
   "outputs": [
    {
     "name": "stdout",
     "output_type": "stream",
     "text": [
      "5 in my_set True\n"
     ]
    }
   ],
   "source": [
    "my_set={1,154,321,22,11,5,11,22,5,1}\n",
    "print(\"5 in my_set\", 5 in my_set)"
   ]
  },
  {
   "cell_type": "code",
   "execution_count": 4,
   "id": "901f723f",
   "metadata": {},
   "outputs": [
    {
     "data": {
      "text/plain": [
       "{1, 5, 11, 22, 154, 321}"
      ]
     },
     "execution_count": 4,
     "metadata": {},
     "output_type": "execute_result"
    }
   ],
   "source": [
    "my_set"
   ]
  },
  {
   "cell_type": "code",
   "execution_count": null,
   "id": "1e938c4f",
   "metadata": {},
   "outputs": [],
   "source": [
    "#NOT IN: ¿El valor NO está presente en la secuencia?\n"
   ]
  },
  {
   "cell_type": "code",
   "execution_count": 5,
   "id": "0b2a017a",
   "metadata": {},
   "outputs": [
    {
     "name": "stdout",
     "output_type": "stream",
     "text": [
      "'a' not in my_string False\n"
     ]
    }
   ],
   "source": [
    "my_string=\"Backend Python\"\n",
    "print(\"'a' not in my_string\", 'a' not in my_string)"
   ]
  },
  {
   "cell_type": "code",
   "execution_count": 6,
   "id": "18537536",
   "metadata": {},
   "outputs": [
    {
     "name": "stdout",
     "output_type": "stream",
     "text": [
      "'i' not in my_string True\n"
     ]
    }
   ],
   "source": [
    "my_string=\"Backend Python\"\n",
    "print(\"'i' not in my_string\", 'i' not in my_string)"
   ]
  },
  {
   "cell_type": "code",
   "execution_count": 7,
   "id": "9b8cb8ab",
   "metadata": {},
   "outputs": [
    {
     "name": "stdout",
     "output_type": "stream",
     "text": [
      "5 not in my_list True\n"
     ]
    }
   ],
   "source": [
    "my_list= [1,154,321,22,11]\n",
    "print(\"5 not in my_list\",5 not in my_list)"
   ]
  },
  {
   "cell_type": "code",
   "execution_count": 8,
   "id": "eb2f4281",
   "metadata": {},
   "outputs": [
    {
     "name": "stdout",
     "output_type": "stream",
     "text": [
      "5 not in my_list False\n"
     ]
    }
   ],
   "source": [
    "my_list= [1,154,321,22,11,5]\n",
    "print(\"5 not in my_list\",5 not in my_list)"
   ]
  },
  {
   "cell_type": "code",
   "execution_count": 9,
   "id": "0cc123cc",
   "metadata": {},
   "outputs": [
    {
     "name": "stdout",
     "output_type": "stream",
     "text": [
      "5 not in my_set False\n"
     ]
    }
   ],
   "source": [
    "my_set={1,154,321,22,11,5,11,22,5,1}\n",
    "print(\"5 not in my_set\", 5 not in my_set)"
   ]
  },
  {
   "cell_type": "markdown",
   "id": "f24ef26e",
   "metadata": {},
   "source": [
    "## Operadores de Identidad"
   ]
  },
  {
   "cell_type": "markdown",
   "id": "a3d6d208",
   "metadata": {},
   "source": [
    "¿Qué son los operadores de identidad?\n",
    "- Son usados para comparar la ubicación den memeria de dos objetos\n",
    "- Se utlizan para validar si los valores comparten el mismo espacio de memoria o no\n",
    "- Regresa True/Verdadero si locomparten, y regresa False/Falso si no lo comparten\n",
    "- Hay 2 operadores de Idenridad\n",
    "     - IS\n",
    "     - IS NOT"
   ]
  },
  {
   "cell_type": "code",
   "execution_count": null,
   "id": "7079eec5",
   "metadata": {},
   "outputs": [],
   "source": [
    "# IS"
   ]
  },
  {
   "cell_type": "code",
   "execution_count": 2,
   "id": "87c3e1e3",
   "metadata": {},
   "outputs": [
    {
     "name": "stdout",
     "output_type": "stream",
     "text": [
      "num_1 is num_2 False\n"
     ]
    }
   ],
   "source": [
    "num_1 = 11\n",
    "num_2= 55\n",
    "print(\"num_1 is num_2\", num_1 is num_2)"
   ]
  },
  {
   "cell_type": "code",
   "execution_count": 12,
   "id": "37654878",
   "metadata": {},
   "outputs": [
    {
     "name": "stdout",
     "output_type": "stream",
     "text": [
      "num_1 is num_2 True\n"
     ]
    }
   ],
   "source": [
    "num_1 = 11\n",
    "num_2= 11\n",
    "print(\"num_1 is num_2\", num_1 is num_2)"
   ]
  },
  {
   "cell_type": "code",
   "execution_count": null,
   "id": "a11c2a46",
   "metadata": {},
   "outputs": [],
   "source": [
    "#IS NOT"
   ]
  },
  {
   "cell_type": "code",
   "execution_count": 13,
   "id": "b0863618",
   "metadata": {},
   "outputs": [
    {
     "name": "stdout",
     "output_type": "stream",
     "text": [
      "num_1 is not num_2 True\n"
     ]
    }
   ],
   "source": [
    "num_1 = 11\n",
    "num_2= 55\n",
    "print(\"num_1 is not num_2\", num_1 is not num_2)"
   ]
  },
  {
   "cell_type": "code",
   "execution_count": 14,
   "id": "5cb81652",
   "metadata": {},
   "outputs": [
    {
     "name": "stdout",
     "output_type": "stream",
     "text": [
      "num_1 is not num_2 False\n"
     ]
    }
   ],
   "source": [
    "num_1 = 77\n",
    "num_2= 77\n",
    "print(\"num_1 is not num_2\", num_1 is not num_2)"
   ]
  },
  {
   "cell_type": "markdown",
   "id": "0f230186",
   "metadata": {},
   "source": [
    "## Conversión de Tipos"
   ]
  },
  {
   "cell_type": "markdown",
   "id": "ecb895a1",
   "metadata": {},
   "source": [
    "¿Qué es la conversión de Tipos?\n",
    "- Es el proceso de conversión a un tipo de dato a otro tipo de dato\n",
    "- Es un paso muy importante para combinar multiples fuentes de datos en un formato especifico.\n",
    "- Hay 2 tipos:\n",
    "    - Conversión Implícita: hecha de forma automática por el intérprete de python \n",
    "    - Conversión Explicita  "
   ]
  },
  {
   "cell_type": "code",
   "execution_count": 3,
   "id": "6c0d2258",
   "metadata": {},
   "outputs": [],
   "source": [
    "# conversión Implícita"
   ]
  },
  {
   "cell_type": "code",
   "execution_count": 4,
   "id": "b5e4f172",
   "metadata": {},
   "outputs": [
    {
     "data": {
      "text/plain": [
       "16.0"
      ]
     },
     "execution_count": 4,
     "metadata": {},
     "output_type": "execute_result"
    }
   ],
   "source": [
    "14+2.0"
   ]
  },
  {
   "cell_type": "code",
   "execution_count": 5,
   "id": "8db7dee2",
   "metadata": {},
   "outputs": [
    {
     "data": {
      "text/plain": [
       "19.0"
      ]
     },
     "execution_count": 5,
     "metadata": {},
     "output_type": "execute_result"
    }
   ],
   "source": [
    "14+2.0+3"
   ]
  },
  {
   "cell_type": "code",
   "execution_count": null,
   "id": "639b75ad",
   "metadata": {},
   "outputs": [],
   "source": [
    "# Conversión Explícita"
   ]
  },
  {
   "cell_type": "code",
   "execution_count": 6,
   "id": "ad6fcf24",
   "metadata": {},
   "outputs": [
    {
     "data": {
      "text/plain": [
       "199"
      ]
     },
     "execution_count": 6,
     "metadata": {},
     "output_type": "execute_result"
    }
   ],
   "source": [
    "int(199.99)"
   ]
  },
  {
   "cell_type": "code",
   "execution_count": 7,
   "id": "ab1c576f",
   "metadata": {},
   "outputs": [
    {
     "data": {
      "text/plain": [
       "58.0"
      ]
     },
     "execution_count": 7,
     "metadata": {},
     "output_type": "execute_result"
    }
   ],
   "source": [
    "float(58)"
   ]
  },
  {
   "cell_type": "code",
   "execution_count": 8,
   "id": "5796de1e",
   "metadata": {},
   "outputs": [
    {
     "data": {
      "text/plain": [
       "(4+0j)"
      ]
     },
     "execution_count": 8,
     "metadata": {},
     "output_type": "execute_result"
    }
   ],
   "source": [
    "complex(4)"
   ]
  },
  {
   "cell_type": "markdown",
   "id": "b1654266",
   "metadata": {},
   "source": [
    "##  Conversión int"
   ]
  },
  {
   "cell_type": "code",
   "execution_count": 9,
   "id": "89756cfa",
   "metadata": {},
   "outputs": [
    {
     "data": {
      "text/plain": [
       "10"
      ]
     },
     "execution_count": 9,
     "metadata": {},
     "output_type": "execute_result"
    }
   ],
   "source": [
    "int(10.78) # float a int"
   ]
  },
  {
   "cell_type": "code",
   "execution_count": 10,
   "id": "749e6c31",
   "metadata": {},
   "outputs": [
    {
     "data": {
      "text/plain": [
       "0"
      ]
     },
     "execution_count": 10,
     "metadata": {},
     "output_type": "execute_result"
    }
   ],
   "source": [
    "int(False) # bool a int"
   ]
  },
  {
   "cell_type": "code",
   "execution_count": 11,
   "id": "103f6c31",
   "metadata": {},
   "outputs": [
    {
     "data": {
      "text/plain": [
       "1"
      ]
     },
     "execution_count": 11,
     "metadata": {},
     "output_type": "execute_result"
    }
   ],
   "source": [
    "int(True) # bool a int"
   ]
  },
  {
   "cell_type": "code",
   "execution_count": 12,
   "id": "b0a51209",
   "metadata": {},
   "outputs": [
    {
     "ename": "TypeError",
     "evalue": "int() argument must be a string, a bytes-like object or a real number, not 'complex'",
     "output_type": "error",
     "traceback": [
      "\u001b[1;31m---------------------------------------------------------------------------\u001b[0m",
      "\u001b[1;31mTypeError\u001b[0m                                 Traceback (most recent call last)",
      "Cell \u001b[1;32mIn[12], line 1\u001b[0m\n\u001b[1;32m----> 1\u001b[0m \u001b[38;5;28mint\u001b[39m(\u001b[38;5;241m5\u001b[39m\u001b[38;5;241m+\u001b[39m\u001b[38;5;241m3\u001b[39mj)\n",
      "\u001b[1;31mTypeError\u001b[0m: int() argument must be a string, a bytes-like object or a real number, not 'complex'"
     ]
    }
   ],
   "source": [
    "int(5+3j) # "
   ]
  },
  {
   "cell_type": "code",
   "execution_count": 14,
   "id": "2c093a69",
   "metadata": {},
   "outputs": [
    {
     "data": {
      "text/plain": [
       "120"
      ]
     },
     "execution_count": 14,
     "metadata": {},
     "output_type": "execute_result"
    }
   ],
   "source": [
    "int(\"120\") # string a int"
   ]
  },
  {
   "cell_type": "code",
   "execution_count": 15,
   "id": "69dc362f",
   "metadata": {},
   "outputs": [
    {
     "ename": "ValueError",
     "evalue": "invalid literal for int() with base 10: '120.5'",
     "output_type": "error",
     "traceback": [
      "\u001b[1;31m---------------------------------------------------------------------------\u001b[0m",
      "\u001b[1;31mValueError\u001b[0m                                Traceback (most recent call last)",
      "Cell \u001b[1;32mIn[15], line 2\u001b[0m\n\u001b[0;32m      1\u001b[0m \u001b[38;5;66;03m#error\u001b[39;00m\n\u001b[1;32m----> 2\u001b[0m \u001b[38;5;28mint\u001b[39m(\u001b[38;5;124m\"\u001b[39m\u001b[38;5;124m120.5\u001b[39m\u001b[38;5;124m\"\u001b[39m)\n",
      "\u001b[1;31mValueError\u001b[0m: invalid literal for int() with base 10: '120.5'"
     ]
    }
   ],
   "source": [
    "#error\n",
    "int(\"120.5\") # string a int"
   ]
  },
  {
   "cell_type": "markdown",
   "id": "84f2ee72",
   "metadata": {},
   "source": [
    "### Conversión float"
   ]
  },
  {
   "cell_type": "code",
   "execution_count": 16,
   "id": "0666c9af",
   "metadata": {},
   "outputs": [
    {
     "data": {
      "text/plain": [
       "23.0"
      ]
     },
     "execution_count": 16,
     "metadata": {},
     "output_type": "execute_result"
    }
   ],
   "source": [
    "float(23) # int a float"
   ]
  },
  {
   "cell_type": "code",
   "execution_count": 17,
   "id": "370234b2",
   "metadata": {},
   "outputs": [
    {
     "ename": "TypeError",
     "evalue": "float() argument must be a string or a real number, not 'complex'",
     "output_type": "error",
     "traceback": [
      "\u001b[1;31m---------------------------------------------------------------------------\u001b[0m",
      "\u001b[1;31mTypeError\u001b[0m                                 Traceback (most recent call last)",
      "Cell \u001b[1;32mIn[17], line 2\u001b[0m\n\u001b[0;32m      1\u001b[0m \u001b[38;5;66;03m#error\u001b[39;00m\n\u001b[1;32m----> 2\u001b[0m \u001b[38;5;28mfloat\u001b[39m(\u001b[38;5;241m23\u001b[39m\u001b[38;5;241m+\u001b[39m\u001b[38;5;241m3\u001b[39mj)\n",
      "\u001b[1;31mTypeError\u001b[0m: float() argument must be a string or a real number, not 'complex'"
     ]
    }
   ],
   "source": [
    "#error\n",
    "float(23+3j) # complex a float"
   ]
  },
  {
   "cell_type": "code",
   "execution_count": 18,
   "id": "7d08dc79",
   "metadata": {},
   "outputs": [
    {
     "data": {
      "text/plain": [
       "1.0"
      ]
     },
     "execution_count": 18,
     "metadata": {},
     "output_type": "execute_result"
    }
   ],
   "source": [
    "float(True)# bool a float"
   ]
  },
  {
   "cell_type": "code",
   "execution_count": 19,
   "id": "5ad43016",
   "metadata": {},
   "outputs": [
    {
     "data": {
      "text/plain": [
       "0.0"
      ]
     },
     "execution_count": 19,
     "metadata": {},
     "output_type": "execute_result"
    }
   ],
   "source": [
    "float(False) # bool a float"
   ]
  },
  {
   "cell_type": "code",
   "execution_count": 20,
   "id": "07581805",
   "metadata": {},
   "outputs": [
    {
     "data": {
      "text/plain": [
       "843.29"
      ]
     },
     "execution_count": 20,
     "metadata": {},
     "output_type": "execute_result"
    }
   ],
   "source": [
    "float(\"843.29\") # string a float"
   ]
  },
  {
   "cell_type": "code",
   "execution_count": 23,
   "id": "a03b7a7d",
   "metadata": {},
   "outputs": [
    {
     "data": {
      "text/plain": [
       "120.0"
      ]
     },
     "execution_count": 23,
     "metadata": {},
     "output_type": "execute_result"
    }
   ],
   "source": [
    "float(\"120\") # string a float"
   ]
  },
  {
   "cell_type": "code",
   "execution_count": 24,
   "id": "5e8dee2b",
   "metadata": {},
   "outputs": [
    {
     "ename": "ValueError",
     "evalue": "could not convert string to float: '120t'",
     "output_type": "error",
     "traceback": [
      "\u001b[1;31m---------------------------------------------------------------------------\u001b[0m",
      "\u001b[1;31mValueError\u001b[0m                                Traceback (most recent call last)",
      "Cell \u001b[1;32mIn[24], line 2\u001b[0m\n\u001b[0;32m      1\u001b[0m \u001b[38;5;66;03m#error\u001b[39;00m\n\u001b[1;32m----> 2\u001b[0m \u001b[38;5;28mfloat\u001b[39m(\u001b[38;5;124m\"\u001b[39m\u001b[38;5;124m120t\u001b[39m\u001b[38;5;124m\"\u001b[39m)\n",
      "\u001b[1;31mValueError\u001b[0m: could not convert string to float: '120t'"
     ]
    }
   ],
   "source": [
    "#error\n",
    "float(\"120t\") # string a float"
   ]
  },
  {
   "cell_type": "code",
   "execution_count": 25,
   "id": "b2821ab8",
   "metadata": {},
   "outputs": [
    {
     "ename": "ValueError",
     "evalue": "could not convert string to float: 'True'",
     "output_type": "error",
     "traceback": [
      "\u001b[1;31m---------------------------------------------------------------------------\u001b[0m",
      "\u001b[1;31mValueError\u001b[0m                                Traceback (most recent call last)",
      "Cell \u001b[1;32mIn[25], line 2\u001b[0m\n\u001b[0;32m      1\u001b[0m \u001b[38;5;66;03m#error\u001b[39;00m\n\u001b[1;32m----> 2\u001b[0m \u001b[38;5;28mfloat\u001b[39m(\u001b[38;5;124m\"\u001b[39m\u001b[38;5;124mTrue\u001b[39m\u001b[38;5;124m\"\u001b[39m)\n",
      "\u001b[1;31mValueError\u001b[0m: could not convert string to float: 'True'"
     ]
    }
   ],
   "source": [
    "#error\n",
    "float(\"True\") # string a float"
   ]
  },
  {
   "cell_type": "markdown",
   "id": "71ed5919",
   "metadata": {},
   "source": [
    "### Converiónes complex"
   ]
  },
  {
   "cell_type": "code",
   "execution_count": 26,
   "id": "d4ecb569",
   "metadata": {},
   "outputs": [
    {
     "data": {
      "text/plain": [
       "(42+0j)"
      ]
     },
     "execution_count": 26,
     "metadata": {},
     "output_type": "execute_result"
    }
   ],
   "source": [
    "complex(42) # int a complex"
   ]
  },
  {
   "cell_type": "code",
   "execution_count": 28,
   "id": "809fc50b",
   "metadata": {},
   "outputs": [
    {
     "data": {
      "text/plain": [
       "(12.1+0j)"
      ]
     },
     "execution_count": 28,
     "metadata": {},
     "output_type": "execute_result"
    }
   ],
   "source": [
    "complex(12.1) # float a complex\n"
   ]
  },
  {
   "cell_type": "code",
   "execution_count": 29,
   "id": "78e4e768",
   "metadata": {},
   "outputs": [
    {
     "data": {
      "text/plain": [
       "(1+0j)"
      ]
     },
     "execution_count": 29,
     "metadata": {},
     "output_type": "execute_result"
    }
   ],
   "source": [
    "complex(True) # bool a complex"
   ]
  },
  {
   "cell_type": "code",
   "execution_count": 30,
   "id": "be505bcd",
   "metadata": {},
   "outputs": [
    {
     "data": {
      "text/plain": [
       "0j"
      ]
     },
     "execution_count": 30,
     "metadata": {},
     "output_type": "execute_result"
    }
   ],
   "source": [
    "complex(False) # bool a complex"
   ]
  },
  {
   "cell_type": "code",
   "execution_count": 31,
   "id": "e9b40229",
   "metadata": {},
   "outputs": [
    {
     "data": {
      "text/plain": [
       "(24+0j)"
      ]
     },
     "execution_count": 31,
     "metadata": {},
     "output_type": "execute_result"
    }
   ],
   "source": [
    "complex(\"24\") # string a complex"
   ]
  },
  {
   "cell_type": "code",
   "execution_count": 32,
   "id": "beaa72eb",
   "metadata": {},
   "outputs": [
    {
     "data": {
      "text/plain": [
       "(24.5+0j)"
      ]
     },
     "execution_count": 32,
     "metadata": {},
     "output_type": "execute_result"
    }
   ],
   "source": [
    "complex(\"24.5\") # string a complex"
   ]
  },
  {
   "cell_type": "code",
   "execution_count": 35,
   "id": "616b2356",
   "metadata": {},
   "outputs": [
    {
     "ename": "ValueError",
     "evalue": "complex() arg is a malformed string",
     "output_type": "error",
     "traceback": [
      "\u001b[1;31m---------------------------------------------------------------------------\u001b[0m",
      "\u001b[1;31mValueError\u001b[0m                                Traceback (most recent call last)",
      "Cell \u001b[1;32mIn[35], line 1\u001b[0m\n\u001b[1;32m----> 1\u001b[0m \u001b[38;5;28mcomplex\u001b[39m(\u001b[38;5;124m\"\u001b[39m\u001b[38;5;124mBankend\u001b[39m\u001b[38;5;124m\"\u001b[39m)\n",
      "\u001b[1;31mValueError\u001b[0m: complex() arg is a malformed string"
     ]
    }
   ],
   "source": [
    "#error\n",
    "complex(\"Bankend\") # string a complex"
   ]
  },
  {
   "cell_type": "code",
   "execution_count": 36,
   "id": "afbea6f8",
   "metadata": {},
   "outputs": [
    {
     "ename": "ValueError",
     "evalue": "complex() arg is a malformed string",
     "output_type": "error",
     "traceback": [
      "\u001b[1;31m---------------------------------------------------------------------------\u001b[0m",
      "\u001b[1;31mValueError\u001b[0m                                Traceback (most recent call last)",
      "Cell \u001b[1;32mIn[36], line 1\u001b[0m\n\u001b[1;32m----> 1\u001b[0m \u001b[38;5;28mcomplex\u001b[39m(\u001b[38;5;124m\"\u001b[39m\u001b[38;5;124m10c\u001b[39m\u001b[38;5;124m\"\u001b[39m)\n",
      "\u001b[1;31mValueError\u001b[0m: complex() arg is a malformed string"
     ]
    }
   ],
   "source": [
    "#Error\n",
    "complex(\"10c\") # string a complex"
   ]
  },
  {
   "cell_type": "code",
   "execution_count": 37,
   "id": "ff736157",
   "metadata": {},
   "outputs": [
    {
     "data": {
      "text/plain": [
       "10j"
      ]
     },
     "execution_count": 37,
     "metadata": {},
     "output_type": "execute_result"
    }
   ],
   "source": [
    "complex(\"10j\") # string a complex"
   ]
  },
  {
   "cell_type": "code",
   "execution_count": 38,
   "id": "c5e05b8e",
   "metadata": {},
   "outputs": [
    {
     "ename": "ValueError",
     "evalue": "complex() arg is a malformed string",
     "output_type": "error",
     "traceback": [
      "\u001b[1;31m---------------------------------------------------------------------------\u001b[0m",
      "\u001b[1;31mValueError\u001b[0m                                Traceback (most recent call last)",
      "Cell \u001b[1;32mIn[38], line 2\u001b[0m\n\u001b[0;32m      1\u001b[0m \u001b[38;5;66;03m#Error\u001b[39;00m\n\u001b[1;32m----> 2\u001b[0m \u001b[38;5;28mcomplex\u001b[39m(\u001b[38;5;124m\"\u001b[39m\u001b[38;5;124m10i\u001b[39m\u001b[38;5;124m\"\u001b[39m)\n",
      "\u001b[1;31mValueError\u001b[0m: complex() arg is a malformed string"
     ]
    }
   ],
   "source": [
    "#Error\n",
    "complex(\"10i\") # string a complex"
   ]
  },
  {
   "cell_type": "markdown",
   "id": "6edc7733",
   "metadata": {},
   "source": [
    "### Conversiones bool"
   ]
  },
  {
   "cell_type": "code",
   "execution_count": 39,
   "id": "71cc3bac",
   "metadata": {},
   "outputs": [
    {
     "data": {
      "text/plain": [
       "True"
      ]
     },
     "execution_count": 39,
     "metadata": {},
     "output_type": "execute_result"
    }
   ],
   "source": [
    "bool(1) # int a bool"
   ]
  },
  {
   "cell_type": "code",
   "execution_count": 40,
   "id": "f80c83c8",
   "metadata": {},
   "outputs": [
    {
     "data": {
      "text/plain": [
       "False"
      ]
     },
     "execution_count": 40,
     "metadata": {},
     "output_type": "execute_result"
    }
   ],
   "source": [
    "bool(0) # int a bool"
   ]
  },
  {
   "cell_type": "code",
   "execution_count": 41,
   "id": "1ba0a4cf",
   "metadata": {},
   "outputs": [
    {
     "data": {
      "text/plain": [
       "True"
      ]
     },
     "execution_count": 41,
     "metadata": {},
     "output_type": "execute_result"
    }
   ],
   "source": [
    "bool(1.8) #float a bool"
   ]
  },
  {
   "cell_type": "code",
   "execution_count": 42,
   "id": "66dac689",
   "metadata": {},
   "outputs": [
    {
     "data": {
      "text/plain": [
       "True"
      ]
     },
     "execution_count": 42,
     "metadata": {},
     "output_type": "execute_result"
    }
   ],
   "source": [
    "bool(-1.8) #float a bool"
   ]
  },
  {
   "cell_type": "code",
   "execution_count": 43,
   "id": "85af90b9",
   "metadata": {},
   "outputs": [
    {
     "data": {
      "text/plain": [
       "False"
      ]
     },
     "execution_count": 43,
     "metadata": {},
     "output_type": "execute_result"
    }
   ],
   "source": [
    "bool(0.0) #float a bool"
   ]
  },
  {
   "cell_type": "code",
   "execution_count": 44,
   "id": "18df561d",
   "metadata": {},
   "outputs": [
    {
     "data": {
      "text/plain": [
       "True"
      ]
     },
     "execution_count": 44,
     "metadata": {},
     "output_type": "execute_result"
    }
   ],
   "source": [
    "bool(0+3j) #complex a bool"
   ]
  },
  {
   "cell_type": "code",
   "execution_count": 45,
   "id": "52855f57",
   "metadata": {},
   "outputs": [
    {
     "data": {
      "text/plain": [
       "False"
      ]
     },
     "execution_count": 45,
     "metadata": {},
     "output_type": "execute_result"
    }
   ],
   "source": [
    "bool(0+0j) #complex a bool"
   ]
  },
  {
   "cell_type": "code",
   "execution_count": 46,
   "id": "a82d8b9d",
   "metadata": {},
   "outputs": [
    {
     "data": {
      "text/plain": [
       "True"
      ]
     },
     "execution_count": 46,
     "metadata": {},
     "output_type": "execute_result"
    }
   ],
   "source": [
    "bool(\"python\") # string a bool"
   ]
  },
  {
   "cell_type": "code",
   "execution_count": 47,
   "id": "568afdf4",
   "metadata": {},
   "outputs": [
    {
     "data": {
      "text/plain": [
       "True"
      ]
     },
     "execution_count": 47,
     "metadata": {},
     "output_type": "execute_result"
    }
   ],
   "source": [
    "bool(\" \")# string a bool"
   ]
  },
  {
   "cell_type": "code",
   "execution_count": 48,
   "id": "e090586f",
   "metadata": {},
   "outputs": [
    {
     "data": {
      "text/plain": [
       "False"
      ]
     },
     "execution_count": 48,
     "metadata": {},
     "output_type": "execute_result"
    }
   ],
   "source": [
    "bool(\"\")# string a bool"
   ]
  },
  {
   "cell_type": "code",
   "execution_count": 49,
   "id": "516c9cdd",
   "metadata": {},
   "outputs": [
    {
     "data": {
      "text/plain": [
       "True"
      ]
     },
     "execution_count": 49,
     "metadata": {},
     "output_type": "execute_result"
    }
   ],
   "source": [
    "bool(\"0\")# string a bool"
   ]
  },
  {
   "cell_type": "markdown",
   "id": "627f069d",
   "metadata": {},
   "source": [
    "### conversiones str"
   ]
  },
  {
   "cell_type": "code",
   "execution_count": 50,
   "id": "b6b814a1",
   "metadata": {},
   "outputs": [
    {
     "data": {
      "text/plain": [
       "'26'"
      ]
     },
     "execution_count": 50,
     "metadata": {},
     "output_type": "execute_result"
    }
   ],
   "source": [
    "str(26)# int a str"
   ]
  },
  {
   "cell_type": "code",
   "execution_count": 51,
   "id": "1e673355",
   "metadata": {},
   "outputs": [
    {
     "data": {
      "text/plain": [
       "'25.3'"
      ]
     },
     "execution_count": 51,
     "metadata": {},
     "output_type": "execute_result"
    }
   ],
   "source": [
    "str(25.3) # float a str"
   ]
  },
  {
   "cell_type": "code",
   "execution_count": 53,
   "id": "d959cfea",
   "metadata": {},
   "outputs": [
    {
     "data": {
      "text/plain": [
       "'(6+8j)'"
      ]
     },
     "execution_count": 53,
     "metadata": {},
     "output_type": "execute_result"
    }
   ],
   "source": [
    "str(6+8j) # complex a str"
   ]
  },
  {
   "cell_type": "code",
   "execution_count": 54,
   "id": "e3d8283e",
   "metadata": {},
   "outputs": [
    {
     "data": {
      "text/plain": [
       "'True'"
      ]
     },
     "execution_count": 54,
     "metadata": {},
     "output_type": "execute_result"
    }
   ],
   "source": [
    "str(True)# bool a str"
   ]
  },
  {
   "cell_type": "code",
   "execution_count": 55,
   "id": "6f8128f9",
   "metadata": {},
   "outputs": [
    {
     "data": {
      "text/plain": [
       "'False'"
      ]
     },
     "execution_count": 55,
     "metadata": {},
     "output_type": "execute_result"
    }
   ],
   "source": [
    "str(False) # bool a str"
   ]
  },
  {
   "cell_type": "markdown",
   "id": "5210b127",
   "metadata": {},
   "source": [
    "# Funciones Básicas"
   ]
  },
  {
   "cell_type": "markdown",
   "id": "7c3f8ec7",
   "metadata": {},
   "source": [
    "### trunc()"
   ]
  },
  {
   "cell_type": "code",
   "execution_count": 58,
   "id": "10bcc7f8",
   "metadata": {},
   "outputs": [
    {
     "name": "stdout",
     "output_type": "stream",
     "text": [
      "num_1: 64.99\n",
      "num_2: 64.5\n",
      "num_3: 64.51\n",
      "num_4: 64.000000000001\n"
     ]
    }
   ],
   "source": [
    "num_1= 64.99\n",
    "num_2= 64.5\n",
    "num_3= 64.51\n",
    "num_4= 64.000000000001\n",
    "print(\"num_1:\", num_1)\n",
    "print(\"num_2:\", num_2)\n",
    "print(\"num_3:\", num_3)\n",
    "print(\"num_4:\", num_4)"
   ]
  },
  {
   "cell_type": "code",
   "execution_count": 60,
   "id": "b515ef76",
   "metadata": {},
   "outputs": [
    {
     "name": "stdout",
     "output_type": "stream",
     "text": [
      "trunc(num_1): 64\n",
      "trunc(num_2): 64\n",
      "trunc(num_3): 64\n",
      "trunc(num_4): 64\n"
     ]
    }
   ],
   "source": [
    "from math import trunc\n",
    "num_1= 64.99\n",
    "num_2= 64.5\n",
    "num_3= 64.51\n",
    "num_4= 64.000000000001\n",
    "print(\"trunc(num_1):\", trunc(num_1))\n",
    "print(\"trunc(num_2):\", trunc(num_2))\n",
    "print(\"trunc(num_3):\", trunc(num_3))\n",
    "print(\"trunc(num_4):\", trunc(num_4))"
   ]
  },
  {
   "cell_type": "markdown",
   "id": "07440878",
   "metadata": {},
   "source": [
    "### round(), ceil() y floor()"
   ]
  },
  {
   "cell_type": "code",
   "execution_count": 61,
   "id": "b46a28f7",
   "metadata": {},
   "outputs": [
    {
     "name": "stdout",
     "output_type": "stream",
     "text": [
      "round(num_1): 65\n",
      "round(num_2): 64\n",
      "round(num_3): 65\n",
      "round(num_4): 64\n"
     ]
    }
   ],
   "source": [
    "# round\n",
    "num_1= 64.99\n",
    "num_2= 64.5\n",
    "num_3= 64.51\n",
    "num_4= 64.000000000001\n",
    "print(\"round(num_1):\", round(num_1))\n",
    "print(\"round(num_2):\", round(num_2))\n",
    "print(\"round(num_3):\", round(num_3))\n",
    "print(\"round(num_4):\", round(num_4))"
   ]
  },
  {
   "cell_type": "code",
   "execution_count": 64,
   "id": "e8fce99e",
   "metadata": {},
   "outputs": [
    {
     "name": "stdout",
     "output_type": "stream",
     "text": [
      "ceil(num_1): 65\n",
      "ceil(num_2): 65\n",
      "ceil(num_3): 65\n",
      "ceil(num_4): 65\n"
     ]
    }
   ],
   "source": [
    "# ceil - redondeo hacia arriba\n",
    "from math import ceil\n",
    "num_1= 64.99\n",
    "num_2= 64.5\n",
    "num_3= 64.51\n",
    "num_4= 64.000000000001\n",
    "print(\"ceil(num_1):\", ceil(num_1))\n",
    "print(\"ceil(num_2):\", ceil(num_2))\n",
    "print(\"ceil(num_3):\", ceil(num_3))\n",
    "print(\"ceil(num_4):\", ceil(num_4))"
   ]
  },
  {
   "cell_type": "code",
   "execution_count": 65,
   "id": "50e1a8f1",
   "metadata": {},
   "outputs": [
    {
     "name": "stdout",
     "output_type": "stream",
     "text": [
      "floor(num_1): 64\n",
      "floor(num_2): 64\n",
      "floor(num_3): 64\n",
      "floor(num_4): 64\n"
     ]
    }
   ],
   "source": [
    "# ceil - redondeo hacia abajo\n",
    "from math import floor\n",
    "num_1= 64.99\n",
    "num_2= 64.5\n",
    "num_3= 64.51\n",
    "num_4= 64.000000000001\n",
    "print(\"floor(num_1):\", floor(num_1))\n",
    "print(\"floor(num_2):\", floor(num_2))\n",
    "print(\"floor(num_3):\", floor(num_3))\n",
    "print(\"floor(num_4):\", floor(num_4))"
   ]
  },
  {
   "cell_type": "markdown",
   "id": "7936441f",
   "metadata": {},
   "source": [
    "### Función %"
   ]
  },
  {
   "cell_type": "code",
   "execution_count": 71,
   "id": "beeb4280",
   "metadata": {},
   "outputs": [
    {
     "name": "stdout",
     "output_type": "stream",
     "text": [
      "'%.1f' % num_1: 65.0\n",
      "'%.3f' % num_2: 64.500\n",
      "'%.4f' % num_3: 64.5100\n",
      "'%.5f' % num_4: 64.00000\n"
     ]
    }
   ],
   "source": [
    "num_1= 64.99\n",
    "num_2= 64.5\n",
    "num_3= 64.51\n",
    "num_4= 64.000000000001\n",
    "print(\"'%.1f' % num_1:\",'%.1f' % num_1)\n",
    "print(\"'%.3f' % num_2:\",'%.3f' % num_2)\n",
    "print(\"'%.4f' % num_3:\",'%.4f' % num_3)\n",
    "print(\"'%.5f' % num_4:\",'%.5f' % num_4)"
   ]
  },
  {
   "cell_type": "markdown",
   "id": "2bc4f917",
   "metadata": {},
   "source": [
    "### Format()"
   ]
  },
  {
   "cell_type": "code",
   "execution_count": 74,
   "id": "5c014259",
   "metadata": {},
   "outputs": [
    {
     "name": "stdout",
     "output_type": "stream",
     "text": [
      "'{:.1f}'.format(num_1): 65.0\n",
      "'{:.3f}'.format(num_2): 64.500\n",
      "'{:.4f}'.format(num_3): 64.5100\n",
      "'{:.5f}'.format(num_4): 64.00000\n"
     ]
    }
   ],
   "source": [
    "num_1= 64.99\n",
    "num_2= 64.5\n",
    "num_3= 64.51\n",
    "num_4= 64.000000000001\n",
    "print(\"'{:.1f}'.format(num_1):\",'{:.1f}'.format(num_1))\n",
    "print(\"'{:.3f}'.format(num_2):\",'{:.3f}'.format(num_2))\n",
    "print(\"'{:.4f}'.format(num_3):\",'{:.4f}'.format(num_3))\n",
    "print(\"'{:.5f}'.format(num_4):\",'{:.5f}'.format(num_4))"
   ]
  },
  {
   "cell_type": "code",
   "execution_count": null,
   "id": "3be97768",
   "metadata": {},
   "outputs": [],
   "source": []
  }
 ],
 "metadata": {
  "kernelspec": {
   "display_name": "Python 3 (ipykernel)",
   "language": "python",
   "name": "python3"
  },
  "language_info": {
   "codemirror_mode": {
    "name": "ipython",
    "version": 3
   },
   "file_extension": ".py",
   "mimetype": "text/x-python",
   "name": "python",
   "nbconvert_exporter": "python",
   "pygments_lexer": "ipython3",
   "version": "3.11.5"
  }
 },
 "nbformat": 4,
 "nbformat_minor": 5
}
