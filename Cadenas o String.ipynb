{
 "cells": [
  {
   "cell_type": "markdown",
   "id": "3c27fc27",
   "metadata": {},
   "source": [
    "# Indexación de cadenas"
   ]
  },
  {
   "cell_type": "markdown",
   "id": "1096716f",
   "metadata": {},
   "source": [
    "- ¿Qué es un índice?\n",
    "- ¿Por qué es necesario?\n",
    "\n",
    "- Indexación significa acceder a los elementos\n",
    "- Para acceder a los elementos podemos usar crchetes \"[.]\"\n",
    "- El índice número que pongamos se refiere a la posición dentro de la lista ordenada.\n",
    "- La indexación puede usarse para extraer elementos individuales de una estructura de datos.\n",
    "- En python, toda indexación parte desde el número 0 como primera posición.\n",
    "\n",
    "- Python tenemos 2 tipos de índices:\n",
    "    - Positivo: comienzan desde 0; estos índices buscan de izquierda a derecha la posición solicitada.\n",
    "    - Negativo: estos commienzan dese -1; estos índices buscan de derecha a izquierda la posición solicitada.\n",
    "        \n",
    "\n",
    "\n"
   ]
  },
  {
   "cell_type": "markdown",
   "id": "c52d868e",
   "metadata": {},
   "source": [
    "# Segmentación de Cadena"
   ]
  },
  {
   "cell_type": "code",
   "execution_count": 5,
   "id": "6d12068e",
   "metadata": {},
   "outputs": [
    {
     "name": "stdout",
     "output_type": "stream",
     "text": [
      "Curso de Backend Python\n",
      "<class 'str'>\n",
      "C\n",
      "Curso\n",
      "Curso\n",
      "Curso de Backend Python\n",
      "de Ba\n"
     ]
    }
   ],
   "source": [
    "# índices positivos\n",
    "my_string=\"Curso de Backend Python\"\n",
    "print(my_string)\n",
    "print(type(my_string))\n",
    "print(my_string[0])\n",
    "print(my_string[0:5]) #0,1,2,3,4\n",
    "print(my_string[:5]) #0,1,2,3,4\n",
    "print(my_string[:]) # todos los índidces\n",
    "print(my_string[6:11]) # 6,7,8,9,10\n",
    "\n",
    "\n"
   ]
  },
  {
   "cell_type": "code",
   "execution_count": 7,
   "id": "30218513",
   "metadata": {},
   "outputs": [
    {
     "ename": "IndexError",
     "evalue": "string index out of range",
     "output_type": "error",
     "traceback": [
      "\u001b[1;31m---------------------------------------------------------------------------\u001b[0m",
      "\u001b[1;31mIndexError\u001b[0m                                Traceback (most recent call last)",
      "Cell \u001b[1;32mIn[7], line 3\u001b[0m\n\u001b[0;32m      1\u001b[0m \u001b[38;5;66;03m# error común\u001b[39;00m\n\u001b[0;32m      2\u001b[0m my_string\u001b[38;5;241m=\u001b[39m\u001b[38;5;124m\"\u001b[39m\u001b[38;5;124mCurso de Backend Python\u001b[39m\u001b[38;5;124m\"\u001b[39m\n\u001b[1;32m----> 3\u001b[0m \u001b[38;5;28mprint\u001b[39m(my_string[\u001b[38;5;241m999\u001b[39m])\n",
      "\u001b[1;31mIndexError\u001b[0m: string index out of range"
     ]
    }
   ],
   "source": [
    "# error común\n",
    "my_string=\"Curso de Backend Python\"\n",
    "print(my_string[999])\n"
   ]
  },
  {
   "cell_type": "code",
   "execution_count": 8,
   "id": "e0df4ddd",
   "metadata": {},
   "outputs": [
    {
     "name": "stdout",
     "output_type": "stream",
     "text": [
      "n\n",
      "n\n",
      "ython\n"
     ]
    }
   ],
   "source": [
    "# Índices Negativo\n",
    "my_string=\"Curso de Backend Python\"\n",
    "print(my_string[len(my_string)-1])\n",
    "print(my_string[-1])\n",
    "print(my_string[-5:])\n"
   ]
  },
  {
   "cell_type": "markdown",
   "id": "91e91829",
   "metadata": {},
   "source": [
    "# Concatenación de Cadenas"
   ]
  },
  {
   "cell_type": "code",
   "execution_count": 13,
   "id": "32475154",
   "metadata": {},
   "outputs": [
    {
     "name": "stdout",
     "output_type": "stream",
     "text": [
      "Curso\n",
      "Backend Python\n",
      "CursoBackend Python\n",
      "Curso Backend Python\n",
      "Curso Backend Python\n"
     ]
    }
   ],
   "source": [
    "my_string_1 = \"Curso\"\n",
    "my_string_2 = \"Backend Python\"\n",
    "print(my_string_1)\n",
    "print(my_string_2)\n",
    "print(my_string_1+my_string_2)\n",
    "print(my_string_1+\" \"+my_string_2)\n",
    "print(\"{} {}\".format(my_string_1,my_string_2))# es más prático usar format para formatear cadenas."
   ]
  },
  {
   "cell_type": "code",
   "execution_count": 17,
   "id": "3fbbd942",
   "metadata": {},
   "outputs": [
    {
     "name": "stdout",
     "output_type": "stream",
     "text": [
      "1030\n",
      "1030\n",
      "40\n",
      "40\n",
      "40\n"
     ]
    }
   ],
   "source": [
    "my_string_1=\"10\"\n",
    "my_string_2=\"30\"\n",
    "print(my_string_1+my_string_2)\n",
    "print(eval(my_string_1+my_string_2))\n",
    "print(eval(my_string_1)+eval(my_string_2))\n",
    "print(int(my_string_1)+int(my_string_2))\n",
    "print(eval(\"{} + {}\".format(my_string_1,my_string_2)))"
   ]
  },
  {
   "cell_type": "code",
   "execution_count": 18,
   "id": "cef066a3",
   "metadata": {},
   "outputs": [
    {
     "ename": "TypeError",
     "evalue": "unsupported operand type(s) for +: 'int' and 'str'",
     "output_type": "error",
     "traceback": [
      "\u001b[1;31m---------------------------------------------------------------------------\u001b[0m",
      "\u001b[1;31mTypeError\u001b[0m                                 Traceback (most recent call last)",
      "Cell \u001b[1;32mIn[18], line 2\u001b[0m\n\u001b[0;32m      1\u001b[0m \u001b[38;5;66;03m#error comín intentar sumar un entero y una cadena\u001b[39;00m\n\u001b[1;32m----> 2\u001b[0m \u001b[38;5;241m10\u001b[39m \u001b[38;5;241m+\u001b[39m \u001b[38;5;124m\"\u001b[39m\u001b[38;5;124m10\u001b[39m\u001b[38;5;124m\"\u001b[39m\n",
      "\u001b[1;31mTypeError\u001b[0m: unsupported operand type(s) for +: 'int' and 'str'"
     ]
    }
   ],
   "source": [
    "#error comín intentar sumar un entero y una cadena\n",
    "10 + \"10\""
   ]
  },
  {
   "cell_type": "markdown",
   "id": "3acd54b2",
   "metadata": {},
   "source": [
    "# Multiplicación de Cadenas"
   ]
  },
  {
   "cell_type": "code",
   "execution_count": 19,
   "id": "900dd0f7",
   "metadata": {},
   "outputs": [
    {
     "name": "stdout",
     "output_type": "stream",
     "text": [
      "cargando.....cargando.....cargando.....cargando.....cargando.....\n"
     ]
    }
   ],
   "source": [
    "my_string = \"cargando.....\"\n",
    "print(my_string*5)"
   ]
  },
  {
   "cell_type": "code",
   "execution_count": 20,
   "id": "86583122",
   "metadata": {},
   "outputs": [
    {
     "name": "stdout",
     "output_type": "stream",
     "text": [
      "cargando.....\n",
      "cargando.....\n",
      "cargando.....\n",
      "cargando.....\n",
      "cargando.....\n",
      "\n"
     ]
    }
   ],
   "source": [
    "my_string = \"cargando.....\\n\"\n",
    "print(my_string*5)"
   ]
  },
  {
   "cell_type": "code",
   "execution_count": 23,
   "id": "bfa3d9a2",
   "metadata": {},
   "outputs": [
    {
     "name": "stdout",
     "output_type": "stream",
     "text": [
      "cargando.....\n",
      "cargando.....\n",
      "cargando.....\n",
      "cargando.....\n",
      "cargando.....\n",
      "cargando.....\n",
      "cargando.....\n",
      "cargando.....\n",
      "cargando.....\n",
      "cargando.....\n",
      "\n"
     ]
    }
   ],
   "source": [
    "my_string = \"cargando.....\\n\"\n",
    "print(my_string*10)"
   ]
  },
  {
   "cell_type": "code",
   "execution_count": 22,
   "id": "db182ac9",
   "metadata": {},
   "outputs": [
    {
     "name": "stdout",
     "output_type": "stream",
     "text": [
      "\n"
     ]
    }
   ],
   "source": [
    "# vacio\n",
    "my_string = \"cargando.....\"\n",
    "print(my_string*0)"
   ]
  },
  {
   "cell_type": "code",
   "execution_count": 24,
   "id": "263df77c",
   "metadata": {},
   "outputs": [
    {
     "name": "stdout",
     "output_type": "stream",
     "text": [
      "\n"
     ]
    }
   ],
   "source": [
    "# vacio\n",
    "my_string = \"cargando.....\"\n",
    "print(my_string*-6)"
   ]
  },
  {
   "cell_type": "code",
   "execution_count": 25,
   "id": "856a5e26",
   "metadata": {},
   "outputs": [
    {
     "ename": "TypeError",
     "evalue": "can't multiply sequence by non-int of type 'float'",
     "output_type": "error",
     "traceback": [
      "\u001b[1;31m---------------------------------------------------------------------------\u001b[0m",
      "\u001b[1;31mTypeError\u001b[0m                                 Traceback (most recent call last)",
      "Cell \u001b[1;32mIn[25], line 3\u001b[0m\n\u001b[0;32m      1\u001b[0m \u001b[38;5;66;03m# vacio\u001b[39;00m\n\u001b[0;32m      2\u001b[0m my_string \u001b[38;5;241m=\u001b[39m \u001b[38;5;124m\"\u001b[39m\u001b[38;5;124mcargando.....\u001b[39m\u001b[38;5;124m\"\u001b[39m\n\u001b[1;32m----> 3\u001b[0m \u001b[38;5;28mprint\u001b[39m(my_string\u001b[38;5;241m*\u001b[39m\u001b[38;5;241m-\u001b[39m\u001b[38;5;241m10.5\u001b[39m)\n",
      "\u001b[1;31mTypeError\u001b[0m: can't multiply sequence by non-int of type 'float'"
     ]
    }
   ],
   "source": [
    "# error no se puede multiplicar por un float solo enteros\n",
    "my_string = \"cargando.....\"\n",
    "print(my_string*-10.5)"
   ]
  },
  {
   "cell_type": "markdown",
   "id": "c6aaedd5",
   "metadata": {},
   "source": [
    "## Comporación de cadenas"
   ]
  },
  {
   "cell_type": "code",
   "execution_count": 26,
   "id": "39ce498c",
   "metadata": {},
   "outputs": [
    {
     "name": "stdout",
     "output_type": "stream",
     "text": [
      "False\n"
     ]
    }
   ],
   "source": [
    "my_string_1 = \"Python\"\n",
    "my_string_2 = \"python\"\n",
    "print(my_string_1 == my_string_2)"
   ]
  },
  {
   "cell_type": "code",
   "execution_count": 27,
   "id": "97fb715d",
   "metadata": {},
   "outputs": [
    {
     "name": "stdout",
     "output_type": "stream",
     "text": [
      "True\n"
     ]
    }
   ],
   "source": [
    "my_string_1 = \"Python\"\n",
    "my_string_2 = \"python\"\n",
    "print(my_string_1 != my_string_2)"
   ]
  },
  {
   "cell_type": "code",
   "execution_count": 28,
   "id": "9cbc06f0",
   "metadata": {},
   "outputs": [
    {
     "name": "stdout",
     "output_type": "stream",
     "text": [
      "True\n"
     ]
    }
   ],
   "source": [
    "my_string_1 = \"Python\"\n",
    "my_string_2 = \"Python\"\n",
    "print(my_string_1 == my_string_2)"
   ]
  },
  {
   "cell_type": "code",
   "execution_count": 29,
   "id": "fb49bbdb",
   "metadata": {},
   "outputs": [
    {
     "name": "stdout",
     "output_type": "stream",
     "text": [
      "False\n"
     ]
    }
   ],
   "source": [
    "my_string_1 = \"Python\"\n",
    "my_string_2 = \"Python\"\n",
    "print(my_string_1 != my_string_2)"
   ]
  },
  {
   "cell_type": "markdown",
   "id": "bde4e8f6",
   "metadata": {},
   "source": [
    "# Funciones de Cadenas"
   ]
  },
  {
   "cell_type": "markdown",
   "id": "694bf649",
   "metadata": {},
   "source": [
    "### Split\n",
    "divide la cadena basádose en el separador espesificado"
   ]
  },
  {
   "cell_type": "code",
   "execution_count": 2,
   "id": "2808a256",
   "metadata": {},
   "outputs": [
    {
     "name": "stdout",
     "output_type": "stream",
     "text": [
      "['El', 'curso', 'de', 'Backend', 'Python', 'de', 'EBAC', 'te', 'lleva', 'de', 'la', 'mano', 'para', 'que', 'aprendas', 'a', 'programar']\n"
     ]
    }
   ],
   "source": [
    "my_string = \"El curso de Backend Python de EBAC te lleva de la mano para que aprendas a programar\"\n",
    "my_split=my_string.split(\" \")\n",
    "print(my_split)"
   ]
  },
  {
   "cell_type": "code",
   "execution_count": 35,
   "id": "091074ec",
   "metadata": {},
   "outputs": [
    {
     "name": "stdout",
     "output_type": "stream",
     "text": [
      "jzepeda\n",
      "fullsand.com\n"
     ]
    }
   ],
   "source": [
    "my_string = \"jzepeda@fullsand.com\"\n",
    "usename,domian= my_string.split(\"@\")\n",
    "print(usename)\n",
    "print(domian)"
   ]
  },
  {
   "cell_type": "code",
   "execution_count": 3,
   "id": "015dbe43",
   "metadata": {},
   "outputs": [
    {
     "name": "stdout",
     "output_type": "stream",
     "text": [
      "Date:  2022-09-28\n",
      "Error:  error\n",
      "Message:  Este es un mensaje de error\n",
      "Date:  2022-09-27\n",
      "Error:  warning\n",
      "Message:  Este es un mensaje de advertencia\n",
      "Date:  2022-09-25\n",
      "Error:  inf\n",
      "Message:  este es un mensaje informativo\n"
     ]
    }
   ],
   "source": [
    "my_string =\"\"\"2022-09-28|error|Este es un mensaje de error\n",
    "2022-09-27|warning|Este es un mensaje de advertencia\n",
    "2022-09-25|inf|este es un mensaje informativo\"\"\"\n",
    "longs= my_string.split(\"\\n\")\n",
    "for long in longs:\n",
    "    date,error, message=long.split(\"|\")\n",
    "    print(\"Date: \",date)\n",
    "    print(\"Error: \",error)\n",
    "    print(\"Message: \",message)\n",
    "    \n",
    "    "
   ]
  },
  {
   "cell_type": "markdown",
   "id": "6dbf6959",
   "metadata": {},
   "source": [
    "## Index / find\n",
    "Busca la primer posición de la cadena solicitada en la cadena deseada."
   ]
  },
  {
   "cell_type": "code",
   "execution_count": 4,
   "id": "50c458ad",
   "metadata": {},
   "outputs": [
    {
     "name": "stdout",
     "output_type": "stream",
     "text": [
      "La primera posición de Python en my_string es:  20\n",
      "La primera posición de Python en my_string es:  20\n"
     ]
    }
   ],
   "source": [
    "my_string= \"El Curso de Backend Python de EBAC te lleva de la mano para aprender a programar\"\n",
    "print(\"La primera posición de Python en my_string es: \",my_string.index(\"Python\"))\n",
    "print(\"La primera posición de Python en my_string es: \",my_string.find(\"Python\"))"
   ]
  },
  {
   "cell_type": "code",
   "execution_count": 42,
   "id": "35689b3f",
   "metadata": {},
   "outputs": [
    {
     "name": "stdout",
     "output_type": "stream",
     "text": [
      "La primera posicion de 'Backend' en my_string:  12\n",
      "La primera posicion de 'Backend' en my_string:  12\n"
     ]
    }
   ],
   "source": [
    "my_string= \"El Curso de Backend Python de EBAC te lleva de la mano para aprender a programar\"\n",
    "print(\"La primera posicion de 'Backend' en my_string: \",my_string.index(\"Backend\"))\n",
    "print(\"La primera posicion de 'Backend' en my_string: \",my_string.find(\"Backend\"))"
   ]
  },
  {
   "cell_type": "code",
   "execution_count": 43,
   "id": "535d44cf",
   "metadata": {},
   "outputs": [
    {
     "name": "stdout",
     "output_type": "stream",
     "text": [
      "La primera posicion de 'Backend' en my_string:  0\n",
      "La primera posicion de 'Backend' en my_string:  0\n"
     ]
    }
   ],
   "source": [
    "my_string= \"El Curso de Backend Python de EBAC te lleva de la mano para aprender a programar\"\n",
    "print(\"La primera posicion de 'Backend' en my_string: \",my_string.index(\"E\"))\n",
    "print(\"La primera posicion de 'Backend' en my_string: \",my_string.find(\"E\"))"
   ]
  },
  {
   "cell_type": "markdown",
   "id": "13db65cb",
   "metadata": {},
   "source": [
    "# Count\n",
    "Cuenta el número de las subcadenas solicitada en la cadena completa"
   ]
  },
  {
   "cell_type": "code",
   "execution_count": 3,
   "id": "18e6e539",
   "metadata": {},
   "outputs": [
    {
     "name": "stdout",
     "output_type": "stream",
     "text": [
      "la cantdad de E  en my_string ses: 2\n"
     ]
    }
   ],
   "source": [
    "my_string= \"El Curso de Backend Python de EBAC te lleva de la mano para aprender a programar\"\n",
    "print(\"la cantidad de 'E' en my_string es: \",my_string.count(\"E\"))"
   ]
  },
  {
   "cell_type": "code",
   "execution_count": 5,
   "id": "03c5aece",
   "metadata": {},
   "outputs": [
    {
     "name": "stdout",
     "output_type": "stream",
     "text": [
      "la cantidad de 'de' en my_string es:  4\n"
     ]
    }
   ],
   "source": [
    "my_string= \"El Curso de Backend Python de EBAC te lleva de la mano para aprender a programar\"\n",
    "print(\"la cantidad de 'de' en my_string es: \", my_string.count(\"de\"))"
   ]
  },
  {
   "cell_type": "markdown",
   "id": "dc0fc76d",
   "metadata": {},
   "source": [
    "# Len\n",
    "Cuenta la longtud de caracteres hay en una cadena"
   ]
  },
  {
   "cell_type": "code",
   "execution_count": 4,
   "id": "199ce49d",
   "metadata": {},
   "outputs": [
    {
     "name": "stdout",
     "output_type": "stream",
     "text": [
      "la cantidad de caracteres en my_string ses: 80\n"
     ]
    }
   ],
   "source": [
    "my_string= \"El Curso de Backend Python de EBAC te lleva de la mano para aprender a programar\"\n",
    "print(\"la cantidad de caracteres en my_string ses:\",len(my_string))"
   ]
  },
  {
   "cell_type": "code",
   "execution_count": 5,
   "id": "3718cbc6",
   "metadata": {},
   "outputs": [
    {
     "name": "stdout",
     "output_type": "stream",
     "text": [
      "la cantidad de caracteres en my_string ses: 14\n"
     ]
    }
   ],
   "source": [
    "my_string= \"Backend Python\"\n",
    "print(\"la cantidad de caracteres en my_string ses:\",len(my_string))"
   ]
  },
  {
   "cell_type": "markdown",
   "id": "ba049468",
   "metadata": {},
   "source": [
    "### Strip\n",
    "Remueve espacios"
   ]
  },
  {
   "cell_type": "code",
   "execution_count": 9,
   "id": "73007023",
   "metadata": {},
   "outputs": [
    {
     "name": "stdout",
     "output_type": "stream",
     "text": [
      "[    Hola me llamo    ]\n",
      "[Hola me llamo]\n"
     ]
    }
   ],
   "source": [
    "my_string=\"    Hola me llamo    \"\n",
    "print(\"[{}]\".format(my_string))\n",
    "print(\"[{}]\".format(my_string.strip()))"
   ]
  },
  {
   "cell_type": "code",
   "execution_count": 8,
   "id": "6a9033fe",
   "metadata": {},
   "outputs": [
    {
     "name": "stdout",
     "output_type": "stream",
     "text": [
      "[   \n",
      "\n",
      "\t\r",
      "Backend Python\n",
      "\n",
      "\t\r",
      "   ]\n",
      "[Backend Python]\n"
     ]
    }
   ],
   "source": [
    "my_string= \"   \\n\\n\\t\\rBackend Python\\n\\n\\t\\r   \"\n",
    "print(\"[{}]\".format(my_string))\n",
    "print(\"[{}]\".format(my_string.strip()))"
   ]
  },
  {
   "cell_type": "code",
   "execution_count": 9,
   "id": "96aa3ef1",
   "metadata": {},
   "outputs": [
    {
     "name": "stdout",
     "output_type": "stream",
     "text": [
      "[Backend Python]\n",
      "[Backend Pytho]\n"
     ]
    }
   ],
   "source": [
    "my_string= \"Backend Python\"\n",
    "print(\"[{}]\".format(my_string))\n",
    "print(\"[{}]\".format(my_string.strip(\"n\")))"
   ]
  },
  {
   "cell_type": "markdown",
   "id": "c713c14c",
   "metadata": {},
   "source": [
    "### isdecimal/isnumeric/isdigit\n",
    "Analiza si una cadena contiene solo números/enteros"
   ]
  },
  {
   "cell_type": "code",
   "execution_count": 10,
   "id": "03fb05ab",
   "metadata": {},
   "outputs": [
    {
     "name": "stdout",
     "output_type": "stream",
     "text": [
      "True\n",
      "True\n",
      "True\n"
     ]
    }
   ],
   "source": [
    "my_string = \"123468765456\"\n",
    "print(my_string.isdecimal())\n",
    "print(my_string.isnumeric())\n",
    "print(my_string.isdigit())\n"
   ]
  },
  {
   "cell_type": "code",
   "execution_count": 11,
   "id": "7199375b",
   "metadata": {},
   "outputs": [
    {
     "name": "stdout",
     "output_type": "stream",
     "text": [
      "False\n",
      "False\n",
      "False\n"
     ]
    }
   ],
   "source": [
    "my_string = \"123468.765456\"\n",
    "print(my_string.isdecimal())\n",
    "print(my_string.isnumeric())\n",
    "print(my_string.isdigit())"
   ]
  },
  {
   "cell_type": "code",
   "execution_count": 12,
   "id": "b64198c2",
   "metadata": {},
   "outputs": [
    {
     "name": "stdout",
     "output_type": "stream",
     "text": [
      "False\n",
      "False\n",
      "False\n"
     ]
    }
   ],
   "source": [
    "my_string = \"123468 765456\"\n",
    "print(my_string.isdecimal())\n",
    "print(my_string.isnumeric())\n",
    "print(my_string.isdigit())"
   ]
  },
  {
   "cell_type": "markdown",
   "id": "0adb489d",
   "metadata": {},
   "source": [
    " ### isalnum\n",
    " Analiza todos los caracteres de una cadena si son alfanumericas(letras o números)"
   ]
  },
  {
   "cell_type": "code",
   "execution_count": 15,
   "id": "f2fc0370",
   "metadata": {},
   "outputs": [
    {
     "name": "stdout",
     "output_type": "stream",
     "text": [
      "True\n"
     ]
    }
   ],
   "source": [
    "my_string=\"234567890\"\n",
    "print(my_string.isalnum())\n"
   ]
  },
  {
   "cell_type": "code",
   "execution_count": 16,
   "id": "834c202f",
   "metadata": {},
   "outputs": [
    {
     "name": "stdout",
     "output_type": "stream",
     "text": [
      "False\n"
     ]
    }
   ],
   "source": [
    "my_string=\"234567890.\"\n",
    "print(my_string.isalnum())\n"
   ]
  },
  {
   "cell_type": "code",
   "execution_count": 17,
   "id": "d458c6db",
   "metadata": {},
   "outputs": [
    {
     "name": "stdout",
     "output_type": "stream",
     "text": [
      "True\n"
     ]
    }
   ],
   "source": [
    "my_string=\"234567890tesgg\"\n",
    "print(my_string.isalnum())"
   ]
  },
  {
   "cell_type": "code",
   "execution_count": 18,
   "id": "22b3b642",
   "metadata": {},
   "outputs": [
    {
     "name": "stdout",
     "output_type": "stream",
     "text": [
      "False\n"
     ]
    }
   ],
   "source": [
    "my_string=\"234567890tesgg  \"\n",
    "print(my_string.isalnum())"
   ]
  },
  {
   "cell_type": "markdown",
   "id": "c1b6b6c0",
   "metadata": {},
   "source": [
    "### isupper\n",
    "Es una función que sirve para analizar las letras de una cadena son todas mayúsculas"
   ]
  },
  {
   "cell_type": "code",
   "execution_count": 19,
   "id": "659598ef",
   "metadata": {},
   "outputs": [
    {
     "name": "stdout",
     "output_type": "stream",
     "text": [
      "False\n"
     ]
    }
   ],
   "source": [
    "my_string=\"Python\"\n",
    "print(my_string.isupper())\n"
   ]
  },
  {
   "cell_type": "code",
   "execution_count": 21,
   "id": "d7d74afe",
   "metadata": {},
   "outputs": [
    {
     "name": "stdout",
     "output_type": "stream",
     "text": [
      "True\n"
     ]
    }
   ],
   "source": [
    "my_string=\"ESCUELA EBAC\"\n",
    "print(my_string.isupper())"
   ]
  },
  {
   "cell_type": "code",
   "execution_count": 22,
   "id": "7bb2aa7d",
   "metadata": {},
   "outputs": [
    {
     "name": "stdout",
     "output_type": "stream",
     "text": [
      "True\n"
     ]
    }
   ],
   "source": [
    "my_string=\"ESCUELA EBAC 2023\"\n",
    "print(my_string.isupper())"
   ]
  },
  {
   "cell_type": "markdown",
   "id": "1aa6e4c8",
   "metadata": {},
   "source": [
    "### islower\n",
    "Es una función que analiza las letras de una cadena si son todas minúsculas."
   ]
  },
  {
   "cell_type": "code",
   "execution_count": 23,
   "id": "8e961dff",
   "metadata": {},
   "outputs": [
    {
     "name": "stdout",
     "output_type": "stream",
     "text": [
      "False\n"
     ]
    }
   ],
   "source": [
    "my_string=\"Backend Python\"\n",
    "print(my_string.islower())"
   ]
  },
  {
   "cell_type": "code",
   "execution_count": 25,
   "id": "24a3a407",
   "metadata": {},
   "outputs": [
    {
     "name": "stdout",
     "output_type": "stream",
     "text": [
      "True\n"
     ]
    }
   ],
   "source": [
    "my_string=\"backend python\"\n",
    "print(my_string.islower())"
   ]
  },
  {
   "cell_type": "code",
   "execution_count": 26,
   "id": "d3c315fd",
   "metadata": {},
   "outputs": [
    {
     "name": "stdout",
     "output_type": "stream",
     "text": [
      "True\n"
     ]
    }
   ],
   "source": [
    "my_string=\"backend python 2023\"\n",
    "print(my_string.islower())"
   ]
  },
  {
   "cell_type": "markdown",
   "id": "9e78740b",
   "metadata": {},
   "source": [
    "### join\n",
    "Sirve para crear una cadena de una lista, usando el separador espesifico."
   ]
  },
  {
   "cell_type": "code",
   "execution_count": 28,
   "id": "d447c67d",
   "metadata": {},
   "outputs": [
    {
     "name": "stdout",
     "output_type": "stream",
     "text": [
      "12|14|15\n"
     ]
    }
   ],
   "source": [
    "my_set=[\"12\",\"14\",\"15\"] # list\n",
    "separador=\"|\"\n",
    "print(separador.join(my_set))"
   ]
  },
  {
   "cell_type": "code",
   "execution_count": 29,
   "id": "de0c4a34",
   "metadata": {},
   "outputs": [
    {
     "name": "stdout",
     "output_type": "stream",
     "text": [
      "12-14-15\n"
     ]
    }
   ],
   "source": [
    "my_set=[\"12\",\"14\",\"15\"] # list\n",
    "separador=\"-\"\n",
    "print(separador.join(my_set))"
   ]
  },
  {
   "cell_type": "code",
   "execution_count": 30,
   "id": "1293cb3c",
   "metadata": {},
   "outputs": [
    {
     "name": "stdout",
     "output_type": "stream",
     "text": [
      "12,14,15\n"
     ]
    }
   ],
   "source": [
    "my_set=[\"12\",\"14\",\"15\"] # list\n",
    "separador=\",\"\n",
    "print(separador.join(my_set))"
   ]
  },
  {
   "cell_type": "markdown",
   "id": "c288025c",
   "metadata": {},
   "source": [
    "### capitalize\n",
    "Es una función que sirve para convertir la primera letra de una cadena en mayúscula"
   ]
  },
  {
   "cell_type": "code",
   "execution_count": 1,
   "id": "ab2ca3a9",
   "metadata": {},
   "outputs": [
    {
     "name": "stdout",
     "output_type": "stream",
     "text": [
      "Hola mundo\n"
     ]
    }
   ],
   "source": [
    "my_string=\"hola mundo\"\n",
    "print(my_string.capitalize())"
   ]
  },
  {
   "cell_type": "code",
   "execution_count": 2,
   "id": "5bc0c76a",
   "metadata": {},
   "outputs": [
    {
     "name": "stdout",
     "output_type": "stream",
     "text": [
      "Hola mundo\n"
     ]
    }
   ],
   "source": [
    "my_string=\"Hola mundo\"\n",
    "print(my_string.capitalize())"
   ]
  },
  {
   "cell_type": "markdown",
   "id": "8cb00eb3",
   "metadata": {},
   "source": [
    "### format\n",
    "Es una función que sirve para configurar valores dentro de una cadena que es nuestro molde"
   ]
  },
  {
   "cell_type": "code",
   "execution_count": 3,
   "id": "493acbad",
   "metadata": {},
   "outputs": [
    {
     "name": "stdout",
     "output_type": "stream",
     "text": [
      "25 es el valor\n",
      "12 es el valor\n",
      "1 es el valor\n"
     ]
    }
   ],
   "source": [
    "my_string=\"{} es el valor\"\n",
    "print(my_string.format(\"25\"))\n",
    "print(my_string.format(\"12\"))\n",
    "print(my_string.format(\"1\"))\n"
   ]
  },
  {
   "cell_type": "code",
   "execution_count": 6,
   "id": "cbd2480a",
   "metadata": {},
   "outputs": [
    {
     "name": "stdout",
     "output_type": "stream",
     "text": [
      " año: 1994 hora: 12:00\n",
      " año: 2023 hora: 13:00\n",
      " año: 2021 hora: 10:00\n"
     ]
    }
   ],
   "source": [
    "my_string=\" año: {} hora: {}\"\n",
    "print(my_string.format(\"1994\",\"12:00\"))\n",
    "print(my_string.format(\"2023\",\"13:00\"))\n",
    "print(my_string.format(\"2021\",\"10:00\"))"
   ]
  },
  {
   "cell_type": "code",
   "execution_count": 8,
   "id": "948a45e4",
   "metadata": {},
   "outputs": [
    {
     "name": "stdout",
     "output_type": "stream",
     "text": [
      " hora: 12:00 año: 1994\n",
      " hora: 13:00 año: 2023\n",
      " hora: 10:00 año: 2021\n"
     ]
    }
   ],
   "source": [
    "my_string=\" hora: {1} año: {0}\"\n",
    "print(my_string.format(\"1994\",\"12:00\"))\n",
    "print(my_string.format(\"2023\",\"13:00\"))\n",
    "print(my_string.format(\"2021\",\"10:00\"))"
   ]
  },
  {
   "cell_type": "markdown",
   "id": "b6080b4b",
   "metadata": {},
   "source": [
    "### center\n",
    "La función sirve para centrar el texto dada cierta longitud\n"
   ]
  },
  {
   "cell_type": "code",
   "execution_count": 12,
   "id": "801b09f5",
   "metadata": {},
   "outputs": [
    {
     "name": "stdout",
     "output_type": "stream",
     "text": [
      "[probando fuinciones ]\n",
      "[     probando fuinciones      ]\n",
      "[          probando fuinciones           ]\n",
      "[               probando fuinciones                ]\n"
     ]
    }
   ],
   "source": [
    "my_string=\"probando fuinciones\"\n",
    "print(\"[{}]\".format(my_string.center(20)))\n",
    "print(\"[{}]\".format(my_string.center(30)))\n",
    "print(\"[{}]\".format(my_string.center(40)))\n",
    "print(\"[{}]\".format(my_string.center(50)))"
   ]
  },
  {
   "cell_type": "markdown",
   "id": "29e75f53",
   "metadata": {},
   "source": [
    "### endswith\n",
    "Evalua si la cadena termina con el caracter o palabra solicitada"
   ]
  },
  {
   "cell_type": "code",
   "execution_count": 13,
   "id": "4bf8dfc7",
   "metadata": {},
   "outputs": [
    {
     "name": "stdout",
     "output_type": "stream",
     "text": [
      "True\n"
     ]
    }
   ],
   "source": [
    "my_string=\"probando fuinciones\"\n",
    "print(my_string.endswith(\"s\"))"
   ]
  },
  {
   "cell_type": "code",
   "execution_count": 14,
   "id": "6ea04610",
   "metadata": {},
   "outputs": [
    {
     "name": "stdout",
     "output_type": "stream",
     "text": [
      "True\n"
     ]
    }
   ],
   "source": [
    "my_string=\"probando fuinciones\"\n",
    "print(my_string.endswith(\"fuinciones\"))"
   ]
  },
  {
   "cell_type": "code",
   "execution_count": 15,
   "id": "1c2378b4",
   "metadata": {},
   "outputs": [
    {
     "name": "stdout",
     "output_type": "stream",
     "text": [
      "True\n"
     ]
    }
   ],
   "source": [
    "my_string=\"probando fuinciones\"\n",
    "print(my_string.endswith(\"ando fuinciones\"))"
   ]
  },
  {
   "cell_type": "code",
   "execution_count": 16,
   "id": "ff00eb20",
   "metadata": {},
   "outputs": [
    {
     "name": "stdout",
     "output_type": "stream",
     "text": [
      "False\n"
     ]
    }
   ],
   "source": [
    "my_string=\"probando fuinciones\"\n",
    "print(my_string.endswith(\"probando\"))"
   ]
  },
  {
   "cell_type": "markdown",
   "id": "53432c1b",
   "metadata": {},
   "source": [
    "### swapcase\n",
    "invierte mayúsculas a minúsculas"
   ]
  },
  {
   "cell_type": "code",
   "execution_count": 18,
   "id": "47ffcc31",
   "metadata": {},
   "outputs": [
    {
     "name": "stdout",
     "output_type": "stream",
     "text": [
      "hOLA mUNDO\n"
     ]
    }
   ],
   "source": [
    "my_string=\"Hola Mundo\"\n",
    "print(my_string.swapcase())"
   ]
  },
  {
   "cell_type": "markdown",
   "id": "469aec9b",
   "metadata": {},
   "source": [
    "### replace\n",
    "Remplaza una subcadena por otra subcadena dentro de una cadena"
   ]
  },
  {
   "cell_type": "code",
   "execution_count": 19,
   "id": "3d180b6c",
   "metadata": {},
   "outputs": [
    {
     "name": "stdout",
     "output_type": "stream",
     "text": [
      "Hello Mundo\n"
     ]
    }
   ],
   "source": [
    "my_string=\"Hola Mundo\"\n",
    "print(my_string.replace(\"Hola\", \"Hello\"))"
   ]
  },
  {
   "cell_type": "code",
   "execution_count": 20,
   "id": "5ddca92e",
   "metadata": {},
   "outputs": [
    {
     "name": "stdout",
     "output_type": "stream",
     "text": [
      "Hola\n",
      "Mundo\n"
     ]
    }
   ],
   "source": [
    "my_string=\"Hola Mundo\"\n",
    "print(my_string.replace(\" \", \"\\n\"))"
   ]
  },
  {
   "cell_type": "code",
   "execution_count": 21,
   "id": "59c93826",
   "metadata": {},
   "outputs": [
    {
     "name": "stdout",
     "output_type": "stream",
     "text": [
      "HOla MundO\n"
     ]
    }
   ],
   "source": [
    "my_string=\"Hola Mundo\"\n",
    "print(my_string.replace(\"o\", \"O\"))"
   ]
  },
  {
   "cell_type": "code",
   "execution_count": 22,
   "id": "d204e7b6",
   "metadata": {},
   "outputs": [
    {
     "name": "stdout",
     "output_type": "stream",
     "text": [
      "Hola Mundo\n"
     ]
    }
   ],
   "source": [
    "my_string=\"Hola Mundo\"\n",
    "print(my_string.replace(\"y\", \"O\"))"
   ]
  },
  {
   "cell_type": "markdown",
   "id": "98dacd89",
   "metadata": {},
   "source": [
    "### Formateo de cadenas y datetime"
   ]
  },
  {
   "cell_type": "code",
   "execution_count": 1,
   "id": "33092bd6",
   "metadata": {},
   "outputs": [
    {
     "name": "stdout",
     "output_type": "stream",
     "text": [
      "2023-12-20 22:20:21.693549\n"
     ]
    }
   ],
   "source": [
    "from datetime import datetime\n",
    "now=datetime.now()\n",
    "print(now)"
   ]
  },
  {
   "cell_type": "code",
   "execution_count": 3,
   "id": "2aecaf04",
   "metadata": {},
   "outputs": [
    {
     "name": "stdout",
     "output_type": "stream",
     "text": [
      "Año: 2023\n",
      "Mes:  12\n",
      "Dia:  20\n",
      "Hora:  22:20:21\n"
     ]
    }
   ],
   "source": [
    "year=now.strftime(\"%Y\")\n",
    "month=now.strftime(\"%m\")\n",
    "day=now.strftime(\"%d\")\n",
    "time=now.strftime(\"%H:%M:%S\")\n",
    "print(\"Año:\", year)\n",
    "print(\"Mes: \",month)\n",
    "print(\"Dia: \",day)\n",
    "print(\"Hora: \",time)\n"
   ]
  },
  {
   "cell_type": "markdown",
   "id": "aa72a295",
   "metadata": {},
   "source": [
    "### Reverse/ reversa\n",
    "Invertir una cadena"
   ]
  },
  {
   "cell_type": "code",
   "execution_count": 4,
   "id": "1c081f2d",
   "metadata": {},
   "outputs": [
    {
     "name": "stdout",
     "output_type": "stream",
     "text": [
      "3202 oinotnA CABE nohtyP dnekcaB\n"
     ]
    }
   ],
   "source": [
    "my_string=\"Backend Python EBAC Antonio 2023\"\n",
    "print(my_string [::-1])"
   ]
  },
  {
   "cell_type": "code",
   "execution_count": null,
   "id": "d35ae05c",
   "metadata": {},
   "outputs": [],
   "source": []
  }
 ],
 "metadata": {
  "kernelspec": {
   "display_name": "Python 3 (ipykernel)",
   "language": "python",
   "name": "python3"
  },
  "language_info": {
   "codemirror_mode": {
    "name": "ipython",
    "version": 3
   },
   "file_extension": ".py",
   "mimetype": "text/x-python",
   "name": "python",
   "nbconvert_exporter": "python",
   "pygments_lexer": "ipython3",
   "version": "3.11.5"
  }
 },
 "nbformat": 4,
 "nbformat_minor": 5
}
