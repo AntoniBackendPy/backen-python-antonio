{
 "cells": [
  {
   "cell_type": "code",
   "execution_count": 10,
   "id": "41bf240e",
   "metadata": {},
   "outputs": [
    {
     "name": "stdout",
     "output_type": "stream",
     "text": [
      "Introduce el valor entero:12\n",
      "Ingresa un valor flotante:1.5\n",
      "Intrudce una cadena:hola mundo\n",
      "El valor de entero es: 12 tipo de dato--> <class 'int'>\n",
      "El valor de flotante es: 1.5 tipo de dato--> <class 'float'>\n",
      "El valor de la cadena es: hola mundo tipo de dato--> <class 'str'>\n"
     ]
    }
   ],
   "source": [
    "entero=eval(input(\"Introduce el valor entero:\"))\n",
    "flotante=eval(input(\"Ingresa un valor flotante:\"))\n",
    "string=input(\"Intrudce una cadena:\")\n",
    "print(\"El valor de entero es:\",entero,\"tipo de dato-->\",type(entero))\n",
    "print(\"El valor de flotante es:\",flotante,\"tipo de dato-->\",type(flotante))\n",
    "print(\"El valor de la cadena es:\",string,\"tipo de dato-->\",type(string))"
   ]
  },
  {
   "cell_type": "code",
   "execution_count": null,
   "id": "17b43387",
   "metadata": {},
   "outputs": [],
   "source": []
  },
  {
   "cell_type": "code",
   "execution_count": null,
   "id": "202afc54",
   "metadata": {},
   "outputs": [],
   "source": []
  }
 ],
 "metadata": {
  "kernelspec": {
   "display_name": "Python 3 (ipykernel)",
   "language": "python",
   "name": "python3"
  },
  "language_info": {
   "codemirror_mode": {
    "name": "ipython",
    "version": 3
   },
   "file_extension": ".py",
   "mimetype": "text/x-python",
   "name": "python",
   "nbconvert_exporter": "python",
   "pygments_lexer": "ipython3",
   "version": "3.11.5"
  }
 },
 "nbformat": 4,
 "nbformat_minor": 5
}
