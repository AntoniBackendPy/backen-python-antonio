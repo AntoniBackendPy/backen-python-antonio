{
 "cells": [
  {
   "cell_type": "markdown",
   "id": "4cba10cc",
   "metadata": {},
   "source": [
    "# Panorama\n",
    "\n",
    "int- Integer/Enteros\n",
    "\n",
    "float- Float/Flotantes\n",
    "\n",
    "complex- Complex/Complejos (Números una parte real y una imaginaria)\n",
    "\n",
    "bool - Boolean(True/False)/ Valores Lógicos(Verdadero/ Falso)\n",
    "\n",
    "str String/Cadenas, Texto\n",
    "    "
   ]
  },
  {
   "cell_type": "markdown",
   "id": "1df1abdc",
   "metadata": {},
   "source": [
    "# int- Integer/Enteros"
   ]
  },
  {
   "cell_type": "code",
   "execution_count": 1,
   "id": "d9570f7f",
   "metadata": {},
   "outputs": [
    {
     "name": "stdout",
     "output_type": "stream",
     "text": [
      "El Valor de my_integer es: 11\n",
      "El tipo de dato de my_integer es: <class 'int'>\n"
     ]
    }
   ],
   "source": [
    "my_integer =11\n",
    "print(\"El Valor de my_integer es:\",my_integer)\n",
    "print(\"El tipo de dato de my_integer es:\",type(my_integer))"
   ]
  },
  {
   "cell_type": "code",
   "execution_count": 2,
   "id": "2ebb32cb",
   "metadata": {},
   "outputs": [
    {
     "name": "stdout",
     "output_type": "stream",
     "text": [
      "El Valor de my_integer es: 2022\n",
      "El tipo de dato de my_integer es: <class 'int'>\n"
     ]
    }
   ],
   "source": [
    "my_integer =2022\n",
    "print(\"El Valor de my_integer es:\",my_integer)\n",
    "print(\"El tipo de dato de my_integer es:\",type(my_integer))"
   ]
  },
  {
   "cell_type": "code",
   "execution_count": 3,
   "id": "30cbfc24",
   "metadata": {},
   "outputs": [
    {
     "name": "stdout",
     "output_type": "stream",
     "text": [
      "El Valor de my_integer es: 5781\n",
      "El tipo de dato de my_integer es: <class 'int'>\n"
     ]
    }
   ],
   "source": [
    "my_integer =5781\n",
    "print(\"El Valor de my_integer es:\",my_integer)\n",
    "print(\"El tipo de dato de my_integer es:\",type(my_integer))"
   ]
  },
  {
   "cell_type": "code",
   "execution_count": 4,
   "id": "1728b6aa",
   "metadata": {},
   "outputs": [
    {
     "ename": "SyntaxError",
     "evalue": "invalid syntax (989932236.py, line 2)",
     "output_type": "error",
     "traceback": [
      "\u001b[1;36m  Cell \u001b[1;32mIn[4], line 2\u001b[1;36m\u001b[0m\n\u001b[1;33m    my_integer =5781@\u001b[0m\n\u001b[1;37m                     ^\u001b[0m\n\u001b[1;31mSyntaxError\u001b[0m\u001b[1;31m:\u001b[0m invalid syntax\n"
     ]
    }
   ],
   "source": [
    "#ejemplo de error\n",
    "my_integer =5781@\n",
    "print(\"El Valor de my_integer es:\",my_integer)\n",
    "print(\"El tipo de dato de my_integer es:\",type(my_integer))"
   ]
  },
  {
   "cell_type": "markdown",
   "id": "d3914bc4",
   "metadata": {},
   "source": [
    "# float- Float/Flotantes"
   ]
  },
  {
   "cell_type": "code",
   "execution_count": null,
   "id": "d7a7daf3",
   "metadata": {},
   "outputs": [],
   "source": [
    "my_float=11.1\n",
    "print(\"El valor de my_float es:\",my_float)\n",
    "print(\"El tipo de dato de my_float es:\", type(my_float))"
   ]
  },
  {
   "cell_type": "code",
   "execution_count": null,
   "id": "1506c995",
   "metadata": {},
   "outputs": [],
   "source": [
    "my_float=11.0\n",
    "print(\"El valor de my_float es:\",my_float)\n",
    "print(\"El tipo de dato de my_float es:\", type(my_float))"
   ]
  },
  {
   "cell_type": "code",
   "execution_count": null,
   "id": "e84f93fc",
   "metadata": {},
   "outputs": [],
   "source": [
    "my_float=11.0o\n",
    "print(\"El valor de my_float es:\",my_float)\n",
    "print(\"El tipo de dato de my_float es:\", type(my_float))"
   ]
  },
  {
   "cell_type": "code",
   "execution_count": null,
   "id": "084ef858",
   "metadata": {},
   "outputs": [],
   "source": [
    "# notación cientifica\n",
    "my_float=2e3 #--> 2.0*10**3\n",
    "print(\"El valor de my_float:\", my_float)\n",
    "print(\"El tipo de dato de my_float es\", type(my_float))\n"
   ]
  },
  {
   "cell_type": "code",
   "execution_count": null,
   "id": "6b5a8f1d",
   "metadata": {},
   "outputs": [],
   "source": [
    "1.1"
   ]
  },
  {
   "cell_type": "code",
   "execution_count": null,
   "id": "21e1c511",
   "metadata": {},
   "outputs": [],
   "source": [
    "1.1e0 # 1.1*10**0"
   ]
  },
  {
   "cell_type": "code",
   "execution_count": null,
   "id": "116d1be1",
   "metadata": {},
   "outputs": [],
   "source": [
    "1.1e1 # 1.1*10**1"
   ]
  },
  {
   "cell_type": "code",
   "execution_count": null,
   "id": "71ce34cb",
   "metadata": {},
   "outputs": [],
   "source": [
    "1.1e2 # 1.1 *10**2"
   ]
  },
  {
   "cell_type": "code",
   "execution_count": null,
   "id": "a7a20d6c",
   "metadata": {},
   "outputs": [],
   "source": [
    "1.1e3 # 1.1 *10**3"
   ]
  },
  {
   "cell_type": "code",
   "execution_count": null,
   "id": "a88424e8",
   "metadata": {},
   "outputs": [],
   "source": [
    "8e-2# 6*10**-2"
   ]
  },
  {
   "cell_type": "markdown",
   "id": "7d94207f",
   "metadata": {},
   "source": [
    "# complex- Complex/Complejos (Números una parte real y una imaginaria)"
   ]
  },
  {
   "cell_type": "markdown",
   "id": "006ce6dd",
   "metadata": {},
   "source": [
    "complex= x + yj\n",
    "\n",
    "x = parte real\n",
    "\n",
    "yj = Parte imaginaria\n"
   ]
  },
  {
   "cell_type": "code",
   "execution_count": null,
   "id": "03a62703",
   "metadata": {},
   "outputs": [],
   "source": [
    "my_complex= 3 + 9j\n",
    "print(\"El valor de my_complex es:\", my_complex)\n",
    "print(\"El tipo de dato de my_complex es:\", type(my_complex))"
   ]
  },
  {
   "cell_type": "code",
   "execution_count": null,
   "id": "3e80cfa0",
   "metadata": {},
   "outputs": [],
   "source": [
    "my_complex= 2 + 5j\n",
    "print(\"El valor de my_complex es:\", my_complex)\n",
    "print(\"El tipo de dato de my_complex es:\", type(my_complex))"
   ]
  },
  {
   "cell_type": "markdown",
   "id": "a65ffcfd",
   "metadata": {},
   "source": [
    "# bool - Boolean(True/False)/ Valores Lógicos(Verdadero/ Falso)"
   ]
  },
  {
   "cell_type": "code",
   "execution_count": null,
   "id": "885b5038",
   "metadata": {},
   "outputs": [],
   "source": [
    "my_boolean=False\n",
    "print(\"El valor de my_boolean es:\", my_boolean)\n",
    "print(\"El tipo de dato de my_boolean es:\",type(my_boolean))"
   ]
  },
  {
   "cell_type": "code",
   "execution_count": null,
   "id": "7eb4e0f5",
   "metadata": {},
   "outputs": [],
   "source": [
    "my_boolean=True\n",
    "print(\"El valor de my_boolean es:\", my_boolean)\n",
    "print(\"El tipo de dato de my_boolean es:\",type(my_boolean))"
   ]
  },
  {
   "cell_type": "code",
   "execution_count": null,
   "id": "f445af36",
   "metadata": {},
   "outputs": [],
   "source": [
    "# True = 1\n",
    "# False= 0"
   ]
  },
  {
   "cell_type": "code",
   "execution_count": null,
   "id": "01c86b99",
   "metadata": {},
   "outputs": [],
   "source": [
    "# 3\n",
    "print(True+True+True)"
   ]
  },
  {
   "cell_type": "code",
   "execution_count": null,
   "id": "b7a841fa",
   "metadata": {},
   "outputs": [],
   "source": [
    "# 0\n",
    "print(False+False+False)"
   ]
  },
  {
   "cell_type": "code",
   "execution_count": null,
   "id": "544cac62",
   "metadata": {},
   "outputs": [],
   "source": [
    "# 2 \n",
    "print(True+False+True)"
   ]
  },
  {
   "cell_type": "code",
   "execution_count": null,
   "id": "f13fdcee",
   "metadata": {},
   "outputs": [],
   "source": [
    "# 1\n",
    "print(True-True+True)"
   ]
  },
  {
   "cell_type": "code",
   "execution_count": null,
   "id": "e29278c5",
   "metadata": {},
   "outputs": [],
   "source": [
    "# -2\n",
    "print(False-True-True)"
   ]
  },
  {
   "cell_type": "markdown",
   "id": "d2d28190",
   "metadata": {},
   "source": [
    "# str String/Cadenas, Texto"
   ]
  },
  {
   "cell_type": "code",
   "execution_count": null,
   "id": "dd71b81d",
   "metadata": {},
   "outputs": [],
   "source": [
    "my_string=\"Backend Python\"\n",
    "print(\"El valor de my_string es:\",my_string)\n",
    "print(\"El tipo de dsto de my_str\",type(my_string))"
   ]
  },
  {
   "cell_type": "code",
   "execution_count": null,
   "id": "033452fa",
   "metadata": {},
   "outputs": [],
   "source": [
    "my_string=\"Curso de EBAC\"\n",
    "print(\"El valor de my_string es:\",my_string)\n",
    "print(\"El tipo de dsto de my_string\",type(my_string))"
   ]
  },
  {
   "cell_type": "code",
   "execution_count": null,
   "id": "7abcd59a",
   "metadata": {},
   "outputs": [],
   "source": [
    "my_string=\"\"\" \n",
    "Es una cadena de multiples lineas\\n\n",
    "como puede ver es genial para textos más largos\\n\n",
    "¿Puedes imaginar cuantas cosas podrias hacer manejando texto de internet?\n",
    "\"\"\"\n",
    "print(\"El valor de my_string\",my_string)\n",
    "print(\"El tipo de my_string\",type(my_string))"
   ]
  },
  {
   "cell_type": "markdown",
   "id": "3167a76c",
   "metadata": {},
   "source": [
    "# Variables\n",
    "##  ¿Qué es una variable?\n",
    "- Son un espacio temporal para guardar un valor con un nombre espesifico.\n",
    "- No hay necesidad de declarar la variable explicitamente.\n",
    "- Python el un lenguaje tipado dinamicamente, lo que quiere decir que el tipo de dato se define mientras corre el programa.\n",
    "- Las variables de python funcionan diferente que otros lenguajes de programación.\n",
    "- No nencesitamos crear variables, solo asignamos un nombre a un valor usando el operador de asignación.\n",
    "## Tipo de variables\n",
    "- Variables Globales: aquellas que se utilizan para todo el progrma.\n",
    "- Variables Localaes: aquellas que se utilizan en un bloque específico.\n"
   ]
  },
  {
   "cell_type": "markdown",
   "id": "b5122185",
   "metadata": {},
   "source": []
  },
  {
   "cell_type": "markdown",
   "id": "15f6d1e8",
   "metadata": {},
   "source": [
    "# Variables Globales \n",
    "- Declaramos variables fuera de funciones\n",
    "- El valor de la variable puede ser constante para todo el programa\n",
    "- Cualquier función podra acceder a estas variables\n",
    "- Podemos decir que las variables globales tienen un alcance global\n",
    "- Normalmente son más usadas para constantes\n",
    "- las Variables globales mantienen sus valores a través de la ejecución completa de tu programa\n",
    "- Una Variable Global puede ser accesada por cualquier función\n"
   ]
  },
  {
   "cell_type": "code",
   "execution_count": null,
   "id": "be07566f",
   "metadata": {},
   "outputs": [],
   "source": [
    "#Variable Global\n",
    "my_global_variable=50\n",
    "def my_function_1():\n",
    "    pass\n",
    "\n",
    "def my_function_2():\n",
    "    pass\n"
   ]
  },
  {
   "cell_type": "code",
   "execution_count": null,
   "id": "31889f6b",
   "metadata": {},
   "outputs": [],
   "source": [
    "#Variables Locales\n",
    "def my_function_1():\n",
    "    my_local_variable=5\n",
    "    \n",
    "def my_function_2():\n",
    "    my_local_variable=25\n",
    "    "
   ]
  },
  {
   "cell_type": "code",
   "execution_count": null,
   "id": "decb8e70",
   "metadata": {},
   "outputs": [],
   "source": [
    "#Variable Global\n",
    "my_global_variable=50\n",
    "\n",
    "def my_function_1():\n",
    "    print(\"my_function_1- El valor de my_global_variable es:\",my_global_variable)\n",
    "    \n",
    "def my_function_2():\n",
    "       print(\"my_function_2- El valor de my_global_variable es:\",my_global_variable)\n"
   ]
  },
  {
   "cell_type": "code",
   "execution_count": null,
   "id": "ddd50588",
   "metadata": {
    "scrolled": true
   },
   "outputs": [],
   "source": [
    "my_function_1()"
   ]
  },
  {
   "cell_type": "code",
   "execution_count": null,
   "id": "2f646014",
   "metadata": {},
   "outputs": [],
   "source": [
    "#Preferencia valor local, y despues al global\n",
    "my_variable=50 # global\n",
    "\n",
    "def my_function_1():\n",
    "    my_variable=10 #local\n",
    "    print(\"my_function_1- El valor de my_variable es:\",my_variable)\n",
    "   \n",
    "def my_function_2():\n",
    "    my_variable=20 #local\n",
    "    print(\"my_function_2- El valor de my_variable es:\",my_variable)     \n",
    "           \n",
    "def my_function_3():\n",
    "    print(\"my_function_3- El valor de my_variable es:\",my_variable)\n",
    "        "
   ]
  },
  {
   "cell_type": "code",
   "execution_count": null,
   "id": "fa582e52",
   "metadata": {},
   "outputs": [],
   "source": [
    "my_function_1()"
   ]
  },
  {
   "cell_type": "code",
   "execution_count": null,
   "id": "9c0dea92",
   "metadata": {},
   "outputs": [],
   "source": [
    "my_function_2()"
   ]
  },
  {
   "cell_type": "code",
   "execution_count": null,
   "id": "3566c7ef",
   "metadata": {},
   "outputs": [],
   "source": [
    "my_function_3()"
   ]
  },
  {
   "cell_type": "markdown",
   "id": "23ecacb1",
   "metadata": {},
   "source": [
    "# Variables Locales\n",
    "- Podemos usarlas dentro de ua función\n",
    "- Podemos tener una restricción al acceder a una variable local desde otra función\n",
    "- Podemos usarlas durante todo el programa\n",
    "- El alcance y la visibilidad se limita al interior de la función\n",
    "- Lo que dure la función será lo que dure el alcance de nuestra variable\n",
    "\n"
   ]
  },
  {
   "cell_type": "code",
   "execution_count": null,
   "id": "5cacef7b",
   "metadata": {},
   "outputs": [],
   "source": [
    "#Variables Locales\n",
    "def my_function_1():\n",
    "    my_local_variable=5\n",
    "    \n",
    "def my_function_2():\n",
    "    my_local_variable=25\n",
    "    "
   ]
  },
  {
   "cell_type": "code",
   "execution_count": 5,
   "id": "abf8cc21",
   "metadata": {},
   "outputs": [],
   "source": [
    "def my_function_1():\n",
    "    my_variable=10 #local\n",
    "    print(\"my_function_1- El valor de my_variable es:\",my_variable)\n",
    "   \n",
    "def my_function_2():\n",
    "    my_variable=20 #local\n",
    "    print(\"my_function_2- El valor de my_variable es:\",my_variable)     \n",
    "           \n",
    "def my_function_3():\n",
    "    print(\"my_function_3- El valor de my_variable es:\",my_variable)\n",
    "        "
   ]
  },
  {
   "cell_type": "code",
   "execution_count": 6,
   "id": "738a1526",
   "metadata": {},
   "outputs": [
    {
     "name": "stdout",
     "output_type": "stream",
     "text": [
      "my_function_1- El valor de my_variable es: 10\n"
     ]
    }
   ],
   "source": [
    "my_function_1()"
   ]
  },
  {
   "cell_type": "code",
   "execution_count": 7,
   "id": "f659abbd",
   "metadata": {},
   "outputs": [
    {
     "name": "stdout",
     "output_type": "stream",
     "text": [
      "my_function_2- El valor de my_variable es: 20\n"
     ]
    }
   ],
   "source": [
    "my_function_2()"
   ]
  },
  {
   "cell_type": "code",
   "execution_count": 8,
   "id": "8f05b241",
   "metadata": {},
   "outputs": [
    {
     "ename": "NameError",
     "evalue": "name 'my_variable' is not defined",
     "output_type": "error",
     "traceback": [
      "\u001b[1;31m---------------------------------------------------------------------------\u001b[0m",
      "\u001b[1;31mNameError\u001b[0m                                 Traceback (most recent call last)",
      "Cell \u001b[1;32mIn[8], line 1\u001b[0m\n\u001b[1;32m----> 1\u001b[0m my_function_3()\n",
      "Cell \u001b[1;32mIn[5], line 10\u001b[0m, in \u001b[0;36mmy_function_3\u001b[1;34m()\u001b[0m\n\u001b[0;32m      9\u001b[0m \u001b[38;5;28;01mdef\u001b[39;00m \u001b[38;5;21mmy_function_3\u001b[39m():\n\u001b[1;32m---> 10\u001b[0m     \u001b[38;5;28mprint\u001b[39m(\u001b[38;5;124m\"\u001b[39m\u001b[38;5;124mmy_function_3- El valor de my_variable es:\u001b[39m\u001b[38;5;124m\"\u001b[39m,my_variable)\n",
      "\u001b[1;31mNameError\u001b[0m: name 'my_variable' is not defined"
     ]
    }
   ],
   "source": [
    "#Error\n",
    "my_function_3()"
   ]
  },
  {
   "cell_type": "markdown",
   "id": "65200257",
   "metadata": {},
   "source": [
    "# Palabra reservada \"Global\""
   ]
  },
  {
   "cell_type": "code",
   "execution_count": 9,
   "id": "b5ada00c",
   "metadata": {},
   "outputs": [],
   "source": [
    "\n",
    "def my_function_1():\n",
    "    my_variable=10 #local\n",
    "    print(\"my_function_1- El valor de my_variable es:\",my_variable)\n",
    "   \n",
    "def my_function_2():\n",
    "    global my_variable\n",
    "    my_variable=20 #Global\n",
    "    print(\"my_function_2- El valor de my_variable es:\",my_variable)     \n",
    "           \n",
    "def my_function_3():\n",
    "    print(\"my_function_3- El valor de my_variable es:\",my_variable)"
   ]
  },
  {
   "cell_type": "code",
   "execution_count": 11,
   "id": "f09e07d0",
   "metadata": {},
   "outputs": [
    {
     "name": "stdout",
     "output_type": "stream",
     "text": [
      "my_function_1- El valor de my_variable es: 10\n"
     ]
    }
   ],
   "source": [
    "my_function_1()"
   ]
  },
  {
   "cell_type": "code",
   "execution_count": 12,
   "id": "1bf88566",
   "metadata": {},
   "outputs": [
    {
     "name": "stdout",
     "output_type": "stream",
     "text": [
      "my_function_2- El valor de my_variable es: 20\n"
     ]
    }
   ],
   "source": [
    "my_function_2()"
   ]
  },
  {
   "cell_type": "code",
   "execution_count": 13,
   "id": "69cce0ca",
   "metadata": {},
   "outputs": [
    {
     "name": "stdout",
     "output_type": "stream",
     "text": [
      "my_function_3- El valor de my_variable es: 20\n"
     ]
    }
   ],
   "source": [
    "my_function_3()"
   ]
  },
  {
   "cell_type": "code",
   "execution_count": 22,
   "id": "d7a91ab2",
   "metadata": {},
   "outputs": [],
   "source": [
    "\n",
    "def my_function_1():\n",
    "    my_variable=10 #local\n",
    "    print(\"my_function_1- El valor de my_variable es:\",my_variable)\n",
    "   \n",
    "def my_function_2():\n",
    "    global a,b,c,d,e # Global\n",
    "    a=10\n",
    "    b=20\n",
    "    c=30\n",
    "    d=40\n",
    "    e=50\n",
    "    print(\"my_function_2- El valor de a y e es:\",a)\n",
    "    print(\"my_function_2- El valor de b y e es:\",b)   \n",
    "    print(\"my_function_2- El valor de c y e es:\",c)   \n",
    "    print(\"my_function_2- El valor de d y e es:\",d)   \n",
    "    print(\"my_function_2- El valor de e y e es:\",e)   \n",
    "           \n",
    "def my_function_3():\n",
    "    print(\"my_function_3- El valor de a y e es:\",a)\n",
    "    print(\"my_function_3- El valor de b y e es:\",b)   \n",
    "    print(\"my_function_3- El valor de c y e es:\",c)   \n",
    "    print(\"my_function_3- El valor de d y e es:\",d)   \n",
    "    print(\"my_function_3- El valor de e y e es:\",e)\n",
    "\n"
   ]
  },
  {
   "cell_type": "code",
   "execution_count": 16,
   "id": "05b4345e",
   "metadata": {},
   "outputs": [
    {
     "name": "stdout",
     "output_type": "stream",
     "text": [
      "my_function_1- El valor de my_variable es: 10\n"
     ]
    }
   ],
   "source": [
    "my_function_1()"
   ]
  },
  {
   "cell_type": "code",
   "execution_count": 17,
   "id": "24008d92",
   "metadata": {},
   "outputs": [
    {
     "name": "stdout",
     "output_type": "stream",
     "text": [
      "my_function_2- El valor de a y e es: 10\n",
      "my_function_2- El valor de b y e es: 20\n",
      "my_function_2- El valor de c y e es: 30\n",
      "my_function_2- El valor de d y e es: 40\n",
      "my_function_2- El valor de e y e es: 50\n"
     ]
    }
   ],
   "source": [
    "my_function_2()"
   ]
  },
  {
   "cell_type": "code",
   "execution_count": 23,
   "id": "d0d0985d",
   "metadata": {},
   "outputs": [
    {
     "name": "stdout",
     "output_type": "stream",
     "text": [
      "my_function_3- El valor de a y e es: 10\n",
      "my_function_3- El valor de b y e es: 20\n",
      "my_function_3- El valor de c y e es: 30\n",
      "my_function_3- El valor de d y e es: 40\n",
      "my_function_3- El valor de e y e es: 50\n"
     ]
    }
   ],
   "source": [
    "my_function_3()"
   ]
  },
  {
   "cell_type": "markdown",
   "id": "c3157ee4",
   "metadata": {},
   "source": [
    "# Tipo de Enteros\n",
    "- Forma Decimal\n",
    "- Forma Binaria\n",
    "- Forma Octal\n",
    "- Forma Hexadecimal\n"
   ]
  },
  {
   "cell_type": "markdown",
   "id": "17f6da82",
   "metadata": {},
   "source": [
    "# Forma Decimal"
   ]
  },
  {
   "cell_type": "code",
   "execution_count": 25,
   "id": "bd9e2102",
   "metadata": {},
   "outputs": [
    {
     "name": "stdout",
     "output_type": "stream",
     "text": [
      "El valor de my_decimal es:  55\n"
     ]
    }
   ],
   "source": [
    "my_decimal_number= 55\n",
    "print(\"El valor de my_decimal es: \",my_decimal_number)"
   ]
  },
  {
   "cell_type": "code",
   "execution_count": 26,
   "id": "0158c0df",
   "metadata": {},
   "outputs": [
    {
     "name": "stdout",
     "output_type": "stream",
     "text": [
      "El valor de my_decimal es:  512731625128341\n"
     ]
    }
   ],
   "source": [
    "my_decimal_number= 512731625128341\n",
    "print(\"El valor de my_decimal es: \",my_decimal_number)"
   ]
  },
  {
   "cell_type": "code",
   "execution_count": 27,
   "id": "36dd33c6",
   "metadata": {},
   "outputs": [
    {
     "ename": "SyntaxError",
     "evalue": "invalid decimal literal (3767718953.py, line 1)",
     "output_type": "error",
     "traceback": [
      "\u001b[1;36m  Cell \u001b[1;32mIn[27], line 1\u001b[1;36m\u001b[0m\n\u001b[1;33m    my_decimal_number= 55d\u001b[0m\n\u001b[1;37m                        ^\u001b[0m\n\u001b[1;31mSyntaxError\u001b[0m\u001b[1;31m:\u001b[0m invalid decimal literal\n"
     ]
    }
   ],
   "source": [
    "my_decimal_number= 55d\n",
    "print(\"El valor de my_decimal es: \",my_decimal_number)"
   ]
  },
  {
   "cell_type": "code",
   "execution_count": 28,
   "id": "b931d098",
   "metadata": {},
   "outputs": [
    {
     "ename": "SyntaxError",
     "evalue": "invalid syntax (2363942544.py, line 1)",
     "output_type": "error",
     "traceback": [
      "\u001b[1;36m  Cell \u001b[1;32mIn[28], line 1\u001b[1;36m\u001b[0m\n\u001b[1;33m    my_decimal_number= 55@\u001b[0m\n\u001b[1;37m                          ^\u001b[0m\n\u001b[1;31mSyntaxError\u001b[0m\u001b[1;31m:\u001b[0m invalid syntax\n"
     ]
    }
   ],
   "source": [
    "#error\n",
    "my_decimal_number= 55@\n",
    "print(\"El valor de my_decimal es: \",my_decimal_number)"
   ]
  },
  {
   "cell_type": "markdown",
   "id": "cc9a463b",
   "metadata": {},
   "source": [
    "# Forma binaria\n",
    "- Código organizado en bytes\n",
    "- Lenguajes Binario\n",
    "- Lenguaje de las Maquinas (1 y 0)\n",
    " ### Valor Base: 2\n",
    " - Solo acepta 2 digitos (1 y 0)\n",
    " - Usamos el prefijo '0b' o '0B'"
   ]
  },
  {
   "cell_type": "code",
   "execution_count": 31,
   "id": "c6b9da87",
   "metadata": {},
   "outputs": [
    {
     "name": "stdout",
     "output_type": "stream",
     "text": [
      "El valor de my_binary_number es:  11\n"
     ]
    }
   ],
   "source": [
    "my_binary_number= 0b11\n",
    "print(\"El valor de my_binary_number es: \",my_binary_number)"
   ]
  },
  {
   "cell_type": "code",
   "execution_count": 32,
   "id": "263bca58",
   "metadata": {},
   "outputs": [
    {
     "name": "stdout",
     "output_type": "stream",
     "text": [
      "El valor de my_binary_number es:  3\n"
     ]
    }
   ],
   "source": [
    "my_binary_number= 0b11\n",
    "print(\"El valor de my_binary_number es: \",my_binary_number)"
   ]
  },
  {
   "cell_type": "code",
   "execution_count": 33,
   "id": "449d3f76",
   "metadata": {},
   "outputs": [
    {
     "name": "stdout",
     "output_type": "stream",
     "text": [
      "El valor de my_binary es:  111\n"
     ]
    }
   ],
   "source": [
    "my_binary_number=111\n",
    "print(\"El valor de my_binary es: \",my_binary_number)"
   ]
  },
  {
   "cell_type": "code",
   "execution_count": 34,
   "id": "91e60581",
   "metadata": {},
   "outputs": [
    {
     "name": "stdout",
     "output_type": "stream",
     "text": [
      "El valor de my_binary es:  7\n"
     ]
    }
   ],
   "source": [
    "my_binary_number=0B111 # 1*2**2 + 1*2**1 + 1*2**0\n",
    "print(\"El valor de my_binary es: \",my_binary_number)"
   ]
  },
  {
   "cell_type": "markdown",
   "id": "06843d02",
   "metadata": {},
   "source": [
    "# Forma Octal\n",
    "## Valor Base: 0\n",
    "\n",
    "- Solamente acepta digitos del 0 al 7\n",
    "- Usamos el prefijo '0o' o '0O'"
   ]
  },
  {
   "cell_type": "code",
   "execution_count": 35,
   "id": "cc704cb1",
   "metadata": {},
   "outputs": [
    {
     "name": "stdout",
     "output_type": "stream",
     "text": [
      "El valor de my_octal_number es:  17\n"
     ]
    }
   ],
   "source": [
    "my_octal_number= 17\n",
    "print(\"El valor de my_octal_number es: \",my_octal_number)"
   ]
  },
  {
   "cell_type": "code",
   "execution_count": 36,
   "id": "13b946d1",
   "metadata": {},
   "outputs": [
    {
     "name": "stdout",
     "output_type": "stream",
     "text": [
      "El valor de my_octal_number es:  15\n"
     ]
    }
   ],
   "source": [
    "my_octal_number= 0o17 #1*8**1 + 7*8**0\n",
    "print(\"El valor de my_octal_number es: \",my_octal_number)"
   ]
  },
  {
   "cell_type": "code",
   "execution_count": 37,
   "id": "43cc2763",
   "metadata": {},
   "outputs": [
    {
     "name": "stdout",
     "output_type": "stream",
     "text": [
      "El valor de my_octal_number es:  153\n"
     ]
    }
   ],
   "source": [
    "my_octal_number= 153\n",
    "print(\"El valor de my_octal_number es: \",my_octal_number)"
   ]
  },
  {
   "cell_type": "code",
   "execution_count": 40,
   "id": "9444f208",
   "metadata": {},
   "outputs": [
    {
     "name": "stdout",
     "output_type": "stream",
     "text": [
      "El valor de my_octal_number es:  107\n"
     ]
    }
   ],
   "source": [
    "my_octal_number= 0O153 # 1*8**2 + 5*8**1 + 3*8**0\n",
    "print(\"El valor de my_octal_number es: \",my_octal_number)"
   ]
  },
  {
   "cell_type": "markdown",
   "id": "f8e0d0f2",
   "metadata": {},
   "source": [
    "#  forma Exadecimal\n",
    "### Valor Bases: 16\n",
    "- Acepta digitos del 0 al 9\n",
    "- Acepta letras de 'a/A' al la 'f/F'\n",
    "- Usamos el prefijo '0x' o '0X'\n",
    "- 1\n",
    "- 2\n",
    "- 3\n",
    "- 4\n",
    "- 5\n",
    "- 6\n",
    "- 7\n",
    "- 8\n",
    "- 9\n",
    "- A= 10\n",
    "- B= 11\n",
    "- C= 12\n",
    "- D= 13\n",
    "- E= 14\n",
    "- F= 15"
   ]
  },
  {
   "cell_type": "code",
   "execution_count": 41,
   "id": "8dc3375f",
   "metadata": {},
   "outputs": [
    {
     "name": "stdout",
     "output_type": "stream",
     "text": [
      "El valor de my_hex_number es:  17\n"
     ]
    }
   ],
   "source": [
    "my_hex_number= 17\n",
    "print(\"El valor de my_hex_number es: \",my_hex_number)"
   ]
  },
  {
   "cell_type": "code",
   "execution_count": 44,
   "id": "bb34f5d4",
   "metadata": {},
   "outputs": [
    {
     "name": "stdout",
     "output_type": "stream",
     "text": [
      "El valor de my_hex_number es:  23\n"
     ]
    }
   ],
   "source": [
    "my_hex_number= 0x17 # 1*16**1 + 7*16**0\n",
    "print(\"El valor de my_hex_number es: \",my_hex_number)"
   ]
  },
  {
   "cell_type": "code",
   "execution_count": 46,
   "id": "ebe37f56",
   "metadata": {},
   "outputs": [
    {
     "name": "stdout",
     "output_type": "stream",
     "text": [
      "El valor de my_hex_number es:  28\n"
     ]
    }
   ],
   "source": [
    "my_hex_number= 0x1C # *1*16**1 + 12*16**0 \n",
    "print(\"El valor de my_hex_number es: \",my_hex_number)"
   ]
  },
  {
   "cell_type": "code",
   "execution_count": null,
   "id": "27b83d2a",
   "metadata": {},
   "outputs": [],
   "source": []
  },
  {
   "cell_type": "code",
   "execution_count": null,
   "id": "a611f1d1",
   "metadata": {},
   "outputs": [],
   "source": []
  }
 ],
 "metadata": {
  "kernelspec": {
   "display_name": "Python 3 (ipykernel)",
   "language": "python",
   "name": "python3"
  },
  "language_info": {
   "codemirror_mode": {
    "name": "ipython",
    "version": 3
   },
   "file_extension": ".py",
   "mimetype": "text/x-python",
   "name": "python",
   "nbconvert_exporter": "python",
   "pygments_lexer": "ipython3",
   "version": "3.11.5"
  }
 },
 "nbformat": 4,
 "nbformat_minor": 5
}
