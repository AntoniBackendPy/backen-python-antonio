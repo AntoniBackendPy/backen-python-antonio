{
 "cells": [
  {
   "cell_type": "code",
   "execution_count": 8,
   "id": "1ceaec16",
   "metadata": {},
   "outputs": [
    {
     "name": "stdout",
     "output_type": "stream",
     "text": [
      "Analizador de sentimientos\n",
      "\n",
      "my_string:  Este curso de python es muy completo, explicado, entendible\n",
      "score: 3 \n",
      "resultado: Positivo\n"
     ]
    }
   ],
   "source": [
    "my_string = \"\"\" Este curso de python es muy completo, explicado, entendible\"\"\" \n",
    "positive_words = [\"completo\", \"explicado\", \"entendible\"] \n",
    "negative_words = [\"defectuoso\", \"malo\", \"horrible\"] \n",
    "score = 0 \n",
    "for positive_word in positive_words:    \n",
    "    score = score + my_string.count(positive_word)    \n",
    "for negative_word in negative_words:    \n",
    "    score = score - my_string.count(negative_word)    \n",
    "if score == 0:    \n",
    "    result = \"Neutro\" \n",
    "if score > 0:    \n",
    "    result = \"Positivo\" \n",
    "if score < 0:    \n",
    "    result = \"Negativo\" \n",
    "    \n",
    "print(\"Analizador de sentimientos\\n\") \n",
    "print(\"my_string: {}\\nscore: {} \\nresultado: {}\".format(my_string, score, result))"
   ]
  },
  {
   "cell_type": "code",
   "execution_count": 17,
   "id": "caa546fe",
   "metadata": {},
   "outputs": [
    {
     "name": "stdout",
     "output_type": "stream",
     "text": [
      "Analizador de sentimientos\n",
      "\n",
      "my_string:  Este curso de python es muy malo ,sin contenido, caro\n",
      "score: -3 \n",
      "resultado: Negativo\n"
     ]
    }
   ],
   "source": [
    "my_string = \"\"\" Este curso de python es muy malo ,sin contenido, caro\"\"\" \n",
    "positive_words = [\"completo\", \"explicado\", \"entendible\"] \n",
    "negative_words = [\"malo\", \"contenido\", \"caro\"] \n",
    "score = 0 \n",
    "for positive_word in positive_words:    \n",
    "    score = score + my_string.count(positive_word)    \n",
    "for negative_word in negative_words:    \n",
    "    score = score - my_string.count(negative_word)    \n",
    "if score == 0:    \n",
    "    result = \"Neutro\" \n",
    "if score > 0:    \n",
    "    result = \"Positivo\" \n",
    "if score < 0:    \n",
    "    result = \"Negativo\" \n",
    "    \n",
    "print(\"Analizador de sentimientos\\n\") \n",
    "print(\"my_string: {}\\nscore: {} \\nresultado: {}\".format(my_string, score, result))"
   ]
  },
  {
   "cell_type": "code",
   "execution_count": 15,
   "id": "8e34a489",
   "metadata": {},
   "outputs": [
    {
     "name": "stdout",
     "output_type": "stream",
     "text": [
      "Analizador de sentimientos\n",
      "\n",
      "my_string:  Este curso de python es muy complicado ,tedioso , complejo\n",
      "score: 0 \n",
      "resultado: Neutro\n"
     ]
    }
   ],
   "source": [
    "my_string = \"\"\" Este curso de python es muy complicado ,tedioso , complejo\"\"\" \n",
    "positive_words = [\"completo\", \"explicado\", \"entendible\"] \n",
    "negative_words = [\"malo\", \"sin contenido\", \"caro\"] \n",
    "score = 0 \n",
    "for positive_word in positive_words:    \n",
    "    score = score + my_string.count(positive_word)    \n",
    "for negative_word in negative_words:    \n",
    "    score = score - my_string.count(negative_word)    \n",
    "if score == 0:    \n",
    "    result = \"Neutro\" \n",
    "if score > 0:    \n",
    "    result = \"Positivo\" \n",
    "if score < 0:    \n",
    "    result = \"Negativo\" \n",
    "    \n",
    "print(\"Analizador de sentimientos\\n\") \n",
    "print(\"my_string: {}\\nscore: {} \\nresultado: {}\".format(my_string, score, result))"
   ]
  },
  {
   "cell_type": "code",
   "execution_count": null,
   "id": "93bfddf1",
   "metadata": {},
   "outputs": [],
   "source": []
  },
  {
   "cell_type": "code",
   "execution_count": null,
   "id": "4741d8ea",
   "metadata": {},
   "outputs": [],
   "source": []
  }
 ],
 "metadata": {
  "kernelspec": {
   "display_name": "Python 3 (ipykernel)",
   "language": "python",
   "name": "python3"
  },
  "language_info": {
   "codemirror_mode": {
    "name": "ipython",
    "version": 3
   },
   "file_extension": ".py",
   "mimetype": "text/x-python",
   "name": "python",
   "nbconvert_exporter": "python",
   "pygments_lexer": "ipython3",
   "version": "3.11.5"
  }
 },
 "nbformat": 4,
 "nbformat_minor": 5
}
