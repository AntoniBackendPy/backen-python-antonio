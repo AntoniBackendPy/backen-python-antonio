{
 "cells": [
  {
   "cell_type": "markdown",
   "id": "7f0a977d",
   "metadata": {},
   "source": [
    "### Diferentes Formas de crear listas"
   ]
  },
  {
   "cell_type": "code",
   "execution_count": 2,
   "id": "765f7a6a",
   "metadata": {},
   "outputs": [
    {
     "name": "stdout",
     "output_type": "stream",
     "text": [
      "[3, 3, 3]\n"
     ]
    }
   ],
   "source": [
    "my_list =[3]*3\n",
    "print(my_list)"
   ]
  },
  {
   "cell_type": "code",
   "execution_count": 3,
   "id": "150d079f",
   "metadata": {},
   "outputs": [
    {
     "name": "stdout",
     "output_type": "stream",
     "text": [
      "[1, 2, 3, 4]\n"
     ]
    }
   ],
   "source": [
    "my_list=[1,2,3,4]\n",
    "print(my_list)"
   ]
  },
  {
   "cell_type": "code",
   "execution_count": 5,
   "id": "75883065",
   "metadata": {},
   "outputs": [
    {
     "name": "stdout",
     "output_type": "stream",
     "text": [
      "[0, 1, 2, 3, 4, 5, 6, 7, 8, 9]\n"
     ]
    }
   ],
   "source": [
    "my_list=[]\n",
    "for number in range(10):\n",
    "    my_list.append(number)\n",
    "    \n",
    "print(my_list)\n",
    "\n"
   ]
  },
  {
   "cell_type": "code",
   "execution_count": 6,
   "id": "e620c52f",
   "metadata": {},
   "outputs": [
    {
     "name": "stdout",
     "output_type": "stream",
     "text": [
      "[0, 1, 2, 3, 4, 5, 6, 7, 8, 9]\n"
     ]
    }
   ],
   "source": [
    "my_list=[]\n",
    "for number in range(10):\n",
    "    my_list+=[number] # my_list=my_list+ [number]\n",
    "    \n",
    "print(my_list)"
   ]
  },
  {
   "cell_type": "code",
   "execution_count": 7,
   "id": "6efe05a0",
   "metadata": {},
   "outputs": [
    {
     "name": "stdout",
     "output_type": "stream",
     "text": [
      "[0, 1, 2, 3, 4, 5, 6, 7, 8, 9, 10, 11, 12, 13, 14]\n"
     ]
    }
   ],
   "source": [
    "my_list=[number for number in range(15)]\n",
    "print(my_list)"
   ]
  },
  {
   "cell_type": "markdown",
   "id": "0e2e38b3",
   "metadata": {},
   "source": [
    "## Obtener Sublistas"
   ]
  },
  {
   "cell_type": "code",
   "execution_count": 14,
   "id": "603d7d6d",
   "metadata": {},
   "outputs": [
    {
     "name": "stdout",
     "output_type": "stream",
     "text": [
      "[5, 6, 7, 8, 9, 10, 11, 12, 13, 14, 15, 16, 17, 18, 19]\n"
     ]
    }
   ],
   "source": [
    "my_list=[number for number in range(5,20)]\n",
    "print(my_list)"
   ]
  },
  {
   "cell_type": "code",
   "execution_count": 15,
   "id": "c2bb46fb",
   "metadata": {},
   "outputs": [
    {
     "name": "stdout",
     "output_type": "stream",
     "text": [
      "[5, 6, 7, 8]\n"
     ]
    }
   ],
   "source": [
    "my_sublist=my_list[:4]\n",
    "print(my_sublist)"
   ]
  },
  {
   "cell_type": "code",
   "execution_count": 16,
   "id": "0c176dc2",
   "metadata": {},
   "outputs": [
    {
     "name": "stdout",
     "output_type": "stream",
     "text": [
      "[8, 9, 10, 11]\n"
     ]
    }
   ],
   "source": [
    "my_sublist=my_list[3:7]\n",
    "print(my_sublist)\n"
   ]
  },
  {
   "cell_type": "code",
   "execution_count": 17,
   "id": "23716574",
   "metadata": {},
   "outputs": [
    {
     "name": "stdout",
     "output_type": "stream",
     "text": [
      "[15, 16, 17, 18, 19]\n"
     ]
    }
   ],
   "source": [
    "my_sublist=my_list[10:]\n",
    "print(my_sublist)"
   ]
  },
  {
   "cell_type": "code",
   "execution_count": 18,
   "id": "651e90b8",
   "metadata": {},
   "outputs": [
    {
     "name": "stdout",
     "output_type": "stream",
     "text": [
      "[]\n"
     ]
    }
   ],
   "source": [
    "my_sublist=my_list[300:]\n",
    "print(my_sublist)"
   ]
  },
  {
   "cell_type": "markdown",
   "id": "24730dc6",
   "metadata": {},
   "source": [
    "## Creación de listas usando range y numpy"
   ]
  },
  {
   "cell_type": "code",
   "execution_count": 20,
   "id": "d083911b",
   "metadata": {},
   "outputs": [
    {
     "name": "stdout",
     "output_type": "stream",
     "text": [
      "[1, 2, 3, 4]\n"
     ]
    }
   ],
   "source": [
    "#range(inicio, final,paso)\n",
    "my_list=[*range(1,5,1)]\n",
    "print(my_list)"
   ]
  },
  {
   "cell_type": "code",
   "execution_count": 23,
   "id": "e8cee773",
   "metadata": {},
   "outputs": [
    {
     "name": "stdout",
     "output_type": "stream",
     "text": [
      "[1, 5, 9, 13, 17]\n"
     ]
    }
   ],
   "source": [
    "my_list=[*range(1,20,4)]\n",
    "print(my_list)"
   ]
  },
  {
   "cell_type": "code",
   "execution_count": 25,
   "id": "ce15ab63",
   "metadata": {},
   "outputs": [
    {
     "name": "stdout",
     "output_type": "stream",
     "text": [
      "[1, 5, 9, 13, 17]\n"
     ]
    }
   ],
   "source": [
    "import numpy as np\n",
    "my_list=np.arange(1,20,4).tolist()\n",
    "print(my_list)\n"
   ]
  },
  {
   "cell_type": "markdown",
   "id": "4cea8781",
   "metadata": {},
   "source": [
    "## Listas anidadas\n",
    "Se refiere a crear listas dentro de una lista"
   ]
  },
  {
   "cell_type": "code",
   "execution_count": 26,
   "id": "3463700d",
   "metadata": {},
   "outputs": [
    {
     "name": "stdout",
     "output_type": "stream",
     "text": [
      "[1, 2, 3, 4, 5]\n",
      "2\n"
     ]
    }
   ],
   "source": [
    "my_list=[1,2,3,4,5]\n",
    "print(my_list)\n",
    "print(my_list[1])\n"
   ]
  },
  {
   "cell_type": "code",
   "execution_count": 30,
   "id": "81b2f115",
   "metadata": {},
   "outputs": [
    {
     "name": "stdout",
     "output_type": "stream",
     "text": [
      "[[1, 2, 3, 4], [2, 4, 5, 8]]\n",
      "[2, 4, 5, 8]\n",
      "5\n"
     ]
    }
   ],
   "source": [
    "my_list=[[1,2,3,4],[2,4,5,8]]\n",
    "print(my_list)\n",
    "print(my_list[1])\n",
    "print(my_list[1][2])"
   ]
  },
  {
   "cell_type": "markdown",
   "id": "f8762ce3",
   "metadata": {},
   "source": [
    "### Ordenar Listas"
   ]
  },
  {
   "cell_type": "code",
   "execution_count": 2,
   "id": "550afe9b",
   "metadata": {},
   "outputs": [
    {
     "name": "stdout",
     "output_type": "stream",
     "text": [
      "[5, 3, 1, 15, 2, 20]\n",
      "[1, 2, 3, 5, 15, 20]\n"
     ]
    }
   ],
   "source": [
    "my_list=[5,3,1,15,2,20]\n",
    "print(my_list)\n",
    "my_list.sort()\n",
    "print(my_list)\n"
   ]
  },
  {
   "cell_type": "code",
   "execution_count": 3,
   "id": "43391c72",
   "metadata": {},
   "outputs": [
    {
     "name": "stdout",
     "output_type": "stream",
     "text": [
      "['cabello', 'abeja', 'jirafa', 'ballena']\n",
      "['abeja', 'ballena', 'cabello', 'jirafa']\n"
     ]
    }
   ],
   "source": [
    "my_list=[\"cabello\",\"abeja\",\"jirafa\",\"ballena\"]\n",
    "print(my_list)\n",
    "my_list.sort()\n",
    "print(my_list)\n"
   ]
  },
  {
   "cell_type": "code",
   "execution_count": 5,
   "id": "c814e8f3",
   "metadata": {},
   "outputs": [
    {
     "name": "stdout",
     "output_type": "stream",
     "text": [
      "[5, 3, 1, 15, 2, 20]\n",
      "[20, 15, 5, 3, 2, 1]\n"
     ]
    }
   ],
   "source": [
    "my_list=[5,3,1,15,2,20]\n",
    "print(my_list)\n",
    "my_list.sort(reverse=True)\n",
    "print(my_list)"
   ]
  },
  {
   "cell_type": "code",
   "execution_count": 6,
   "id": "fb9757cc",
   "metadata": {},
   "outputs": [
    {
     "name": "stdout",
     "output_type": "stream",
     "text": [
      "['cabello', 'abeja', 'jirafa', 'ballena']\n",
      "['jirafa', 'cabello', 'ballena', 'abeja']\n"
     ]
    }
   ],
   "source": [
    "my_list=[\"cabello\",\"abeja\",\"jirafa\",\"ballena\"]\n",
    "print(my_list)\n",
    "my_list.sort(reverse=True)\n",
    "print(my_list)\n"
   ]
  },
  {
   "cell_type": "markdown",
   "id": "166da691",
   "metadata": {},
   "source": [
    "## conversión de Listas"
   ]
  },
  {
   "cell_type": "markdown",
   "id": "f5f58f07",
   "metadata": {},
   "source": [
    "### Cadenas a Listas"
   ]
  },
  {
   "cell_type": "code",
   "execution_count": 7,
   "id": "9dd32594",
   "metadata": {},
   "outputs": [
    {
     "name": "stdout",
     "output_type": "stream",
     "text": [
      "curso de Backend Python\n",
      "['curso', 'de', 'Backend', 'Python']\n"
     ]
    }
   ],
   "source": [
    "# Separarplabras \n",
    "my_string=\"curso de Backend Python\"\n",
    "my_list =my_string.split()\n",
    "print(my_string)\n",
    "print(my_list)"
   ]
  },
  {
   "cell_type": "code",
   "execution_count": 9,
   "id": "663ccda3",
   "metadata": {},
   "outputs": [
    {
     "name": "stdout",
     "output_type": "stream",
     "text": [
      "Curso de Backend Python\n",
      "['C', 'u', 'r', 's', 'o', ' ', 'd', 'e', ' ', 'B', 'a', 'c', 'k', 'e', 'n', 'd', ' ', 'P', 'y', 't', 'h', 'o', 'n']\n"
     ]
    }
   ],
   "source": [
    "# Separarplabras \n",
    "my_string=\"Curso de Backend Python\"\n",
    "my_list =list(my_string)\n",
    "print(my_string)\n",
    "print(my_list)"
   ]
  },
  {
   "cell_type": "code",
   "execution_count": 10,
   "id": "a32c7a38",
   "metadata": {},
   "outputs": [
    {
     "name": "stdout",
     "output_type": "stream",
     "text": [
      "Curso de Backend Python\n",
      "[['C'], ['u'], ['r'], ['s'], ['o'], [' '], ['d'], ['e'], [' '], ['B'], ['a'], ['c'], ['k'], ['e'], ['n'], ['d'], [' '], ['P'], ['y'], ['t'], ['h'], ['o'], ['n']]\n"
     ]
    }
   ],
   "source": [
    "# Separar caracteres en una lista de listas\n",
    "my_string=\"Curso de Backend Python\"\n",
    "my_list =list(map(list,my_string))\n",
    "print(my_string)\n",
    "print(my_list)"
   ]
  },
  {
   "cell_type": "markdown",
   "id": "61bc9c6a",
   "metadata": {},
   "source": [
    "### Listas a Cadenas"
   ]
  },
  {
   "cell_type": "code",
   "execution_count": 13,
   "id": "1ee79e56",
   "metadata": {},
   "outputs": [
    {
     "name": "stdout",
     "output_type": "stream",
     "text": [
      "['Curso', 'de', 'Backend', 'Python']\n",
      "Curso de Backend Python\n"
     ]
    }
   ],
   "source": [
    "# Usando espacios entre palabras\n",
    "my_list =['Curso','de','Backend','Python']\n",
    "my_string=\" \".join(my_list)\n",
    "print(my_list)\n",
    "print(my_string)"
   ]
  },
  {
   "cell_type": "code",
   "execution_count": 14,
   "id": "fc7a4b74",
   "metadata": {},
   "outputs": [
    {
     "name": "stdout",
     "output_type": "stream",
     "text": [
      "['C', 'u', 'r', 's', 'o', ' ', 'd', 'e', ' ', 'B', 'a', 'c', 'k', 'e', 'n', 'd', ' ', 'P', 'y', 't', 'h', 'o', 'n']\n",
      "Curso de Backend Python\n"
     ]
    }
   ],
   "source": [
    "my_list= ['C', 'u', 'r', 's', 'o', ' ', 'd', 'e', ' ', 'B', 'a', 'c', 'k', 'e', 'n', 'd', ' ', 'P', 'y', 't', 'h', 'o', 'n']\n",
    "my_string=\"\".join(my_list)\n",
    "print(my_list)\n",
    "print(my_string)"
   ]
  },
  {
   "cell_type": "code",
   "execution_count": 15,
   "id": "642f0156",
   "metadata": {},
   "outputs": [
    {
     "name": "stdout",
     "output_type": "stream",
     "text": [
      "[['C'], ['u'], ['r'], ['s'], ['o'], [' '], ['d'], ['e'], [' '], ['B'], ['a'], ['c'], ['k'], ['e'], ['n'], ['d'], [' '], ['P'], ['y'], ['t'], ['h'], ['o'], ['n']]\n",
      "Curso de Backend Python\n"
     ]
    }
   ],
   "source": [
    "my_list= [['C'], ['u'], ['r'], ['s'], ['o'], [' '], ['d'], ['e'], [' '], ['B'], ['a'], ['c'], ['k'], ['e'], ['n'], ['d'], [' '], ['P'], ['y'], ['t'], ['h'], ['o'], ['n']]\n",
    "my_string=\"\".join([\"\".join(element) for element in my_list])\n",
    "print(my_list)\n",
    "print(my_string)"
   ]
  },
  {
   "cell_type": "markdown",
   "id": "fecc063e",
   "metadata": {},
   "source": [
    "## Creación de listas con valores de entrada"
   ]
  },
  {
   "cell_type": "code",
   "execution_count": 17,
   "id": "7285835c",
   "metadata": {},
   "outputs": [
    {
     "name": "stdout",
     "output_type": "stream",
     "text": [
      "Ingresa los valores separados por espacios:0 0 6 5 17\n",
      "0 0 6 5 17\n",
      "['0', '0', '17', '5', '6']\n"
     ]
    }
   ],
   "source": [
    "my_string=input(\"Ingresa los valores separados por espacios:\" )\n",
    "my_list= my_string.split()\n",
    "print(my_string)\n",
    "print(my_list)"
   ]
  },
  {
   "cell_type": "markdown",
   "id": "b098747d",
   "metadata": {},
   "source": [
    "# Métodos para manipulación de listas\n",
    "### append\n",
    "#agregar un elemento al final de una lista"
   ]
  },
  {
   "cell_type": "code",
   "execution_count": 25,
   "id": "660e1206",
   "metadata": {},
   "outputs": [
    {
     "name": "stdout",
     "output_type": "stream",
     "text": [
      "4\n",
      "['caballo', 'abeja', 'jirafa', 'ballena']\n"
     ]
    }
   ],
   "source": [
    "my_list=[\"caballo\",\"abeja\",\"jirafa\",\"ballena\"]\n",
    "print(len(my_list))\n",
    "print(my_list)"
   ]
  },
  {
   "cell_type": "code",
   "execution_count": 26,
   "id": "17b7e1c8",
   "metadata": {},
   "outputs": [
    {
     "name": "stdout",
     "output_type": "stream",
     "text": [
      "['caballo', 'abeja', 'jirafa', 'ballena', 'delfin']\n",
      "5\n"
     ]
    }
   ],
   "source": [
    "my_list.append(\"delfin\")\n",
    "print(my_list)\n",
    "print(len(my_list))"
   ]
  },
  {
   "cell_type": "code",
   "execution_count": 27,
   "id": "3028239e",
   "metadata": {},
   "outputs": [
    {
     "name": "stdout",
     "output_type": "stream",
     "text": [
      "['caballo', 'abeja', 'jirafa', 'ballena', 'delfin', 'gato']\n",
      "6\n"
     ]
    }
   ],
   "source": [
    "my_list.append(\"gato\")\n",
    "print(my_list)\n",
    "print(len(my_list))\n"
   ]
  },
  {
   "cell_type": "code",
   "execution_count": 29,
   "id": "118407b8",
   "metadata": {},
   "outputs": [
    {
     "name": "stdout",
     "output_type": "stream",
     "text": [
      "[300, 500, 100, 200]\n",
      "4\n"
     ]
    }
   ],
   "source": [
    "my_list=[300,500,100,200]\n",
    "print(my_list)\n",
    "print(len(my_list))"
   ]
  },
  {
   "cell_type": "code",
   "execution_count": 30,
   "id": "2c59da05",
   "metadata": {},
   "outputs": [
    {
     "name": "stdout",
     "output_type": "stream",
     "text": [
      "[300, 500, 100, 200, 111]\n",
      "5\n"
     ]
    }
   ],
   "source": [
    "my_list.append(111)\n",
    "print(my_list)\n",
    "print(len(my_list))"
   ]
  },
  {
   "cell_type": "code",
   "execution_count": 31,
   "id": "4016605f",
   "metadata": {},
   "outputs": [
    {
     "name": "stdout",
     "output_type": "stream",
     "text": [
      "[300, 500, 100, 200, 111, 333]\n",
      "6\n"
     ]
    }
   ],
   "source": [
    "my_list.append(333)\n",
    "print(my_list)\n",
    "print(len(my_list))"
   ]
  },
  {
   "cell_type": "markdown",
   "id": "96faf962",
   "metadata": {},
   "source": [
    "## Insert\n",
    "Agrgar valor a una lista en una posición espesifica\n",
    "\n",
    "insert(indice, valor)"
   ]
  },
  {
   "cell_type": "code",
   "execution_count": 32,
   "id": "2377f5a7",
   "metadata": {},
   "outputs": [
    {
     "name": "stdout",
     "output_type": "stream",
     "text": [
      "['caballo', 'abeja', 'jirafa', 'ballena']\n",
      "4\n"
     ]
    }
   ],
   "source": [
    "my_list=[\"caballo\",\"abeja\",\"jirafa\",\"ballena\"]\n",
    "print(my_list)\n",
    "print(len(my_list))\n",
    "\n"
   ]
  },
  {
   "cell_type": "code",
   "execution_count": 33,
   "id": "5c006006",
   "metadata": {},
   "outputs": [
    {
     "name": "stdout",
     "output_type": "stream",
     "text": [
      "['caballo', 'abeja', 'defin', 'jirafa', 'ballena']\n",
      "5\n"
     ]
    }
   ],
   "source": [
    "my_list.insert(2,\"defin\")\n",
    "print(my_list)\n",
    "print(len(my_list))"
   ]
  },
  {
   "cell_type": "code",
   "execution_count": 35,
   "id": "5698beb3",
   "metadata": {},
   "outputs": [
    {
     "name": "stdout",
     "output_type": "stream",
     "text": [
      "['caballo', 'gato', 'gato', 'abeja', 'defin', 'jirafa', 'ballena']\n",
      "7\n"
     ]
    }
   ],
   "source": [
    "my_list.insert(1,\"gato\")\n",
    "print(my_list)\n",
    "print(len(my_list))"
   ]
  },
  {
   "cell_type": "markdown",
   "id": "dc304b9d",
   "metadata": {},
   "source": [
    "##  clear\n",
    "Elimina todos los elementos de una lista"
   ]
  },
  {
   "cell_type": "code",
   "execution_count": 2,
   "id": "5019b636",
   "metadata": {},
   "outputs": [
    {
     "name": "stdout",
     "output_type": "stream",
     "text": [
      "['caballo', 'abeja', 'jirafa', 'ballena']\n",
      "4\n"
     ]
    }
   ],
   "source": [
    "my_list =[\"caballo\",\"abeja\",\"jirafa\",\"ballena\"]\n",
    "print(my_list)\n",
    "print(len(my_list))"
   ]
  },
  {
   "cell_type": "code",
   "execution_count": 3,
   "id": "7a85c637",
   "metadata": {},
   "outputs": [
    {
     "name": "stdout",
     "output_type": "stream",
     "text": [
      "[]\n",
      "0\n"
     ]
    }
   ],
   "source": [
    "my_list.clear()\n",
    "print(my_list)\n",
    "print(len(my_list))"
   ]
  },
  {
   "cell_type": "code",
   "execution_count": 4,
   "id": "7f8a8a49",
   "metadata": {},
   "outputs": [
    {
     "name": "stdout",
     "output_type": "stream",
     "text": [
      "[300, 500, 100, 200]\n",
      "4\n"
     ]
    }
   ],
   "source": [
    "my_list=[300,500,100,200]\n",
    "print(my_list)\n",
    "print(len(my_list))"
   ]
  },
  {
   "cell_type": "code",
   "execution_count": 5,
   "id": "bfce2784",
   "metadata": {},
   "outputs": [
    {
     "name": "stdout",
     "output_type": "stream",
     "text": [
      "[]\n",
      "0\n"
     ]
    }
   ],
   "source": [
    "my_list.clear()\n",
    "print(my_list)\n",
    "print(len(my_list))"
   ]
  },
  {
   "cell_type": "markdown",
   "id": "9c3ac7f6",
   "metadata": {},
   "source": [
    "## copy\n",
    "Copiar los elementos de una lista"
   ]
  },
  {
   "cell_type": "code",
   "execution_count": 7,
   "id": "fb03d94e",
   "metadata": {},
   "outputs": [
    {
     "name": "stdout",
     "output_type": "stream",
     "text": [
      "['caballo', 'abeja', 'jirafa', 'ballena']\n",
      "4\n"
     ]
    }
   ],
   "source": [
    "my_list=[\"caballo\",\"abeja\",\"jirafa\",\"ballena\"]\n",
    "print(my_list)\n",
    "print(len(my_list))\n",
    "      "
   ]
  },
  {
   "cell_type": "code",
   "execution_count": 9,
   "id": "c4565e60",
   "metadata": {},
   "outputs": [
    {
     "name": "stdout",
     "output_type": "stream",
     "text": [
      "['caballo', 'abeja', 'jirafa', 'ballena']\n",
      "4\n"
     ]
    }
   ],
   "source": [
    "my_list_copy =my_list.copy()\n",
    "print(my_list_copy)\n",
    "print(len(my_list_copy))"
   ]
  },
  {
   "cell_type": "code",
   "execution_count": 10,
   "id": "62318fbd",
   "metadata": {},
   "outputs": [
    {
     "name": "stdout",
     "output_type": "stream",
     "text": [
      "[]\n",
      "0\n",
      "['caballo', 'abeja', 'jirafa', 'ballena']\n",
      "4\n"
     ]
    }
   ],
   "source": [
    "my_list_copy.clear()\n",
    "print(my_list_copy)\n",
    "print(len(my_list_copy))\n",
    "print(my_list)\n",
    "print(len(my_list))"
   ]
  },
  {
   "cell_type": "code",
   "execution_count": 11,
   "id": "e56d378d",
   "metadata": {},
   "outputs": [
    {
     "name": "stdout",
     "output_type": "stream",
     "text": [
      "[]\n",
      "0\n",
      "[]\n",
      "0\n"
     ]
    }
   ],
   "source": [
    "my_list_assigned = my_list\n",
    "my_list_assigned.clear()\n",
    "print(my_list_copy)\n",
    "print(len(my_list_copy))\n",
    "print(my_list)\n",
    "print(len(my_list))"
   ]
  },
  {
   "cell_type": "markdown",
   "id": "ab1f5467",
   "metadata": {},
   "source": [
    "## count\n",
    "Cuenta cuantas veces cuenta una lista"
   ]
  },
  {
   "cell_type": "code",
   "execution_count": 12,
   "id": "5c1b6fa2",
   "metadata": {},
   "outputs": [
    {
     "name": "stdout",
     "output_type": "stream",
     "text": [
      "[100, 300, 500, 100, 200, 100, 300]\n"
     ]
    }
   ],
   "source": [
    "my_list=[100,300,500,100,200,100,300]\n",
    "print(my_list)"
   ]
  },
  {
   "cell_type": "code",
   "execution_count": 15,
   "id": "a6c712b3",
   "metadata": {},
   "outputs": [
    {
     "name": "stdout",
     "output_type": "stream",
     "text": [
      "El numero 100 aparece 3 veces en la lista\n"
     ]
    }
   ],
   "source": [
    "print(\"El numero 100 aparece {} veces en la lista\". format(my_list.count(100)))"
   ]
  },
  {
   "cell_type": "code",
   "execution_count": 16,
   "id": "76f8aeca",
   "metadata": {},
   "outputs": [
    {
     "name": "stdout",
     "output_type": "stream",
     "text": [
      "El numero 100 aparece 2 veces en la lista\n"
     ]
    }
   ],
   "source": [
    "print(\"El numero 100 aparece {} veces en la lista\". format(my_list.count(300)))"
   ]
  },
  {
   "cell_type": "markdown",
   "id": "192b634b",
   "metadata": {},
   "source": [
    "## index\n",
    "Obtiene el primer indice de una lista que hace match con el elemento solicitado"
   ]
  },
  {
   "cell_type": "code",
   "execution_count": 17,
   "id": "6349dcc7",
   "metadata": {},
   "outputs": [
    {
     "name": "stdout",
     "output_type": "stream",
     "text": [
      "[100, 300, 500, 100, 200, 100, 300]\n"
     ]
    }
   ],
   "source": [
    "my_list=[100,300,500,100,200,100,300]\n",
    "print(my_list)"
   ]
  },
  {
   "cell_type": "code",
   "execution_count": 20,
   "id": "ae814aac",
   "metadata": {},
   "outputs": [
    {
     "name": "stdout",
     "output_type": "stream",
     "text": [
      "El indice de la primera aparición del número 100 es 0\n"
     ]
    }
   ],
   "source": [
    "print(\"El indice de la primera aparición del número 100 es {}\". format(my_list.index(100)))"
   ]
  },
  {
   "cell_type": "code",
   "execution_count": 21,
   "id": "2a01f07f",
   "metadata": {},
   "outputs": [
    {
     "name": "stdout",
     "output_type": "stream",
     "text": [
      "El indice de la primera aparición del número 300 es 1\n"
     ]
    }
   ],
   "source": [
    "print(\"El indice de la primera aparición del número 300 es {}\". format(my_list.index(300)))"
   ]
  },
  {
   "cell_type": "markdown",
   "id": "3225fb4b",
   "metadata": {},
   "source": [
    "## Extend\n",
    "Combina 2 listas"
   ]
  },
  {
   "cell_type": "code",
   "execution_count": 1,
   "id": "f7242e33",
   "metadata": {},
   "outputs": [
    {
     "name": "stdout",
     "output_type": "stream",
     "text": [
      "['caballo', 'abeja', 'jirafa', 'ballena']\n",
      "4\n"
     ]
    }
   ],
   "source": [
    "my_list=[\"caballo\",\"abeja\",\"jirafa\",\"ballena\"]\n",
    "print(my_list)\n",
    "print(len(my_list))"
   ]
  },
  {
   "cell_type": "code",
   "execution_count": 2,
   "id": "bea30b2b",
   "metadata": {},
   "outputs": [
    {
     "name": "stdout",
     "output_type": "stream",
     "text": [
      "['caballo', 'abeja', 'jirafa', 'ballena', 'delfin', 'gato']\n",
      "6\n"
     ]
    }
   ],
   "source": [
    "my_list_2=[\"delfin\",\"gato\"]\n",
    "my_list.extend(my_list_2)\n",
    "print(my_list)\n",
    "print(len(my_list))"
   ]
  },
  {
   "cell_type": "code",
   "execution_count": 3,
   "id": "d377dd44",
   "metadata": {},
   "outputs": [
    {
     "name": "stdout",
     "output_type": "stream",
     "text": [
      "[300, 500, 100, 200]\n",
      "4\n"
     ]
    }
   ],
   "source": [
    "my_list=[300,500,100,200]\n",
    "print(my_list)\n",
    "print(len(my_list))"
   ]
  },
  {
   "cell_type": "code",
   "execution_count": 5,
   "id": "b761c76c",
   "metadata": {},
   "outputs": [
    {
     "name": "stdout",
     "output_type": "stream",
     "text": [
      "[300, 500, 100, 200, 12, 133, 444, 12, 133, 444]\n",
      "10\n"
     ]
    }
   ],
   "source": [
    "my_list_2=[12,133,444]\n",
    "my_list.extend(my_list_2)\n",
    "print(my_list)\n",
    "print(len(my_list))"
   ]
  },
  {
   "cell_type": "markdown",
   "id": "c8584041",
   "metadata": {},
   "source": [
    "## pop\n",
    "\n",
    "Elimina los elementos de una lista basados en los indices"
   ]
  },
  {
   "cell_type": "code",
   "execution_count": 6,
   "id": "72806cfb",
   "metadata": {},
   "outputs": [
    {
     "name": "stdout",
     "output_type": "stream",
     "text": [
      "[100, 200, 300, 400, 500, 100]\n",
      "6\n"
     ]
    }
   ],
   "source": [
    "my_list=[100,200,300,400,500,100]\n",
    "print(my_list)\n",
    "print(len(my_list))\n"
   ]
  },
  {
   "cell_type": "code",
   "execution_count": 7,
   "id": "7255cace",
   "metadata": {},
   "outputs": [
    {
     "name": "stdout",
     "output_type": "stream",
     "text": [
      "[100, 200, 300, 400, 500]\n",
      "5\n"
     ]
    }
   ],
   "source": [
    "my_list.pop()\n",
    "print(my_list)\n",
    "print(len(my_list))"
   ]
  },
  {
   "cell_type": "code",
   "execution_count": 8,
   "id": "7c7878fb",
   "metadata": {},
   "outputs": [
    {
     "name": "stdout",
     "output_type": "stream",
     "text": [
      "[100, 200, 400, 500]\n",
      "4\n"
     ]
    }
   ],
   "source": [
    "my_list.pop(2)\n",
    "print(my_list)\n",
    "print(len(my_list))"
   ]
  },
  {
   "cell_type": "markdown",
   "id": "d483f273",
   "metadata": {},
   "source": [
    "## remove\n",
    "Elimina la primera aparición de un valor en una lista"
   ]
  },
  {
   "cell_type": "code",
   "execution_count": 11,
   "id": "299abf1a",
   "metadata": {},
   "outputs": [
    {
     "name": "stdout",
     "output_type": "stream",
     "text": [
      "[100, 200, 300, 400, 500, 100, 900]\n",
      "7\n"
     ]
    }
   ],
   "source": [
    "my_list=[100,200,300,400,500,100,900]\n",
    "print(my_list)\n",
    "print(len(my_list))\n"
   ]
  },
  {
   "cell_type": "code",
   "execution_count": 12,
   "id": "826d0424",
   "metadata": {},
   "outputs": [
    {
     "name": "stdout",
     "output_type": "stream",
     "text": [
      "[200, 300, 400, 500, 100, 900]\n",
      "6\n"
     ]
    }
   ],
   "source": [
    "my_list.remove(100)\n",
    "print(my_list)\n",
    "print(len(my_list))"
   ]
  },
  {
   "cell_type": "code",
   "execution_count": 13,
   "id": "efb66513",
   "metadata": {},
   "outputs": [
    {
     "name": "stdout",
     "output_type": "stream",
     "text": [
      "[200, 300, 400, 500, 900]\n",
      "5\n"
     ]
    }
   ],
   "source": [
    "my_list.remove(100)\n",
    "print(my_list)\n",
    "print(len(my_list))"
   ]
  },
  {
   "cell_type": "code",
   "execution_count": null,
   "id": "4317cbb1",
   "metadata": {},
   "outputs": [],
   "source": [
    "# error - por que el valor debe de estar en la lista \n",
    "my_list.remove(600)\n",
    "print(my_list)\n",
    "print(len(my_list))"
   ]
  },
  {
   "cell_type": "markdown",
   "id": "b61e7940",
   "metadata": {},
   "source": [
    "## reverse\n",
    "Invierte el orden de una lista\n"
   ]
  },
  {
   "cell_type": "code",
   "execution_count": 15,
   "id": "5361de86",
   "metadata": {},
   "outputs": [
    {
     "name": "stdout",
     "output_type": "stream",
     "text": [
      "['caballo', 'abeja', 'jirafa', 'ballena']\n",
      "4\n"
     ]
    }
   ],
   "source": [
    "my_list=[\"caballo\",\"abeja\",\"jirafa\",\"ballena\"]\n",
    "print(my_list)\n",
    "print(len(my_list))"
   ]
  },
  {
   "cell_type": "code",
   "execution_count": 16,
   "id": "73d025d1",
   "metadata": {},
   "outputs": [
    {
     "name": "stdout",
     "output_type": "stream",
     "text": [
      "['ballena', 'jirafa', 'abeja', 'caballo']\n",
      "4\n"
     ]
    }
   ],
   "source": [
    "my_list.reverse()\n",
    "print(my_list)\n",
    "print(len(my_list))"
   ]
  },
  {
   "cell_type": "markdown",
   "id": "559baf41",
   "metadata": {},
   "source": [
    "## sort \n",
    "Ordena los elementos de una lista\n"
   ]
  },
  {
   "cell_type": "code",
   "execution_count": 17,
   "id": "52f9c5ec",
   "metadata": {},
   "outputs": [
    {
     "name": "stdout",
     "output_type": "stream",
     "text": [
      "[11, 3, 4, 5, 6, 20, 111]\n",
      "[3, 4, 5, 6, 11, 20, 111]\n"
     ]
    }
   ],
   "source": [
    "my_list=[11,3,4,5,6,20,111]\n",
    "print(my_list)\n",
    "my_list.sort()\n",
    "print(my_list)"
   ]
  },
  {
   "cell_type": "code",
   "execution_count": 18,
   "id": "a32fb742",
   "metadata": {},
   "outputs": [
    {
     "name": "stdout",
     "output_type": "stream",
     "text": [
      "[11, 3, 4, 5, 6, 20, 111]\n",
      "[111, 20, 11, 6, 5, 4, 3]\n"
     ]
    }
   ],
   "source": [
    "my_list=[11,3,4,5,6,20,111]\n",
    "print(my_list)\n",
    "my_list.sort(reverse=True)\n",
    "print(my_list)"
   ]
  },
  {
   "cell_type": "code",
   "execution_count": 19,
   "id": "17aaa2c1",
   "metadata": {},
   "outputs": [
    {
     "name": "stdout",
     "output_type": "stream",
     "text": [
      "['caballo', 'abeja', 'perro', 'delfin']\n",
      "['abeja', 'caballo', 'delfin', 'perro']\n"
     ]
    }
   ],
   "source": [
    "my_list=[\"caballo\",\"abeja\",\"perro\",\"delfin\"]\n",
    "print(my_list)\n",
    "my_list.sort()\n",
    "print(my_list)"
   ]
  },
  {
   "cell_type": "code",
   "execution_count": 20,
   "id": "891c16e8",
   "metadata": {},
   "outputs": [
    {
     "name": "stdout",
     "output_type": "stream",
     "text": [
      "['caballo', 'abeja', 'perro', 'delfin']\n",
      "['perro', 'delfin', 'caballo', 'abeja']\n"
     ]
    }
   ],
   "source": [
    "my_list=[\"caballo\",\"abeja\",\"perro\",\"delfin\"]\n",
    "print(my_list)\n",
    "my_list.sort(reverse=True)\n",
    "print(my_list)"
   ]
  },
  {
   "cell_type": "markdown",
   "id": "47fb2e8a",
   "metadata": {},
   "source": [
    "## Obtener un elemento aleatorio de una lista"
   ]
  },
  {
   "cell_type": "code",
   "execution_count": 21,
   "id": "b00ec33b",
   "metadata": {},
   "outputs": [
    {
     "name": "stdout",
     "output_type": "stream",
     "text": [
      "[1, 44, 5, 66, 4, 3, 55, 5]\n"
     ]
    }
   ],
   "source": [
    "my_list=[1,44,5,66,4,3,55,5]\n",
    "print(my_list)"
   ]
  },
  {
   "cell_type": "code",
   "execution_count": 22,
   "id": "7a825658",
   "metadata": {},
   "outputs": [],
   "source": [
    "import random"
   ]
  },
  {
   "cell_type": "code",
   "execution_count": 24,
   "id": "2ee518c8",
   "metadata": {},
   "outputs": [
    {
     "name": "stdout",
     "output_type": "stream",
     "text": [
      "3\n"
     ]
    }
   ],
   "source": [
    "print(random.choice(my_list))"
   ]
  },
  {
   "cell_type": "code",
   "execution_count": 25,
   "id": "fe3d9f34",
   "metadata": {},
   "outputs": [
    {
     "name": "stdout",
     "output_type": "stream",
     "text": [
      "3\n"
     ]
    }
   ],
   "source": [
    "print(random.choice(my_list))"
   ]
  },
  {
   "cell_type": "code",
   "execution_count": 26,
   "id": "d714c575",
   "metadata": {},
   "outputs": [
    {
     "name": "stdout",
     "output_type": "stream",
     "text": [
      "5\n"
     ]
    }
   ],
   "source": [
    "print(random.choice(my_list))"
   ]
  },
  {
   "cell_type": "code",
   "execution_count": 27,
   "id": "c9ddd4df",
   "metadata": {},
   "outputs": [
    {
     "name": "stdout",
     "output_type": "stream",
     "text": [
      "5\n"
     ]
    }
   ],
   "source": [
    "print(random.choice(my_list))"
   ]
  },
  {
   "cell_type": "code",
   "execution_count": 28,
   "id": "72bf5def",
   "metadata": {},
   "outputs": [
    {
     "name": "stdout",
     "output_type": "stream",
     "text": [
      "44\n"
     ]
    }
   ],
   "source": [
    "print(random.choice(my_list))"
   ]
  },
  {
   "cell_type": "code",
   "execution_count": 29,
   "id": "be3608e7",
   "metadata": {},
   "outputs": [
    {
     "name": "stdout",
     "output_type": "stream",
     "text": [
      "5\n"
     ]
    }
   ],
   "source": [
    "print(random.choice(my_list))"
   ]
  },
  {
   "cell_type": "code",
   "execution_count": null,
   "id": "c7abe9fc",
   "metadata": {},
   "outputs": [],
   "source": []
  }
 ],
 "metadata": {
  "kernelspec": {
   "display_name": "Python 3 (ipykernel)",
   "language": "python",
   "name": "python3"
  },
  "language_info": {
   "codemirror_mode": {
    "name": "ipython",
    "version": 3
   },
   "file_extension": ".py",
   "mimetype": "text/x-python",
   "name": "python",
   "nbconvert_exporter": "python",
   "pygments_lexer": "ipython3",
   "version": "3.11.5"
  }
 },
 "nbformat": 4,
 "nbformat_minor": 5
}
