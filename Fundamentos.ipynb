{
 "cells": [
  {
   "cell_type": "markdown",
   "id": "90e1a1fa",
   "metadata": {},
   "source": [
    "## Python dstingue entre mayusculas y minusculas"
   ]
  },
  {
   "cell_type": "code",
   "execution_count": 2,
   "id": "7b737ba0",
   "metadata": {},
   "outputs": [
    {
     "name": "stdout",
     "output_type": "stream",
     "text": [
      "El curso es: Curso Backend Python\n"
     ]
    }
   ],
   "source": [
    "A=\"Curso Backend Python\"\n",
    "print(\"El curso es:\", A)"
   ]
  },
  {
   "cell_type": "code",
   "execution_count": 4,
   "id": "5a887563",
   "metadata": {},
   "outputs": [
    {
     "name": "stdout",
     "output_type": "stream",
     "text": [
      "El curso es: Curso Backend Python\n"
     ]
    }
   ],
   "source": [
    "a=\"Curso Backend Python\"\n",
    "print(\"El curso es:\", a)"
   ]
  },
  {
   "cell_type": "markdown",
   "id": "bf1de3bd",
   "metadata": {},
   "source": [
    "# Palabras Recervadas."
   ]
  },
  {
   "cell_type": "code",
   "execution_count": 5,
   "id": "5c231898",
   "metadata": {},
   "outputs": [
    {
     "name": "stdout",
     "output_type": "stream",
     "text": [
      "\n",
      "Here is a list of the Python keywords.  Enter any keyword to get more help.\n",
      "\n",
      "False               class               from                or\n",
      "None                continue            global              pass\n",
      "True                def                 if                  raise\n",
      "and                 del                 import              return\n",
      "as                  elif                in                  try\n",
      "assert              else                is                  while\n",
      "async               except              lambda              with\n",
      "await               finally             nonlocal            yield\n",
      "break               for                 not                 \n",
      "\n"
     ]
    }
   ],
   "source": [
    "help(\"keywords\")"
   ]
  },
  {
   "cell_type": "markdown",
   "id": "51a82588",
   "metadata": {},
   "source": [
    "## Caracteres de escape en python"
   ]
  },
  {
   "cell_type": "code",
   "execution_count": 6,
   "id": "bd2b5eb1",
   "metadata": {},
   "outputs": [
    {
     "data": {
      "text/plain": [
       "\"'\""
      ]
     },
     "execution_count": 6,
     "metadata": {},
     "output_type": "execute_result"
    }
   ],
   "source": [
    "\"\\'\""
   ]
  },
  {
   "cell_type": "code",
   "execution_count": 7,
   "id": "9cfeb264",
   "metadata": {},
   "outputs": [
    {
     "data": {
      "text/plain": [
       "\"'\""
      ]
     },
     "execution_count": 7,
     "metadata": {},
     "output_type": "execute_result"
    }
   ],
   "source": [
    "\"'\""
   ]
  },
  {
   "cell_type": "code",
   "execution_count": 8,
   "id": "bee02222",
   "metadata": {},
   "outputs": [
    {
     "data": {
      "text/plain": [
       "\"''\""
      ]
     },
     "execution_count": 8,
     "metadata": {},
     "output_type": "execute_result"
    }
   ],
   "source": [
    "\"''\""
   ]
  },
  {
   "cell_type": "code",
   "execution_count": 9,
   "id": "cf4fcf2d",
   "metadata": {},
   "outputs": [
    {
     "ename": "SyntaxError",
     "evalue": "incomplete input (3857640367.py, line 1)",
     "output_type": "error",
     "traceback": [
      "\u001b[1;36m  Cell \u001b[1;32mIn[9], line 1\u001b[1;36m\u001b[0m\n\u001b[1;33m    '''\u001b[0m\n\u001b[1;37m    ^\u001b[0m\n\u001b[1;31mSyntaxError\u001b[0m\u001b[1;31m:\u001b[0m incomplete input\n"
     ]
    }
   ],
   "source": [
    "'''# error"
   ]
  },
  {
   "cell_type": "code",
   "execution_count": 10,
   "id": "3e07a9ad",
   "metadata": {},
   "outputs": [
    {
     "data": {
      "text/plain": [
       "'\"'"
      ]
     },
     "execution_count": 10,
     "metadata": {},
     "output_type": "execute_result"
    }
   ],
   "source": [
    "\"\\\"\" #Double Quote /comilla doble"
   ]
  },
  {
   "cell_type": "code",
   "execution_count": 11,
   "id": "1c5991b3",
   "metadata": {},
   "outputs": [
    {
     "data": {
      "text/plain": [
       "'\\n'"
      ]
     },
     "execution_count": 11,
     "metadata": {},
     "output_type": "execute_result"
    }
   ],
   "source": [
    "\"\\n\" # New line / Salto de linea"
   ]
  },
  {
   "cell_type": "code",
   "execution_count": 13,
   "id": "6f1b2da7",
   "metadata": {},
   "outputs": [
    {
     "name": "stdout",
     "output_type": "stream",
     "text": [
      "Curso Backend\n",
      "Python EBAC\n"
     ]
    }
   ],
   "source": [
    "my_course = \"Curso Backend\\nPython EBAC\"\n",
    "print(my_course)"
   ]
  },
  {
   "cell_type": "code",
   "execution_count": 15,
   "id": "cdcbf811",
   "metadata": {},
   "outputs": [
    {
     "name": "stdout",
     "output_type": "stream",
     "text": [
      "Curso Backend\tPython\tEBAC\n"
     ]
    }
   ],
   "source": [
    "my_course = \"Curso Backend\\tPython\\tEBAC\"\n",
    "print(my_course)"
   ]
  },
  {
   "cell_type": "markdown",
   "id": "45849845",
   "metadata": {},
   "source": [
    "## Función eval()"
   ]
  },
  {
   "cell_type": "code",
   "execution_count": 1,
   "id": "b6b733df",
   "metadata": {},
   "outputs": [
    {
     "name": "stdout",
     "output_type": "stream",
     "text": [
      "my_numer+100\n"
     ]
    }
   ],
   "source": [
    "my_number=22\n",
    "print(\"my_numer+100\")"
   ]
  },
  {
   "cell_type": "code",
   "execution_count": 4,
   "id": "f2b538ed",
   "metadata": {},
   "outputs": [
    {
     "name": "stdout",
     "output_type": "stream",
     "text": [
      "122\n"
     ]
    }
   ],
   "source": [
    "my_number=22\n",
    "print(eval(\"my_number+100\"))"
   ]
  },
  {
   "cell_type": "code",
   "execution_count": 5,
   "id": "5e019c52",
   "metadata": {},
   "outputs": [
    {
     "name": "stdout",
     "output_type": "stream",
     "text": [
      "ingresa un numero10\n"
     ]
    }
   ],
   "source": [
    "my_input=input(\"ingresa un numero\")"
   ]
  },
  {
   "cell_type": "code",
   "execution_count": 7,
   "id": "4a5d3435",
   "metadata": {},
   "outputs": [
    {
     "data": {
      "text/plain": [
       "'10'"
      ]
     },
     "execution_count": 7,
     "metadata": {},
     "output_type": "execute_result"
    }
   ],
   "source": [
    "my_input"
   ]
  },
  {
   "cell_type": "code",
   "execution_count": 8,
   "id": "c2b9fd6e",
   "metadata": {},
   "outputs": [
    {
     "data": {
      "text/plain": [
       "10"
      ]
     },
     "execution_count": 8,
     "metadata": {},
     "output_type": "execute_result"
    }
   ],
   "source": [
    "eval(my_input)"
   ]
  },
  {
   "cell_type": "code",
   "execution_count": 11,
   "id": "bdaaa773",
   "metadata": {},
   "outputs": [
    {
     "name": "stdout",
     "output_type": "stream",
     "text": [
      "Ingresa un numero: 12345\n",
      "12345\n",
      "<class 'str'>\n"
     ]
    }
   ],
   "source": [
    "my_input=input(\"Ingresa un numero: \")\n",
    "print(my_input)\n",
    "print(type(my_input))\n",
    "# Cadena/ String"
   ]
  },
  {
   "cell_type": "code",
   "execution_count": 12,
   "id": "b54bf2b2",
   "metadata": {},
   "outputs": [
    {
     "name": "stdout",
     "output_type": "stream",
     "text": [
      "Ingresa un numero: 123\n",
      "123\n",
      "<class 'int'>\n"
     ]
    }
   ],
   "source": [
    "my_input=eval(input(\"Ingresa un numero: \"))\n",
    "print(my_input)\n",
    "print(type(my_input))\n",
    "# entero/ int"
   ]
  },
  {
   "cell_type": "markdown",
   "id": "0beaf992",
   "metadata": {},
   "source": [
    "# Función Range() y xrange()"
   ]
  },
  {
   "cell_type": "markdown",
   "id": "9a653763",
   "metadata": {},
   "source": [
    "## range(start,stop,step)"
   ]
  },
  {
   "cell_type": "code",
   "execution_count": 13,
   "id": "703f4213",
   "metadata": {},
   "outputs": [],
   "source": [
    "x=range(10)"
   ]
  },
  {
   "cell_type": "code",
   "execution_count": 14,
   "id": "eb18cb7b",
   "metadata": {},
   "outputs": [
    {
     "data": {
      "text/plain": [
       "range(0, 10)"
      ]
     },
     "execution_count": 14,
     "metadata": {},
     "output_type": "execute_result"
    }
   ],
   "source": [
    "x"
   ]
  },
  {
   "cell_type": "code",
   "execution_count": 16,
   "id": "bd8f6a45",
   "metadata": {},
   "outputs": [
    {
     "name": "stdout",
     "output_type": "stream",
     "text": [
      "0\n",
      "1\n",
      "2\n",
      "3\n",
      "4\n",
      "5\n",
      "6\n",
      "7\n",
      "8\n",
      "9\n"
     ]
    }
   ],
   "source": [
    "for number in x:\n",
    "    print(number)"
   ]
  },
  {
   "cell_type": "code",
   "execution_count": 17,
   "id": "6d5a183b",
   "metadata": {},
   "outputs": [
    {
     "name": "stdout",
     "output_type": "stream",
     "text": [
      "3\n",
      "4\n",
      "5\n"
     ]
    }
   ],
   "source": [
    "x=range(3,6)\n",
    "for number in x:\n",
    "    print(number)"
   ]
  },
  {
   "cell_type": "code",
   "execution_count": 19,
   "id": "a5002413",
   "metadata": {},
   "outputs": [
    {
     "name": "stdout",
     "output_type": "stream",
     "text": [
      "3\n",
      "5\n",
      "7\n",
      "9\n",
      "11\n",
      "13\n",
      "15\n",
      "17\n",
      "19\n"
     ]
    }
   ],
   "source": [
    "x=range(3,20,2)\n",
    "for number in x:\n",
    "    print (number)"
   ]
  },
  {
   "cell_type": "markdown",
   "id": "b217a4dc",
   "metadata": {},
   "source": [
    "## Mutabilidad e Inmutabilidad"
   ]
  },
  {
   "cell_type": "code",
   "execution_count": 25,
   "id": "fdf10f01",
   "metadata": {},
   "outputs": [],
   "source": [
    "tuplel = (1,2,3,4,5)"
   ]
  },
  {
   "cell_type": "code",
   "execution_count": 26,
   "id": "4220b292",
   "metadata": {},
   "outputs": [
    {
     "data": {
      "text/plain": [
       "(1, 2, 3, 4, 5)"
      ]
     },
     "execution_count": 26,
     "metadata": {},
     "output_type": "execute_result"
    }
   ],
   "source": [
    "tuplel"
   ]
  },
  {
   "cell_type": "code",
   "execution_count": 35,
   "id": "69cfa8da",
   "metadata": {},
   "outputs": [
    {
     "ename": "NameError",
     "evalue": "name 'tuble1' is not defined",
     "output_type": "error",
     "traceback": [
      "\u001b[1;31m---------------------------------------------------------------------------\u001b[0m",
      "\u001b[1;31mNameError\u001b[0m                                 Traceback (most recent call last)",
      "Cell \u001b[1;32mIn[35], line 2\u001b[0m\n\u001b[0;32m      1\u001b[0m \u001b[38;5;66;03m#Inmutabilidar\u001b[39;00m\n\u001b[1;32m----> 2\u001b[0m tuble1[\u001b[38;5;241m0\u001b[39m]\u001b[38;5;241m=\u001b[39m\u001b[38;5;241m10\u001b[39m\n",
      "\u001b[1;31mNameError\u001b[0m: name 'tuble1' is not defined"
     ]
    }
   ],
   "source": [
    "#Inmutabilidar\n",
    "tuble1[0]=10"
   ]
  },
  {
   "cell_type": "code",
   "execution_count": 30,
   "id": "58475956",
   "metadata": {},
   "outputs": [
    {
     "ename": "TypeError",
     "evalue": "'str' object does not support item assignment",
     "output_type": "error",
     "traceback": [
      "\u001b[1;31m---------------------------------------------------------------------------\u001b[0m",
      "\u001b[1;31mTypeError\u001b[0m                                 Traceback (most recent call last)",
      "Cell \u001b[1;32mIn[30], line 2\u001b[0m\n\u001b[0;32m      1\u001b[0m my_string\u001b[38;5;241m=\u001b[39m\u001b[38;5;124m\"\u001b[39m\u001b[38;5;124mAprendiendo sobre inmutabilidad\u001b[39m\u001b[38;5;124m\"\u001b[39m\n\u001b[1;32m----> 2\u001b[0m my_string[\u001b[38;5;241m0\u001b[39m]\u001b[38;5;241m=\u001b[39m\u001b[38;5;124m'\u001b[39m\u001b[38;5;124ma\u001b[39m\u001b[38;5;124m'\u001b[39m\n",
      "\u001b[1;31mTypeError\u001b[0m: 'str' object does not support item assignment"
     ]
    }
   ],
   "source": [
    "my_string=\"Aprendiendo sobre inmutabilidad\"\n",
    "my_string[0]='a'"
   ]
  },
  {
   "cell_type": "code",
   "execution_count": 33,
   "id": "c866486c",
   "metadata": {},
   "outputs": [],
   "source": [
    "colores=['rojo','amarillo','verde','blanco']\n",
    "colores[0]='rojo2'"
   ]
  },
  {
   "cell_type": "code",
   "execution_count": 34,
   "id": "0a6bb706",
   "metadata": {},
   "outputs": [
    {
     "data": {
      "text/plain": [
       "['rojo2', 'amarillo', 'verde', 'blanco']"
      ]
     },
     "execution_count": 34,
     "metadata": {},
     "output_type": "execute_result"
    }
   ],
   "source": [
    "colores"
   ]
  },
  {
   "cell_type": "markdown",
   "id": "c21c7bfe",
   "metadata": {},
   "source": [
    "# Función print()"
   ]
  },
  {
   "cell_type": "code",
   "execution_count": 36,
   "id": "3ef66c21",
   "metadata": {},
   "outputs": [],
   "source": [
    "# la funcion se usa para imprimir un resultado"
   ]
  },
  {
   "cell_type": "code",
   "execution_count": 37,
   "id": "292d3b56",
   "metadata": {},
   "outputs": [
    {
     "name": "stdout",
     "output_type": "stream",
     "text": [
      "El valor de my_variabel: 1234\n"
     ]
    }
   ],
   "source": [
    "my_variabel=1234\n",
    "print(\"El valor de my_variabel:\",my_variabel)"
   ]
  },
  {
   "cell_type": "code",
   "execution_count": 38,
   "id": "82d27e1d",
   "metadata": {},
   "outputs": [
    {
     "name": "stdout",
     "output_type": "stream",
     "text": [
      "El valor de d es: 800\n"
     ]
    }
   ],
   "source": [
    "a=100\n",
    "b=500\n",
    "c=200\n",
    "d=a+b+c\n",
    "print(\"El valor de d es:\",d)"
   ]
  },
  {
   "cell_type": "code",
   "execution_count": 39,
   "id": "f8a308f2",
   "metadata": {},
   "outputs": [],
   "source": [
    "import builtins"
   ]
  },
  {
   "cell_type": "code",
   "execution_count": 40,
   "id": "8299c1d5",
   "metadata": {},
   "outputs": [
    {
     "name": "stdout",
     "output_type": "stream",
     "text": [
      "Help on built-in function print in module builtins:\n",
      "\n",
      "print(*args, sep=' ', end='\\n', file=None, flush=False)\n",
      "    Prints the values to a stream, or to sys.stdout by default.\n",
      "    \n",
      "    sep\n",
      "      string inserted between values, default a space.\n",
      "    end\n",
      "      string appended after the last value, default a newline.\n",
      "    file\n",
      "      a file-like object (stream); defaults to the current sys.stdout.\n",
      "    flush\n",
      "      whether to forcibly flush the stream.\n",
      "\n"
     ]
    }
   ],
   "source": [
    "help(builtins.print) # te da referencias de alguna funcion de builtins que ya viene por default"
   ]
  },
  {
   "cell_type": "code",
   "execution_count": 41,
   "id": "cae6e5c9",
   "metadata": {},
   "outputs": [
    {
     "data": {
      "text/plain": [
       "['ArithmeticError',\n",
       " 'AssertionError',\n",
       " 'AttributeError',\n",
       " 'BaseException',\n",
       " 'BaseExceptionGroup',\n",
       " 'BlockingIOError',\n",
       " 'BrokenPipeError',\n",
       " 'BufferError',\n",
       " 'BytesWarning',\n",
       " 'ChildProcessError',\n",
       " 'ConnectionAbortedError',\n",
       " 'ConnectionError',\n",
       " 'ConnectionRefusedError',\n",
       " 'ConnectionResetError',\n",
       " 'DeprecationWarning',\n",
       " 'EOFError',\n",
       " 'Ellipsis',\n",
       " 'EncodingWarning',\n",
       " 'EnvironmentError',\n",
       " 'Exception',\n",
       " 'ExceptionGroup',\n",
       " 'False',\n",
       " 'FileExistsError',\n",
       " 'FileNotFoundError',\n",
       " 'FloatingPointError',\n",
       " 'FutureWarning',\n",
       " 'GeneratorExit',\n",
       " 'IOError',\n",
       " 'ImportError',\n",
       " 'ImportWarning',\n",
       " 'IndentationError',\n",
       " 'IndexError',\n",
       " 'InterruptedError',\n",
       " 'IsADirectoryError',\n",
       " 'KeyError',\n",
       " 'KeyboardInterrupt',\n",
       " 'LookupError',\n",
       " 'MemoryError',\n",
       " 'ModuleNotFoundError',\n",
       " 'NameError',\n",
       " 'None',\n",
       " 'NotADirectoryError',\n",
       " 'NotImplemented',\n",
       " 'NotImplementedError',\n",
       " 'OSError',\n",
       " 'OverflowError',\n",
       " 'PendingDeprecationWarning',\n",
       " 'PermissionError',\n",
       " 'ProcessLookupError',\n",
       " 'RecursionError',\n",
       " 'ReferenceError',\n",
       " 'ResourceWarning',\n",
       " 'RuntimeError',\n",
       " 'RuntimeWarning',\n",
       " 'StopAsyncIteration',\n",
       " 'StopIteration',\n",
       " 'SyntaxError',\n",
       " 'SyntaxWarning',\n",
       " 'SystemError',\n",
       " 'SystemExit',\n",
       " 'TabError',\n",
       " 'TimeoutError',\n",
       " 'True',\n",
       " 'TypeError',\n",
       " 'UnboundLocalError',\n",
       " 'UnicodeDecodeError',\n",
       " 'UnicodeEncodeError',\n",
       " 'UnicodeError',\n",
       " 'UnicodeTranslateError',\n",
       " 'UnicodeWarning',\n",
       " 'UserWarning',\n",
       " 'ValueError',\n",
       " 'Warning',\n",
       " 'WindowsError',\n",
       " 'ZeroDivisionError',\n",
       " '__IPYTHON__',\n",
       " '__build_class__',\n",
       " '__debug__',\n",
       " '__doc__',\n",
       " '__import__',\n",
       " '__loader__',\n",
       " '__name__',\n",
       " '__package__',\n",
       " '__spec__',\n",
       " 'abs',\n",
       " 'aiter',\n",
       " 'all',\n",
       " 'anext',\n",
       " 'any',\n",
       " 'ascii',\n",
       " 'bin',\n",
       " 'bool',\n",
       " 'breakpoint',\n",
       " 'bytearray',\n",
       " 'bytes',\n",
       " 'callable',\n",
       " 'chr',\n",
       " 'classmethod',\n",
       " 'compile',\n",
       " 'complex',\n",
       " 'copyright',\n",
       " 'credits',\n",
       " 'delattr',\n",
       " 'dict',\n",
       " 'dir',\n",
       " 'display',\n",
       " 'divmod',\n",
       " 'enumerate',\n",
       " 'eval',\n",
       " 'exec',\n",
       " 'execfile',\n",
       " 'filter',\n",
       " 'float',\n",
       " 'format',\n",
       " 'frozenset',\n",
       " 'get_ipython',\n",
       " 'getattr',\n",
       " 'globals',\n",
       " 'hasattr',\n",
       " 'hash',\n",
       " 'help',\n",
       " 'hex',\n",
       " 'id',\n",
       " 'input',\n",
       " 'int',\n",
       " 'isinstance',\n",
       " 'issubclass',\n",
       " 'iter',\n",
       " 'len',\n",
       " 'license',\n",
       " 'list',\n",
       " 'locals',\n",
       " 'map',\n",
       " 'max',\n",
       " 'memoryview',\n",
       " 'min',\n",
       " 'next',\n",
       " 'object',\n",
       " 'oct',\n",
       " 'open',\n",
       " 'ord',\n",
       " 'pow',\n",
       " 'print',\n",
       " 'property',\n",
       " 'range',\n",
       " 'repr',\n",
       " 'reversed',\n",
       " 'round',\n",
       " 'runfile',\n",
       " 'set',\n",
       " 'setattr',\n",
       " 'slice',\n",
       " 'sorted',\n",
       " 'staticmethod',\n",
       " 'str',\n",
       " 'sum',\n",
       " 'super',\n",
       " 'tuple',\n",
       " 'type',\n",
       " 'vars',\n",
       " 'zip']"
      ]
     },
     "execution_count": 41,
     "metadata": {},
     "output_type": "execute_result"
    }
   ],
   "source": [
    "dir(builtins) #muestra todas las finciones que ya estan por default"
   ]
  },
  {
   "cell_type": "markdown",
   "id": "d3b4c6d8",
   "metadata": {},
   "source": [
    "##  Función Type()"
   ]
  },
  {
   "cell_type": "code",
   "execution_count": 47,
   "id": "83c47c3b",
   "metadata": {},
   "outputs": [
    {
     "name": "stdout",
     "output_type": "stream",
     "text": [
      "hola mundo\n",
      "<class 'str'>\n",
      "123\n",
      "<class 'int'>\n",
      "3.5\n",
      "<class 'float'>\n"
     ]
    }
   ],
   "source": [
    "\n",
    "variable1=\"hola mundo\"\n",
    "print(variable1)\n",
    "\n",
    "# enteros /int\n",
    "print(type(variable1))\n",
    "variable2=123\n",
    "print(variable2)\n",
    "\n",
    "\n",
    "# flotantes /float\n",
    "print(type(variable2))\n",
    "variable3=3.5\n",
    "print(variable3)\n",
    "print(type(variable3))\n"
   ]
  },
  {
   "cell_type": "code",
   "execution_count": 48,
   "id": "a3733a4e",
   "metadata": {},
   "outputs": [
    {
     "name": "stdout",
     "output_type": "stream",
     "text": [
      "\n",
      "<class 'str'>\n"
     ]
    }
   ],
   "source": [
    "# Cadenas/string\n",
    "v_string=\"\"\n",
    "print(v_string)\n",
    "print(type(v_string))"
   ]
  },
  {
   "cell_type": "code",
   "execution_count": 51,
   "id": "e9018132",
   "metadata": {},
   "outputs": [
    {
     "name": "stdout",
     "output_type": "stream",
     "text": [
      "True\n",
      "<class 'bool'>\n"
     ]
    }
   ],
   "source": [
    "# Boolean True\n",
    "my_bolean=True\n",
    "print(my_bolean)\n",
    "print(type(my_bolean))\n"
   ]
  },
  {
   "cell_type": "code",
   "execution_count": 52,
   "id": "a15c0070",
   "metadata": {},
   "outputs": [
    {
     "name": "stdout",
     "output_type": "stream",
     "text": [
      "False\n",
      "<class 'bool'>\n"
     ]
    }
   ],
   "source": [
    "# Boolean False\n",
    "my_bolean=False\n",
    "print(my_bolean)\n",
    "print(type(my_bolean))\n"
   ]
  },
  {
   "cell_type": "code",
   "execution_count": 53,
   "id": "6b529627",
   "metadata": {},
   "outputs": [
    {
     "name": "stdout",
     "output_type": "stream",
     "text": [
      "[1, 2, 4]\n",
      "<class 'list'>\n"
     ]
    }
   ],
   "source": [
    "# Listas/ list siempre van estre corchetes\n",
    "my_list=[1,2,4]\n",
    "print(my_list)\n",
    "print(type(my_list))"
   ]
  },
  {
   "cell_type": "code",
   "execution_count": 54,
   "id": "f963a70b",
   "metadata": {},
   "outputs": [
    {
     "name": "stdout",
     "output_type": "stream",
     "text": [
      "(1, 2, 3, 4)\n",
      "<class 'tuple'>\n"
     ]
    }
   ],
   "source": [
    "# tuplas/tuplesiempre van estre parentesis\n",
    "my_tuple=(1,2,3,4)\n",
    "print(my_tuple)\n",
    "print(type(my_tuple))"
   ]
  },
  {
   "cell_type": "code",
   "execution_count": 56,
   "id": "bc8a1a1d",
   "metadata": {},
   "outputs": [
    {
     "name": "stdout",
     "output_type": "stream",
     "text": [
      "{1, 2.5, 'hola'}\n",
      "<class 'set'>\n"
     ]
    }
   ],
   "source": [
    "#set siempre van estre llaves\n",
    "my_set={1,\"hola\",2.5}\n",
    "print(my_set)\n",
    "print(type(my_set))"
   ]
  },
  {
   "cell_type": "code",
   "execution_count": 57,
   "id": "b15ceb6d",
   "metadata": {},
   "outputs": [
    {
     "name": "stdout",
     "output_type": "stream",
     "text": [
      "{'a': 20, 'b': 50, 'c': 35}\n",
      "<class 'dict'>\n"
     ]
    }
   ],
   "source": [
    "# diccionarios / dict  van estre llaves\n",
    "my_dictionary={\"a\":20,\"b\":50,\"c\":35}\n",
    "print(my_dictionary)\n",
    "print(type(my_dictionary))"
   ]
  },
  {
   "cell_type": "markdown",
   "id": "849b8b32",
   "metadata": {},
   "source": [
    "## Función id()"
   ]
  },
  {
   "cell_type": "markdown",
   "id": "16a5257c",
   "metadata": {},
   "source": [
    "####  funcion para obtener la dirección de memoria"
   ]
  },
  {
   "cell_type": "code",
   "execution_count": 61,
   "id": "5a3942a7",
   "metadata": {},
   "outputs": [
    {
     "name": "stdout",
     "output_type": "stream",
     "text": [
      "Python\n",
      "Python\n",
      "<class 'str'>\n",
      "<class 'str'>\n",
      "140706898207568\n",
      "140706898207568\n"
     ]
    }
   ],
   "source": [
    "#cadena/ String\n",
    "my_cadena=\"Python\"\n",
    "my_cadena3=\"Python\"\n",
    "print(my_cadena)\n",
    "print(my_cadena3)\n",
    "print(type(my_cadena))\n",
    "print(type(my_cadena3))\n",
    "print(id(my_cadena))\n",
    "print(id(my_cadena3))"
   ]
  },
  {
   "cell_type": "code",
   "execution_count": 60,
   "id": "884e0f38",
   "metadata": {},
   "outputs": [
    {
     "name": "stdout",
     "output_type": "stream",
     "text": [
      "Backend\n",
      "<class 'str'>\n",
      "3042052415344\n"
     ]
    }
   ],
   "source": [
    "#cadena/ String\n",
    "my_cadena2=\"Backend\"\n",
    "print(my_cadena2)\n",
    "print(type(my_cadena2))\n",
    "print(id(my_cadena2))"
   ]
  },
  {
   "cell_type": "markdown",
   "id": "90bed57c",
   "metadata": {},
   "source": [
    "##  Múltiples valores de entrada"
   ]
  },
  {
   "cell_type": "code",
   "execution_count": 65,
   "id": "72376101",
   "metadata": {},
   "outputs": [
    {
     "name": "stdout",
     "output_type": "stream",
     "text": [
      "ingresa el valor de my_number:123\n",
      "El valor de my_number es: 123\n"
     ]
    }
   ],
   "source": [
    "my_number=input(\"ingresa el valor de my_number:\")\n",
    "print(\"El valor de my_number es:\",my_number)\n"
   ]
  },
  {
   "cell_type": "code",
   "execution_count": 66,
   "id": "26a62e23",
   "metadata": {},
   "outputs": [
    {
     "name": "stdout",
     "output_type": "stream",
     "text": [
      "Ingresa 3 valores:12 23 15\n",
      "El valor de a es: 12\n",
      "El valor de b es: 23\n",
      "El valor de c es: 15\n"
     ]
    }
   ],
   "source": [
    "a,b,c= input(\"Ingresa 3 valores:\").split()\n",
    "print(\"El valor de a es:\",a)\n",
    "print(\"El valor de b es:\",b)\n",
    "print(\"El valor de c es:\",c)"
   ]
  },
  {
   "cell_type": "code",
   "execution_count": 68,
   "id": "599c6de0",
   "metadata": {},
   "outputs": [
    {
     "name": "stdout",
     "output_type": "stream",
     "text": [
      "Ingresa 3 valores separados por comas:100,200,300\n",
      "El valor de a es: 100\n",
      "El valor de b es: 200\n",
      "El valor de c es: 300\n"
     ]
    }
   ],
   "source": [
    "a,b,c= input(\"Ingresa 3 valores separados por comas:\").split(\",\")\n",
    "print(\"El valor de a es:\",a)\n",
    "print(\"El valor de b es:\",b)\n",
    "print(\"El valor de c es:\",c)"
   ]
  },
  {
   "cell_type": "code",
   "execution_count": null,
   "id": "ad841a7b",
   "metadata": {},
   "outputs": [],
   "source": []
  }
 ],
 "metadata": {
  "kernelspec": {
   "display_name": "Python 3 (ipykernel)",
   "language": "python",
   "name": "python3"
  },
  "language_info": {
   "codemirror_mode": {
    "name": "ipython",
    "version": 3
   },
   "file_extension": ".py",
   "mimetype": "text/x-python",
   "name": "python",
   "nbconvert_exporter": "python",
   "pygments_lexer": "ipython3",
   "version": "3.11.5"
  }
 },
 "nbformat": 4,
 "nbformat_minor": 5
}
